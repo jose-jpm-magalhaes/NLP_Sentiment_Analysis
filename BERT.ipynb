{
  "nbformat": 4,
  "nbformat_minor": 0,
  "metadata": {
    "language_info": {
      "codemirror_mode": {
        "name": "ipython",
        "version": 3
      },
      "file_extension": ".py",
      "mimetype": "text/x-python",
      "name": "python",
      "nbconvert_exporter": "python",
      "pygments_lexer": "ipython3",
      "version": "3.6.9-final"
    },
    "orig_nbformat": 2,
    "kernelspec": {
      "name": "python3",
      "display_name": "Python 3.6.9 64-bit",
      "metadata": {
        "interpreter": {
          "hash": "31f2aee4e71d21fbe5cf8b01ff0e069b9275f58929596ceb00d14d90e3e16cd6"
        }
      }
    },
    "colab": {
      "name": "BERT.ipynb",
      "provenance": [],
      "collapsed_sections": []
    },
    "widgets": {
      "application/vnd.jupyter.widget-state+json": {
        "b545861dc6b245e991c0a05f00d04e9e": {
          "model_module": "@jupyter-widgets/controls",
          "model_name": "HBoxModel",
          "model_module_version": "1.5.0",
          "state": {
            "_dom_classes": [],
            "_model_module": "@jupyter-widgets/controls",
            "_model_module_version": "1.5.0",
            "_model_name": "HBoxModel",
            "_view_count": null,
            "_view_module": "@jupyter-widgets/controls",
            "_view_module_version": "1.5.0",
            "_view_name": "HBoxView",
            "box_style": "",
            "children": [
              "IPY_MODEL_eeaf38a6fb9d4ace9c1f39dc7e57352a",
              "IPY_MODEL_eeec4665a4a4417dbb951a09e20c861f",
              "IPY_MODEL_7370896e3de2432fb4164774cd785960"
            ],
            "layout": "IPY_MODEL_ea07dd14f11e481794515c3ae2953723"
          }
        },
        "eeaf38a6fb9d4ace9c1f39dc7e57352a": {
          "model_module": "@jupyter-widgets/controls",
          "model_name": "HTMLModel",
          "model_module_version": "1.5.0",
          "state": {
            "_dom_classes": [],
            "_model_module": "@jupyter-widgets/controls",
            "_model_module_version": "1.5.0",
            "_model_name": "HTMLModel",
            "_view_count": null,
            "_view_module": "@jupyter-widgets/controls",
            "_view_module_version": "1.5.0",
            "_view_name": "HTMLView",
            "description": "",
            "description_tooltip": null,
            "layout": "IPY_MODEL_ab2aac51ab8b4d74a8c434dee44eabf8",
            "placeholder": "​",
            "style": "IPY_MODEL_a255da9bcabd4711b6072a163e0f6e79",
            "value": "Downloading vocab.txt: 100%"
          }
        },
        "eeec4665a4a4417dbb951a09e20c861f": {
          "model_module": "@jupyter-widgets/controls",
          "model_name": "FloatProgressModel",
          "model_module_version": "1.5.0",
          "state": {
            "_dom_classes": [],
            "_model_module": "@jupyter-widgets/controls",
            "_model_module_version": "1.5.0",
            "_model_name": "FloatProgressModel",
            "_view_count": null,
            "_view_module": "@jupyter-widgets/controls",
            "_view_module_version": "1.5.0",
            "_view_name": "ProgressView",
            "bar_style": "success",
            "description": "",
            "description_tooltip": null,
            "layout": "IPY_MODEL_aaeae2e29e504670a0ec8585d9813586",
            "max": 231508,
            "min": 0,
            "orientation": "horizontal",
            "style": "IPY_MODEL_ee145eab04a54d7e8a523fd3e0d6b1ca",
            "value": 231508
          }
        },
        "7370896e3de2432fb4164774cd785960": {
          "model_module": "@jupyter-widgets/controls",
          "model_name": "HTMLModel",
          "model_module_version": "1.5.0",
          "state": {
            "_dom_classes": [],
            "_model_module": "@jupyter-widgets/controls",
            "_model_module_version": "1.5.0",
            "_model_name": "HTMLModel",
            "_view_count": null,
            "_view_module": "@jupyter-widgets/controls",
            "_view_module_version": "1.5.0",
            "_view_name": "HTMLView",
            "description": "",
            "description_tooltip": null,
            "layout": "IPY_MODEL_c16e1af626104cd5b325294025a8d7fe",
            "placeholder": "​",
            "style": "IPY_MODEL_b35b5e26127e43dd93fbc1c0d0c131b2",
            "value": " 226k/226k [00:00&lt;00:00, 1.48MB/s]"
          }
        },
        "ea07dd14f11e481794515c3ae2953723": {
          "model_module": "@jupyter-widgets/base",
          "model_name": "LayoutModel",
          "model_module_version": "1.2.0",
          "state": {
            "_model_module": "@jupyter-widgets/base",
            "_model_module_version": "1.2.0",
            "_model_name": "LayoutModel",
            "_view_count": null,
            "_view_module": "@jupyter-widgets/base",
            "_view_module_version": "1.2.0",
            "_view_name": "LayoutView",
            "align_content": null,
            "align_items": null,
            "align_self": null,
            "border": null,
            "bottom": null,
            "display": null,
            "flex": null,
            "flex_flow": null,
            "grid_area": null,
            "grid_auto_columns": null,
            "grid_auto_flow": null,
            "grid_auto_rows": null,
            "grid_column": null,
            "grid_gap": null,
            "grid_row": null,
            "grid_template_areas": null,
            "grid_template_columns": null,
            "grid_template_rows": null,
            "height": null,
            "justify_content": null,
            "justify_items": null,
            "left": null,
            "margin": null,
            "max_height": null,
            "max_width": null,
            "min_height": null,
            "min_width": null,
            "object_fit": null,
            "object_position": null,
            "order": null,
            "overflow": null,
            "overflow_x": null,
            "overflow_y": null,
            "padding": null,
            "right": null,
            "top": null,
            "visibility": null,
            "width": null
          }
        },
        "ab2aac51ab8b4d74a8c434dee44eabf8": {
          "model_module": "@jupyter-widgets/base",
          "model_name": "LayoutModel",
          "model_module_version": "1.2.0",
          "state": {
            "_model_module": "@jupyter-widgets/base",
            "_model_module_version": "1.2.0",
            "_model_name": "LayoutModel",
            "_view_count": null,
            "_view_module": "@jupyter-widgets/base",
            "_view_module_version": "1.2.0",
            "_view_name": "LayoutView",
            "align_content": null,
            "align_items": null,
            "align_self": null,
            "border": null,
            "bottom": null,
            "display": null,
            "flex": null,
            "flex_flow": null,
            "grid_area": null,
            "grid_auto_columns": null,
            "grid_auto_flow": null,
            "grid_auto_rows": null,
            "grid_column": null,
            "grid_gap": null,
            "grid_row": null,
            "grid_template_areas": null,
            "grid_template_columns": null,
            "grid_template_rows": null,
            "height": null,
            "justify_content": null,
            "justify_items": null,
            "left": null,
            "margin": null,
            "max_height": null,
            "max_width": null,
            "min_height": null,
            "min_width": null,
            "object_fit": null,
            "object_position": null,
            "order": null,
            "overflow": null,
            "overflow_x": null,
            "overflow_y": null,
            "padding": null,
            "right": null,
            "top": null,
            "visibility": null,
            "width": null
          }
        },
        "a255da9bcabd4711b6072a163e0f6e79": {
          "model_module": "@jupyter-widgets/controls",
          "model_name": "DescriptionStyleModel",
          "model_module_version": "1.5.0",
          "state": {
            "_model_module": "@jupyter-widgets/controls",
            "_model_module_version": "1.5.0",
            "_model_name": "DescriptionStyleModel",
            "_view_count": null,
            "_view_module": "@jupyter-widgets/base",
            "_view_module_version": "1.2.0",
            "_view_name": "StyleView",
            "description_width": ""
          }
        },
        "aaeae2e29e504670a0ec8585d9813586": {
          "model_module": "@jupyter-widgets/base",
          "model_name": "LayoutModel",
          "model_module_version": "1.2.0",
          "state": {
            "_model_module": "@jupyter-widgets/base",
            "_model_module_version": "1.2.0",
            "_model_name": "LayoutModel",
            "_view_count": null,
            "_view_module": "@jupyter-widgets/base",
            "_view_module_version": "1.2.0",
            "_view_name": "LayoutView",
            "align_content": null,
            "align_items": null,
            "align_self": null,
            "border": null,
            "bottom": null,
            "display": null,
            "flex": null,
            "flex_flow": null,
            "grid_area": null,
            "grid_auto_columns": null,
            "grid_auto_flow": null,
            "grid_auto_rows": null,
            "grid_column": null,
            "grid_gap": null,
            "grid_row": null,
            "grid_template_areas": null,
            "grid_template_columns": null,
            "grid_template_rows": null,
            "height": null,
            "justify_content": null,
            "justify_items": null,
            "left": null,
            "margin": null,
            "max_height": null,
            "max_width": null,
            "min_height": null,
            "min_width": null,
            "object_fit": null,
            "object_position": null,
            "order": null,
            "overflow": null,
            "overflow_x": null,
            "overflow_y": null,
            "padding": null,
            "right": null,
            "top": null,
            "visibility": null,
            "width": null
          }
        },
        "ee145eab04a54d7e8a523fd3e0d6b1ca": {
          "model_module": "@jupyter-widgets/controls",
          "model_name": "ProgressStyleModel",
          "model_module_version": "1.5.0",
          "state": {
            "_model_module": "@jupyter-widgets/controls",
            "_model_module_version": "1.5.0",
            "_model_name": "ProgressStyleModel",
            "_view_count": null,
            "_view_module": "@jupyter-widgets/base",
            "_view_module_version": "1.2.0",
            "_view_name": "StyleView",
            "bar_color": null,
            "description_width": ""
          }
        },
        "c16e1af626104cd5b325294025a8d7fe": {
          "model_module": "@jupyter-widgets/base",
          "model_name": "LayoutModel",
          "model_module_version": "1.2.0",
          "state": {
            "_model_module": "@jupyter-widgets/base",
            "_model_module_version": "1.2.0",
            "_model_name": "LayoutModel",
            "_view_count": null,
            "_view_module": "@jupyter-widgets/base",
            "_view_module_version": "1.2.0",
            "_view_name": "LayoutView",
            "align_content": null,
            "align_items": null,
            "align_self": null,
            "border": null,
            "bottom": null,
            "display": null,
            "flex": null,
            "flex_flow": null,
            "grid_area": null,
            "grid_auto_columns": null,
            "grid_auto_flow": null,
            "grid_auto_rows": null,
            "grid_column": null,
            "grid_gap": null,
            "grid_row": null,
            "grid_template_areas": null,
            "grid_template_columns": null,
            "grid_template_rows": null,
            "height": null,
            "justify_content": null,
            "justify_items": null,
            "left": null,
            "margin": null,
            "max_height": null,
            "max_width": null,
            "min_height": null,
            "min_width": null,
            "object_fit": null,
            "object_position": null,
            "order": null,
            "overflow": null,
            "overflow_x": null,
            "overflow_y": null,
            "padding": null,
            "right": null,
            "top": null,
            "visibility": null,
            "width": null
          }
        },
        "b35b5e26127e43dd93fbc1c0d0c131b2": {
          "model_module": "@jupyter-widgets/controls",
          "model_name": "DescriptionStyleModel",
          "model_module_version": "1.5.0",
          "state": {
            "_model_module": "@jupyter-widgets/controls",
            "_model_module_version": "1.5.0",
            "_model_name": "DescriptionStyleModel",
            "_view_count": null,
            "_view_module": "@jupyter-widgets/base",
            "_view_module_version": "1.2.0",
            "_view_name": "StyleView",
            "description_width": ""
          }
        },
        "36f457298abe4c84983a6052ee30339b": {
          "model_module": "@jupyter-widgets/controls",
          "model_name": "HBoxModel",
          "model_module_version": "1.5.0",
          "state": {
            "_dom_classes": [],
            "_model_module": "@jupyter-widgets/controls",
            "_model_module_version": "1.5.0",
            "_model_name": "HBoxModel",
            "_view_count": null,
            "_view_module": "@jupyter-widgets/controls",
            "_view_module_version": "1.5.0",
            "_view_name": "HBoxView",
            "box_style": "",
            "children": [
              "IPY_MODEL_d05a8f73787e49e1b6cd1157271f9e4d",
              "IPY_MODEL_cc0b19097489491f8945f63464ed8113",
              "IPY_MODEL_327f3d42f4eb4dd7bdf8b0f0e328d902"
            ],
            "layout": "IPY_MODEL_a9f02981d9824942a73bfd0d5bdcfc4a"
          }
        },
        "d05a8f73787e49e1b6cd1157271f9e4d": {
          "model_module": "@jupyter-widgets/controls",
          "model_name": "HTMLModel",
          "model_module_version": "1.5.0",
          "state": {
            "_dom_classes": [],
            "_model_module": "@jupyter-widgets/controls",
            "_model_module_version": "1.5.0",
            "_model_name": "HTMLModel",
            "_view_count": null,
            "_view_module": "@jupyter-widgets/controls",
            "_view_module_version": "1.5.0",
            "_view_name": "HTMLView",
            "description": "",
            "description_tooltip": null,
            "layout": "IPY_MODEL_3d4cb26d7c4f4a94a0a93051ee9302c4",
            "placeholder": "​",
            "style": "IPY_MODEL_a050f3a286d84767a60905e2af84b107",
            "value": "Downloading tokenizer_config.json: 100%"
          }
        },
        "cc0b19097489491f8945f63464ed8113": {
          "model_module": "@jupyter-widgets/controls",
          "model_name": "FloatProgressModel",
          "model_module_version": "1.5.0",
          "state": {
            "_dom_classes": [],
            "_model_module": "@jupyter-widgets/controls",
            "_model_module_version": "1.5.0",
            "_model_name": "FloatProgressModel",
            "_view_count": null,
            "_view_module": "@jupyter-widgets/controls",
            "_view_module_version": "1.5.0",
            "_view_name": "ProgressView",
            "bar_style": "success",
            "description": "",
            "description_tooltip": null,
            "layout": "IPY_MODEL_c8205ff2db474720b4f6252680520304",
            "max": 28,
            "min": 0,
            "orientation": "horizontal",
            "style": "IPY_MODEL_b02eade19f4b495097f561802dc2467d",
            "value": 28
          }
        },
        "327f3d42f4eb4dd7bdf8b0f0e328d902": {
          "model_module": "@jupyter-widgets/controls",
          "model_name": "HTMLModel",
          "model_module_version": "1.5.0",
          "state": {
            "_dom_classes": [],
            "_model_module": "@jupyter-widgets/controls",
            "_model_module_version": "1.5.0",
            "_model_name": "HTMLModel",
            "_view_count": null,
            "_view_module": "@jupyter-widgets/controls",
            "_view_module_version": "1.5.0",
            "_view_name": "HTMLView",
            "description": "",
            "description_tooltip": null,
            "layout": "IPY_MODEL_49bcfd1ac9ae432cba32b37c0cfca8c4",
            "placeholder": "​",
            "style": "IPY_MODEL_a2fc8722a197488b976dbb3936523294",
            "value": " 28.0/28.0 [00:00&lt;00:00, 945B/s]"
          }
        },
        "a9f02981d9824942a73bfd0d5bdcfc4a": {
          "model_module": "@jupyter-widgets/base",
          "model_name": "LayoutModel",
          "model_module_version": "1.2.0",
          "state": {
            "_model_module": "@jupyter-widgets/base",
            "_model_module_version": "1.2.0",
            "_model_name": "LayoutModel",
            "_view_count": null,
            "_view_module": "@jupyter-widgets/base",
            "_view_module_version": "1.2.0",
            "_view_name": "LayoutView",
            "align_content": null,
            "align_items": null,
            "align_self": null,
            "border": null,
            "bottom": null,
            "display": null,
            "flex": null,
            "flex_flow": null,
            "grid_area": null,
            "grid_auto_columns": null,
            "grid_auto_flow": null,
            "grid_auto_rows": null,
            "grid_column": null,
            "grid_gap": null,
            "grid_row": null,
            "grid_template_areas": null,
            "grid_template_columns": null,
            "grid_template_rows": null,
            "height": null,
            "justify_content": null,
            "justify_items": null,
            "left": null,
            "margin": null,
            "max_height": null,
            "max_width": null,
            "min_height": null,
            "min_width": null,
            "object_fit": null,
            "object_position": null,
            "order": null,
            "overflow": null,
            "overflow_x": null,
            "overflow_y": null,
            "padding": null,
            "right": null,
            "top": null,
            "visibility": null,
            "width": null
          }
        },
        "3d4cb26d7c4f4a94a0a93051ee9302c4": {
          "model_module": "@jupyter-widgets/base",
          "model_name": "LayoutModel",
          "model_module_version": "1.2.0",
          "state": {
            "_model_module": "@jupyter-widgets/base",
            "_model_module_version": "1.2.0",
            "_model_name": "LayoutModel",
            "_view_count": null,
            "_view_module": "@jupyter-widgets/base",
            "_view_module_version": "1.2.0",
            "_view_name": "LayoutView",
            "align_content": null,
            "align_items": null,
            "align_self": null,
            "border": null,
            "bottom": null,
            "display": null,
            "flex": null,
            "flex_flow": null,
            "grid_area": null,
            "grid_auto_columns": null,
            "grid_auto_flow": null,
            "grid_auto_rows": null,
            "grid_column": null,
            "grid_gap": null,
            "grid_row": null,
            "grid_template_areas": null,
            "grid_template_columns": null,
            "grid_template_rows": null,
            "height": null,
            "justify_content": null,
            "justify_items": null,
            "left": null,
            "margin": null,
            "max_height": null,
            "max_width": null,
            "min_height": null,
            "min_width": null,
            "object_fit": null,
            "object_position": null,
            "order": null,
            "overflow": null,
            "overflow_x": null,
            "overflow_y": null,
            "padding": null,
            "right": null,
            "top": null,
            "visibility": null,
            "width": null
          }
        },
        "a050f3a286d84767a60905e2af84b107": {
          "model_module": "@jupyter-widgets/controls",
          "model_name": "DescriptionStyleModel",
          "model_module_version": "1.5.0",
          "state": {
            "_model_module": "@jupyter-widgets/controls",
            "_model_module_version": "1.5.0",
            "_model_name": "DescriptionStyleModel",
            "_view_count": null,
            "_view_module": "@jupyter-widgets/base",
            "_view_module_version": "1.2.0",
            "_view_name": "StyleView",
            "description_width": ""
          }
        },
        "c8205ff2db474720b4f6252680520304": {
          "model_module": "@jupyter-widgets/base",
          "model_name": "LayoutModel",
          "model_module_version": "1.2.0",
          "state": {
            "_model_module": "@jupyter-widgets/base",
            "_model_module_version": "1.2.0",
            "_model_name": "LayoutModel",
            "_view_count": null,
            "_view_module": "@jupyter-widgets/base",
            "_view_module_version": "1.2.0",
            "_view_name": "LayoutView",
            "align_content": null,
            "align_items": null,
            "align_self": null,
            "border": null,
            "bottom": null,
            "display": null,
            "flex": null,
            "flex_flow": null,
            "grid_area": null,
            "grid_auto_columns": null,
            "grid_auto_flow": null,
            "grid_auto_rows": null,
            "grid_column": null,
            "grid_gap": null,
            "grid_row": null,
            "grid_template_areas": null,
            "grid_template_columns": null,
            "grid_template_rows": null,
            "height": null,
            "justify_content": null,
            "justify_items": null,
            "left": null,
            "margin": null,
            "max_height": null,
            "max_width": null,
            "min_height": null,
            "min_width": null,
            "object_fit": null,
            "object_position": null,
            "order": null,
            "overflow": null,
            "overflow_x": null,
            "overflow_y": null,
            "padding": null,
            "right": null,
            "top": null,
            "visibility": null,
            "width": null
          }
        },
        "b02eade19f4b495097f561802dc2467d": {
          "model_module": "@jupyter-widgets/controls",
          "model_name": "ProgressStyleModel",
          "model_module_version": "1.5.0",
          "state": {
            "_model_module": "@jupyter-widgets/controls",
            "_model_module_version": "1.5.0",
            "_model_name": "ProgressStyleModel",
            "_view_count": null,
            "_view_module": "@jupyter-widgets/base",
            "_view_module_version": "1.2.0",
            "_view_name": "StyleView",
            "bar_color": null,
            "description_width": ""
          }
        },
        "49bcfd1ac9ae432cba32b37c0cfca8c4": {
          "model_module": "@jupyter-widgets/base",
          "model_name": "LayoutModel",
          "model_module_version": "1.2.0",
          "state": {
            "_model_module": "@jupyter-widgets/base",
            "_model_module_version": "1.2.0",
            "_model_name": "LayoutModel",
            "_view_count": null,
            "_view_module": "@jupyter-widgets/base",
            "_view_module_version": "1.2.0",
            "_view_name": "LayoutView",
            "align_content": null,
            "align_items": null,
            "align_self": null,
            "border": null,
            "bottom": null,
            "display": null,
            "flex": null,
            "flex_flow": null,
            "grid_area": null,
            "grid_auto_columns": null,
            "grid_auto_flow": null,
            "grid_auto_rows": null,
            "grid_column": null,
            "grid_gap": null,
            "grid_row": null,
            "grid_template_areas": null,
            "grid_template_columns": null,
            "grid_template_rows": null,
            "height": null,
            "justify_content": null,
            "justify_items": null,
            "left": null,
            "margin": null,
            "max_height": null,
            "max_width": null,
            "min_height": null,
            "min_width": null,
            "object_fit": null,
            "object_position": null,
            "order": null,
            "overflow": null,
            "overflow_x": null,
            "overflow_y": null,
            "padding": null,
            "right": null,
            "top": null,
            "visibility": null,
            "width": null
          }
        },
        "a2fc8722a197488b976dbb3936523294": {
          "model_module": "@jupyter-widgets/controls",
          "model_name": "DescriptionStyleModel",
          "model_module_version": "1.5.0",
          "state": {
            "_model_module": "@jupyter-widgets/controls",
            "_model_module_version": "1.5.0",
            "_model_name": "DescriptionStyleModel",
            "_view_count": null,
            "_view_module": "@jupyter-widgets/base",
            "_view_module_version": "1.2.0",
            "_view_name": "StyleView",
            "description_width": ""
          }
        },
        "51b723e776b84c2580afe0d913e997a5": {
          "model_module": "@jupyter-widgets/controls",
          "model_name": "HBoxModel",
          "model_module_version": "1.5.0",
          "state": {
            "_dom_classes": [],
            "_model_module": "@jupyter-widgets/controls",
            "_model_module_version": "1.5.0",
            "_model_name": "HBoxModel",
            "_view_count": null,
            "_view_module": "@jupyter-widgets/controls",
            "_view_module_version": "1.5.0",
            "_view_name": "HBoxView",
            "box_style": "",
            "children": [
              "IPY_MODEL_6dc451ada44d4cf58f15c93df8a24041",
              "IPY_MODEL_b46b4dcada974413a56370a036c847bd",
              "IPY_MODEL_6948b12686de42ecb19d8d679aae6fc8"
            ],
            "layout": "IPY_MODEL_0722b2b5984e418baeff6db049675e04"
          }
        },
        "6dc451ada44d4cf58f15c93df8a24041": {
          "model_module": "@jupyter-widgets/controls",
          "model_name": "HTMLModel",
          "model_module_version": "1.5.0",
          "state": {
            "_dom_classes": [],
            "_model_module": "@jupyter-widgets/controls",
            "_model_module_version": "1.5.0",
            "_model_name": "HTMLModel",
            "_view_count": null,
            "_view_module": "@jupyter-widgets/controls",
            "_view_module_version": "1.5.0",
            "_view_name": "HTMLView",
            "description": "",
            "description_tooltip": null,
            "layout": "IPY_MODEL_a416af20f5364545b7f88a62529d5925",
            "placeholder": "​",
            "style": "IPY_MODEL_76a81285307b4b8cb7c88d5f623bd207",
            "value": "Downloading config.json: 100%"
          }
        },
        "b46b4dcada974413a56370a036c847bd": {
          "model_module": "@jupyter-widgets/controls",
          "model_name": "FloatProgressModel",
          "model_module_version": "1.5.0",
          "state": {
            "_dom_classes": [],
            "_model_module": "@jupyter-widgets/controls",
            "_model_module_version": "1.5.0",
            "_model_name": "FloatProgressModel",
            "_view_count": null,
            "_view_module": "@jupyter-widgets/controls",
            "_view_module_version": "1.5.0",
            "_view_name": "ProgressView",
            "bar_style": "success",
            "description": "",
            "description_tooltip": null,
            "layout": "IPY_MODEL_ae681f89bf1d426ea28537ea8cd15445",
            "max": 570,
            "min": 0,
            "orientation": "horizontal",
            "style": "IPY_MODEL_1802b3fec79d4571816260c49f0506fc",
            "value": 570
          }
        },
        "6948b12686de42ecb19d8d679aae6fc8": {
          "model_module": "@jupyter-widgets/controls",
          "model_name": "HTMLModel",
          "model_module_version": "1.5.0",
          "state": {
            "_dom_classes": [],
            "_model_module": "@jupyter-widgets/controls",
            "_model_module_version": "1.5.0",
            "_model_name": "HTMLModel",
            "_view_count": null,
            "_view_module": "@jupyter-widgets/controls",
            "_view_module_version": "1.5.0",
            "_view_name": "HTMLView",
            "description": "",
            "description_tooltip": null,
            "layout": "IPY_MODEL_37821a7c8b404e6e9257629f66000256",
            "placeholder": "​",
            "style": "IPY_MODEL_49a5122de0ad414aa5a3340e11bf71c3",
            "value": " 570/570 [00:00&lt;00:00, 18.9kB/s]"
          }
        },
        "0722b2b5984e418baeff6db049675e04": {
          "model_module": "@jupyter-widgets/base",
          "model_name": "LayoutModel",
          "model_module_version": "1.2.0",
          "state": {
            "_model_module": "@jupyter-widgets/base",
            "_model_module_version": "1.2.0",
            "_model_name": "LayoutModel",
            "_view_count": null,
            "_view_module": "@jupyter-widgets/base",
            "_view_module_version": "1.2.0",
            "_view_name": "LayoutView",
            "align_content": null,
            "align_items": null,
            "align_self": null,
            "border": null,
            "bottom": null,
            "display": null,
            "flex": null,
            "flex_flow": null,
            "grid_area": null,
            "grid_auto_columns": null,
            "grid_auto_flow": null,
            "grid_auto_rows": null,
            "grid_column": null,
            "grid_gap": null,
            "grid_row": null,
            "grid_template_areas": null,
            "grid_template_columns": null,
            "grid_template_rows": null,
            "height": null,
            "justify_content": null,
            "justify_items": null,
            "left": null,
            "margin": null,
            "max_height": null,
            "max_width": null,
            "min_height": null,
            "min_width": null,
            "object_fit": null,
            "object_position": null,
            "order": null,
            "overflow": null,
            "overflow_x": null,
            "overflow_y": null,
            "padding": null,
            "right": null,
            "top": null,
            "visibility": null,
            "width": null
          }
        },
        "a416af20f5364545b7f88a62529d5925": {
          "model_module": "@jupyter-widgets/base",
          "model_name": "LayoutModel",
          "model_module_version": "1.2.0",
          "state": {
            "_model_module": "@jupyter-widgets/base",
            "_model_module_version": "1.2.0",
            "_model_name": "LayoutModel",
            "_view_count": null,
            "_view_module": "@jupyter-widgets/base",
            "_view_module_version": "1.2.0",
            "_view_name": "LayoutView",
            "align_content": null,
            "align_items": null,
            "align_self": null,
            "border": null,
            "bottom": null,
            "display": null,
            "flex": null,
            "flex_flow": null,
            "grid_area": null,
            "grid_auto_columns": null,
            "grid_auto_flow": null,
            "grid_auto_rows": null,
            "grid_column": null,
            "grid_gap": null,
            "grid_row": null,
            "grid_template_areas": null,
            "grid_template_columns": null,
            "grid_template_rows": null,
            "height": null,
            "justify_content": null,
            "justify_items": null,
            "left": null,
            "margin": null,
            "max_height": null,
            "max_width": null,
            "min_height": null,
            "min_width": null,
            "object_fit": null,
            "object_position": null,
            "order": null,
            "overflow": null,
            "overflow_x": null,
            "overflow_y": null,
            "padding": null,
            "right": null,
            "top": null,
            "visibility": null,
            "width": null
          }
        },
        "76a81285307b4b8cb7c88d5f623bd207": {
          "model_module": "@jupyter-widgets/controls",
          "model_name": "DescriptionStyleModel",
          "model_module_version": "1.5.0",
          "state": {
            "_model_module": "@jupyter-widgets/controls",
            "_model_module_version": "1.5.0",
            "_model_name": "DescriptionStyleModel",
            "_view_count": null,
            "_view_module": "@jupyter-widgets/base",
            "_view_module_version": "1.2.0",
            "_view_name": "StyleView",
            "description_width": ""
          }
        },
        "ae681f89bf1d426ea28537ea8cd15445": {
          "model_module": "@jupyter-widgets/base",
          "model_name": "LayoutModel",
          "model_module_version": "1.2.0",
          "state": {
            "_model_module": "@jupyter-widgets/base",
            "_model_module_version": "1.2.0",
            "_model_name": "LayoutModel",
            "_view_count": null,
            "_view_module": "@jupyter-widgets/base",
            "_view_module_version": "1.2.0",
            "_view_name": "LayoutView",
            "align_content": null,
            "align_items": null,
            "align_self": null,
            "border": null,
            "bottom": null,
            "display": null,
            "flex": null,
            "flex_flow": null,
            "grid_area": null,
            "grid_auto_columns": null,
            "grid_auto_flow": null,
            "grid_auto_rows": null,
            "grid_column": null,
            "grid_gap": null,
            "grid_row": null,
            "grid_template_areas": null,
            "grid_template_columns": null,
            "grid_template_rows": null,
            "height": null,
            "justify_content": null,
            "justify_items": null,
            "left": null,
            "margin": null,
            "max_height": null,
            "max_width": null,
            "min_height": null,
            "min_width": null,
            "object_fit": null,
            "object_position": null,
            "order": null,
            "overflow": null,
            "overflow_x": null,
            "overflow_y": null,
            "padding": null,
            "right": null,
            "top": null,
            "visibility": null,
            "width": null
          }
        },
        "1802b3fec79d4571816260c49f0506fc": {
          "model_module": "@jupyter-widgets/controls",
          "model_name": "ProgressStyleModel",
          "model_module_version": "1.5.0",
          "state": {
            "_model_module": "@jupyter-widgets/controls",
            "_model_module_version": "1.5.0",
            "_model_name": "ProgressStyleModel",
            "_view_count": null,
            "_view_module": "@jupyter-widgets/base",
            "_view_module_version": "1.2.0",
            "_view_name": "StyleView",
            "bar_color": null,
            "description_width": ""
          }
        },
        "37821a7c8b404e6e9257629f66000256": {
          "model_module": "@jupyter-widgets/base",
          "model_name": "LayoutModel",
          "model_module_version": "1.2.0",
          "state": {
            "_model_module": "@jupyter-widgets/base",
            "_model_module_version": "1.2.0",
            "_model_name": "LayoutModel",
            "_view_count": null,
            "_view_module": "@jupyter-widgets/base",
            "_view_module_version": "1.2.0",
            "_view_name": "LayoutView",
            "align_content": null,
            "align_items": null,
            "align_self": null,
            "border": null,
            "bottom": null,
            "display": null,
            "flex": null,
            "flex_flow": null,
            "grid_area": null,
            "grid_auto_columns": null,
            "grid_auto_flow": null,
            "grid_auto_rows": null,
            "grid_column": null,
            "grid_gap": null,
            "grid_row": null,
            "grid_template_areas": null,
            "grid_template_columns": null,
            "grid_template_rows": null,
            "height": null,
            "justify_content": null,
            "justify_items": null,
            "left": null,
            "margin": null,
            "max_height": null,
            "max_width": null,
            "min_height": null,
            "min_width": null,
            "object_fit": null,
            "object_position": null,
            "order": null,
            "overflow": null,
            "overflow_x": null,
            "overflow_y": null,
            "padding": null,
            "right": null,
            "top": null,
            "visibility": null,
            "width": null
          }
        },
        "49a5122de0ad414aa5a3340e11bf71c3": {
          "model_module": "@jupyter-widgets/controls",
          "model_name": "DescriptionStyleModel",
          "model_module_version": "1.5.0",
          "state": {
            "_model_module": "@jupyter-widgets/controls",
            "_model_module_version": "1.5.0",
            "_model_name": "DescriptionStyleModel",
            "_view_count": null,
            "_view_module": "@jupyter-widgets/base",
            "_view_module_version": "1.2.0",
            "_view_name": "StyleView",
            "description_width": ""
          }
        },
        "7672cb2f16c14e69b2975d713732e9ba": {
          "model_module": "@jupyter-widgets/controls",
          "model_name": "HBoxModel",
          "model_module_version": "1.5.0",
          "state": {
            "_dom_classes": [],
            "_model_module": "@jupyter-widgets/controls",
            "_model_module_version": "1.5.0",
            "_model_name": "HBoxModel",
            "_view_count": null,
            "_view_module": "@jupyter-widgets/controls",
            "_view_module_version": "1.5.0",
            "_view_name": "HBoxView",
            "box_style": "",
            "children": [
              "IPY_MODEL_ddc8ba8db8874dfd8d403e140d7d8e7a",
              "IPY_MODEL_a9c906bed63b4b218af63d9a9a81cff5",
              "IPY_MODEL_84f21df2d3464c1688d4f19d5569b9e4"
            ],
            "layout": "IPY_MODEL_b118fd54f78342548f440463ab25aa67"
          }
        },
        "ddc8ba8db8874dfd8d403e140d7d8e7a": {
          "model_module": "@jupyter-widgets/controls",
          "model_name": "HTMLModel",
          "model_module_version": "1.5.0",
          "state": {
            "_dom_classes": [],
            "_model_module": "@jupyter-widgets/controls",
            "_model_module_version": "1.5.0",
            "_model_name": "HTMLModel",
            "_view_count": null,
            "_view_module": "@jupyter-widgets/controls",
            "_view_module_version": "1.5.0",
            "_view_name": "HTMLView",
            "description": "",
            "description_tooltip": null,
            "layout": "IPY_MODEL_87c6aee571d14cf6bf3ed0550ecc3109",
            "placeholder": "​",
            "style": "IPY_MODEL_f29abffd2398473e8f10f696f06edb5c",
            "value": "Downloading pytorch_model.bin: 100%"
          }
        },
        "a9c906bed63b4b218af63d9a9a81cff5": {
          "model_module": "@jupyter-widgets/controls",
          "model_name": "FloatProgressModel",
          "model_module_version": "1.5.0",
          "state": {
            "_dom_classes": [],
            "_model_module": "@jupyter-widgets/controls",
            "_model_module_version": "1.5.0",
            "_model_name": "FloatProgressModel",
            "_view_count": null,
            "_view_module": "@jupyter-widgets/controls",
            "_view_module_version": "1.5.0",
            "_view_name": "ProgressView",
            "bar_style": "success",
            "description": "",
            "description_tooltip": null,
            "layout": "IPY_MODEL_f8455c5dddfd433088c032c358a9bf8e",
            "max": 440473133,
            "min": 0,
            "orientation": "horizontal",
            "style": "IPY_MODEL_8f50a041901d475aa732e043f3c5c1aa",
            "value": 440473133
          }
        },
        "84f21df2d3464c1688d4f19d5569b9e4": {
          "model_module": "@jupyter-widgets/controls",
          "model_name": "HTMLModel",
          "model_module_version": "1.5.0",
          "state": {
            "_dom_classes": [],
            "_model_module": "@jupyter-widgets/controls",
            "_model_module_version": "1.5.0",
            "_model_name": "HTMLModel",
            "_view_count": null,
            "_view_module": "@jupyter-widgets/controls",
            "_view_module_version": "1.5.0",
            "_view_name": "HTMLView",
            "description": "",
            "description_tooltip": null,
            "layout": "IPY_MODEL_7f5dcd1edd9948388566068a0d72ab81",
            "placeholder": "​",
            "style": "IPY_MODEL_afcce7f86eb8470a8cd402108059eabf",
            "value": " 420M/420M [00:07&lt;00:00, 56.6MB/s]"
          }
        },
        "b118fd54f78342548f440463ab25aa67": {
          "model_module": "@jupyter-widgets/base",
          "model_name": "LayoutModel",
          "model_module_version": "1.2.0",
          "state": {
            "_model_module": "@jupyter-widgets/base",
            "_model_module_version": "1.2.0",
            "_model_name": "LayoutModel",
            "_view_count": null,
            "_view_module": "@jupyter-widgets/base",
            "_view_module_version": "1.2.0",
            "_view_name": "LayoutView",
            "align_content": null,
            "align_items": null,
            "align_self": null,
            "border": null,
            "bottom": null,
            "display": null,
            "flex": null,
            "flex_flow": null,
            "grid_area": null,
            "grid_auto_columns": null,
            "grid_auto_flow": null,
            "grid_auto_rows": null,
            "grid_column": null,
            "grid_gap": null,
            "grid_row": null,
            "grid_template_areas": null,
            "grid_template_columns": null,
            "grid_template_rows": null,
            "height": null,
            "justify_content": null,
            "justify_items": null,
            "left": null,
            "margin": null,
            "max_height": null,
            "max_width": null,
            "min_height": null,
            "min_width": null,
            "object_fit": null,
            "object_position": null,
            "order": null,
            "overflow": null,
            "overflow_x": null,
            "overflow_y": null,
            "padding": null,
            "right": null,
            "top": null,
            "visibility": null,
            "width": null
          }
        },
        "87c6aee571d14cf6bf3ed0550ecc3109": {
          "model_module": "@jupyter-widgets/base",
          "model_name": "LayoutModel",
          "model_module_version": "1.2.0",
          "state": {
            "_model_module": "@jupyter-widgets/base",
            "_model_module_version": "1.2.0",
            "_model_name": "LayoutModel",
            "_view_count": null,
            "_view_module": "@jupyter-widgets/base",
            "_view_module_version": "1.2.0",
            "_view_name": "LayoutView",
            "align_content": null,
            "align_items": null,
            "align_self": null,
            "border": null,
            "bottom": null,
            "display": null,
            "flex": null,
            "flex_flow": null,
            "grid_area": null,
            "grid_auto_columns": null,
            "grid_auto_flow": null,
            "grid_auto_rows": null,
            "grid_column": null,
            "grid_gap": null,
            "grid_row": null,
            "grid_template_areas": null,
            "grid_template_columns": null,
            "grid_template_rows": null,
            "height": null,
            "justify_content": null,
            "justify_items": null,
            "left": null,
            "margin": null,
            "max_height": null,
            "max_width": null,
            "min_height": null,
            "min_width": null,
            "object_fit": null,
            "object_position": null,
            "order": null,
            "overflow": null,
            "overflow_x": null,
            "overflow_y": null,
            "padding": null,
            "right": null,
            "top": null,
            "visibility": null,
            "width": null
          }
        },
        "f29abffd2398473e8f10f696f06edb5c": {
          "model_module": "@jupyter-widgets/controls",
          "model_name": "DescriptionStyleModel",
          "model_module_version": "1.5.0",
          "state": {
            "_model_module": "@jupyter-widgets/controls",
            "_model_module_version": "1.5.0",
            "_model_name": "DescriptionStyleModel",
            "_view_count": null,
            "_view_module": "@jupyter-widgets/base",
            "_view_module_version": "1.2.0",
            "_view_name": "StyleView",
            "description_width": ""
          }
        },
        "f8455c5dddfd433088c032c358a9bf8e": {
          "model_module": "@jupyter-widgets/base",
          "model_name": "LayoutModel",
          "model_module_version": "1.2.0",
          "state": {
            "_model_module": "@jupyter-widgets/base",
            "_model_module_version": "1.2.0",
            "_model_name": "LayoutModel",
            "_view_count": null,
            "_view_module": "@jupyter-widgets/base",
            "_view_module_version": "1.2.0",
            "_view_name": "LayoutView",
            "align_content": null,
            "align_items": null,
            "align_self": null,
            "border": null,
            "bottom": null,
            "display": null,
            "flex": null,
            "flex_flow": null,
            "grid_area": null,
            "grid_auto_columns": null,
            "grid_auto_flow": null,
            "grid_auto_rows": null,
            "grid_column": null,
            "grid_gap": null,
            "grid_row": null,
            "grid_template_areas": null,
            "grid_template_columns": null,
            "grid_template_rows": null,
            "height": null,
            "justify_content": null,
            "justify_items": null,
            "left": null,
            "margin": null,
            "max_height": null,
            "max_width": null,
            "min_height": null,
            "min_width": null,
            "object_fit": null,
            "object_position": null,
            "order": null,
            "overflow": null,
            "overflow_x": null,
            "overflow_y": null,
            "padding": null,
            "right": null,
            "top": null,
            "visibility": null,
            "width": null
          }
        },
        "8f50a041901d475aa732e043f3c5c1aa": {
          "model_module": "@jupyter-widgets/controls",
          "model_name": "ProgressStyleModel",
          "model_module_version": "1.5.0",
          "state": {
            "_model_module": "@jupyter-widgets/controls",
            "_model_module_version": "1.5.0",
            "_model_name": "ProgressStyleModel",
            "_view_count": null,
            "_view_module": "@jupyter-widgets/base",
            "_view_module_version": "1.2.0",
            "_view_name": "StyleView",
            "bar_color": null,
            "description_width": ""
          }
        },
        "7f5dcd1edd9948388566068a0d72ab81": {
          "model_module": "@jupyter-widgets/base",
          "model_name": "LayoutModel",
          "model_module_version": "1.2.0",
          "state": {
            "_model_module": "@jupyter-widgets/base",
            "_model_module_version": "1.2.0",
            "_model_name": "LayoutModel",
            "_view_count": null,
            "_view_module": "@jupyter-widgets/base",
            "_view_module_version": "1.2.0",
            "_view_name": "LayoutView",
            "align_content": null,
            "align_items": null,
            "align_self": null,
            "border": null,
            "bottom": null,
            "display": null,
            "flex": null,
            "flex_flow": null,
            "grid_area": null,
            "grid_auto_columns": null,
            "grid_auto_flow": null,
            "grid_auto_rows": null,
            "grid_column": null,
            "grid_gap": null,
            "grid_row": null,
            "grid_template_areas": null,
            "grid_template_columns": null,
            "grid_template_rows": null,
            "height": null,
            "justify_content": null,
            "justify_items": null,
            "left": null,
            "margin": null,
            "max_height": null,
            "max_width": null,
            "min_height": null,
            "min_width": null,
            "object_fit": null,
            "object_position": null,
            "order": null,
            "overflow": null,
            "overflow_x": null,
            "overflow_y": null,
            "padding": null,
            "right": null,
            "top": null,
            "visibility": null,
            "width": null
          }
        },
        "afcce7f86eb8470a8cd402108059eabf": {
          "model_module": "@jupyter-widgets/controls",
          "model_name": "DescriptionStyleModel",
          "model_module_version": "1.5.0",
          "state": {
            "_model_module": "@jupyter-widgets/controls",
            "_model_module_version": "1.5.0",
            "_model_name": "DescriptionStyleModel",
            "_view_count": null,
            "_view_module": "@jupyter-widgets/base",
            "_view_module_version": "1.2.0",
            "_view_name": "StyleView",
            "description_width": ""
          }
        }
      }
    },
    "gpuClass": "standard",
    "accelerator": "GPU"
  },
  "cells": [
    {
      "cell_type": "markdown",
      "metadata": {
        "id": "T_du22iY_i3w"
      },
      "source": [
        "# **Sentiment Analysis** of the **Restaurant Reviews** from **YELP** Dataset\n"
      ]
    },
    {
      "cell_type": "markdown",
      "source": [
        "## **BERT**"
      ],
      "metadata": {
        "id": "9rwMymppyR4R"
      }
    },
    {
      "cell_type": "markdown",
      "source": [
        "### The two datasets (**review** and **business**) that we need from **YELP** dataset can be found <a href=\"https://www.yelp.com/dataset\" target=\"_blank\">here</a>"
      ],
      "metadata": {
        "id": "-Yx1tAVP-HLJ"
      }
    },
    {
      "cell_type": "markdown",
      "metadata": {
        "id": "01vabqH3CFOG"
      },
      "source": [
        "#### Install the **Transformers** library"
      ]
    },
    {
      "cell_type": "code",
      "metadata": {
        "colab": {
          "base_uri": "https://localhost:8080/"
        },
        "id": "6JpaP9fbCMI5",
        "outputId": "f22b012b-6027-44aa-d2a9-11fe619ad617"
      },
      "source": [
        "!pip install transformers"
      ],
      "execution_count": 1,
      "outputs": [
        {
          "output_type": "stream",
          "name": "stdout",
          "text": [
            "Looking in indexes: https://pypi.org/simple, https://us-python.pkg.dev/colab-wheels/public/simple/\n",
            "Collecting transformers\n",
            "  Downloading transformers-4.21.0-py3-none-any.whl (4.7 MB)\n",
            "\u001b[K     |████████████████████████████████| 4.7 MB 4.7 MB/s \n",
            "\u001b[?25hCollecting pyyaml>=5.1\n",
            "  Downloading PyYAML-6.0-cp37-cp37m-manylinux_2_5_x86_64.manylinux1_x86_64.manylinux_2_12_x86_64.manylinux2010_x86_64.whl (596 kB)\n",
            "\u001b[K     |████████████████████████████████| 596 kB 64.5 MB/s \n",
            "\u001b[?25hRequirement already satisfied: regex!=2019.12.17 in /usr/local/lib/python3.7/dist-packages (from transformers) (2022.6.2)\n",
            "Requirement already satisfied: tqdm>=4.27 in /usr/local/lib/python3.7/dist-packages (from transformers) (4.64.0)\n",
            "Requirement already satisfied: importlib-metadata in /usr/local/lib/python3.7/dist-packages (from transformers) (4.12.0)\n",
            "Requirement already satisfied: numpy>=1.17 in /usr/local/lib/python3.7/dist-packages (from transformers) (1.21.6)\n",
            "Collecting tokenizers!=0.11.3,<0.13,>=0.11.1\n",
            "  Downloading tokenizers-0.12.1-cp37-cp37m-manylinux_2_12_x86_64.manylinux2010_x86_64.whl (6.6 MB)\n",
            "\u001b[K     |████████████████████████████████| 6.6 MB 49.4 MB/s \n",
            "\u001b[?25hRequirement already satisfied: packaging>=20.0 in /usr/local/lib/python3.7/dist-packages (from transformers) (21.3)\n",
            "Requirement already satisfied: filelock in /usr/local/lib/python3.7/dist-packages (from transformers) (3.7.1)\n",
            "Collecting huggingface-hub<1.0,>=0.1.0\n",
            "  Downloading huggingface_hub-0.8.1-py3-none-any.whl (101 kB)\n",
            "\u001b[K     |████████████████████████████████| 101 kB 11.2 MB/s \n",
            "\u001b[?25hRequirement already satisfied: requests in /usr/local/lib/python3.7/dist-packages (from transformers) (2.23.0)\n",
            "Requirement already satisfied: typing-extensions>=3.7.4.3 in /usr/local/lib/python3.7/dist-packages (from huggingface-hub<1.0,>=0.1.0->transformers) (4.1.1)\n",
            "Requirement already satisfied: pyparsing!=3.0.5,>=2.0.2 in /usr/local/lib/python3.7/dist-packages (from packaging>=20.0->transformers) (3.0.9)\n",
            "Requirement already satisfied: zipp>=0.5 in /usr/local/lib/python3.7/dist-packages (from importlib-metadata->transformers) (3.8.1)\n",
            "Requirement already satisfied: urllib3!=1.25.0,!=1.25.1,<1.26,>=1.21.1 in /usr/local/lib/python3.7/dist-packages (from requests->transformers) (1.24.3)\n",
            "Requirement already satisfied: certifi>=2017.4.17 in /usr/local/lib/python3.7/dist-packages (from requests->transformers) (2022.6.15)\n",
            "Requirement already satisfied: idna<3,>=2.5 in /usr/local/lib/python3.7/dist-packages (from requests->transformers) (2.10)\n",
            "Requirement already satisfied: chardet<4,>=3.0.2 in /usr/local/lib/python3.7/dist-packages (from requests->transformers) (3.0.4)\n",
            "Installing collected packages: pyyaml, tokenizers, huggingface-hub, transformers\n",
            "  Attempting uninstall: pyyaml\n",
            "    Found existing installation: PyYAML 3.13\n",
            "    Uninstalling PyYAML-3.13:\n",
            "      Successfully uninstalled PyYAML-3.13\n",
            "Successfully installed huggingface-hub-0.8.1 pyyaml-6.0 tokenizers-0.12.1 transformers-4.21.0\n"
          ]
        }
      ]
    },
    {
      "cell_type": "code",
      "source": [
        "!pip install langdetect"
      ],
      "metadata": {
        "id": "fL_r-wB3sNva",
        "colab": {
          "base_uri": "https://localhost:8080/"
        },
        "outputId": "308f2127-a33d-4942-97bb-5fbfe4aecc23"
      },
      "execution_count": 2,
      "outputs": [
        {
          "output_type": "stream",
          "name": "stdout",
          "text": [
            "Looking in indexes: https://pypi.org/simple, https://us-python.pkg.dev/colab-wheels/public/simple/\n",
            "Collecting langdetect\n",
            "  Downloading langdetect-1.0.9.tar.gz (981 kB)\n",
            "\u001b[K     |████████████████████████████████| 981 kB 4.7 MB/s \n",
            "\u001b[?25hRequirement already satisfied: six in /usr/local/lib/python3.7/dist-packages (from langdetect) (1.15.0)\n",
            "Building wheels for collected packages: langdetect\n",
            "  Building wheel for langdetect (setup.py) ... \u001b[?25l\u001b[?25hdone\n",
            "  Created wheel for langdetect: filename=langdetect-1.0.9-py3-none-any.whl size=993242 sha256=1d47711e915ade7ec10e0baaf2b120d5c86a75700236de3d0f93a1564574adcb\n",
            "  Stored in directory: /root/.cache/pip/wheels/c5/96/8a/f90c59ed25d75e50a8c10a1b1c2d4c402e4dacfa87f3aff36a\n",
            "Successfully built langdetect\n",
            "Installing collected packages: langdetect\n",
            "Successfully installed langdetect-1.0.9\n"
          ]
        }
      ]
    },
    {
      "cell_type": "code",
      "source": [
        "from google.colab import drive \n",
        "drive.mount('/content/drive')"
      ],
      "metadata": {
        "colab": {
          "base_uri": "https://localhost:8080/"
        },
        "id": "yefa9iJT8RxY",
        "outputId": "56578407-7452-4ef6-e1de-133eefa5006f"
      },
      "execution_count": 3,
      "outputs": [
        {
          "output_type": "stream",
          "name": "stdout",
          "text": [
            "Mounted at /content/drive\n"
          ]
        }
      ]
    },
    {
      "cell_type": "markdown",
      "metadata": {
        "id": "bwoJKCWp__xf"
      },
      "source": [
        "#### Importing most of the libraries "
      ]
    },
    {
      "cell_type": "code",
      "metadata": {
        "id": "Ogxuogt_AEyV",
        "colab": {
          "base_uri": "https://localhost:8080/"
        },
        "outputId": "ee3b74fb-a302-4d21-fc0d-36387b26a4e3"
      },
      "source": [
        "import pandas as pd\n",
        "import numpy as np\n",
        "import seaborn as sns\n",
        "from matplotlib import rc\n",
        "from pylab import rcParams\n",
        "import matplotlib.pyplot as plt\n",
        "from textwrap import wrap\n",
        "from collections import defaultdict\n",
        "from sklearn.model_selection import train_test_split\n",
        "from sklearn.metrics import confusion_matrix, classification_report, accuracy_score,f1_score,precision_score, recall_score\n",
        "\n",
        "import re\n",
        "import spacy\n",
        "sp = spacy.load('en_core_web_sm')\n",
        "\n",
        "import nltk\n",
        "nltk.download('punkt')\n",
        "from nltk.tokenize import word_tokenize\n",
        "\n",
        "import transformers\n",
        "from transformers import BertModel, BertTokenizer, BertForSequenceClassification\n",
        "from transformers import AdamW, get_linear_schedule_with_warmup\n",
        "\n",
        "import torch\n",
        "from torch import nn,optim\n",
        "from torch.utils.data import Dataset,DataLoader,TensorDataset, RandomSampler, SequentialSampler\n",
        "import torch.nn as nn  \n",
        "import torch.nn.functional as F  \n",
        "device=torch.device('cuda:0' if torch.cuda.is_available() else 'cpu')\n",
        "\n",
        "import time \n",
        "import datetime\n",
        "\n",
        "import tensorflow as tf\n",
        "\n",
        "%matplotlib inline\n",
        "%config InlineBackend.figure_format='retina'\n",
        "\n",
        "sns.set(style='whitegrid',palette='muted',font_scale=1.2)\n",
        "color_palette=['#01BEFE','#FFDD00','#FF7D00','#FF006D','#ADFF02','#8F00FF']\n",
        "sns.set_palette(sns.color_palette(color_palette))\n",
        "\n",
        "rcParams['figure.figsize']= 10,5\n",
        "\n",
        "seed=42\n",
        "np.random.seed(seed)\n",
        "torch.manual_seed(seed)\n",
        "\n",
        "import sys\n",
        "import os\n",
        "import warnings\n",
        "\n",
        "if not sys.warnoptions:\n",
        "    warnings.simplefilter(\"ignore\")\n",
        "    os.environ[\"PYTHONWARNINGS\"] = \"ignore\" "
      ],
      "execution_count": 4,
      "outputs": [
        {
          "output_type": "stream",
          "name": "stderr",
          "text": [
            "[nltk_data] Downloading package punkt to /root/nltk_data...\n",
            "[nltk_data]   Unzipping tokenizers/punkt.zip.\n"
          ]
        }
      ]
    },
    {
      "cell_type": "markdown",
      "source": [
        "#### **Read** the **reviews** dataset. As it is a **very heavy** one, let's use only the first 10,000 rows and **reduce** the **memory usage**"
      ],
      "metadata": {
        "id": "WO_dhSZ7zlDq"
      }
    },
    {
      "cell_type": "code",
      "source": [
        "df = pd.read_json('/content/drive/MyDrive/yelp_academic_dataset_review.json', nrows=10000, lines=True)"
      ],
      "metadata": {
        "id": "Vf0FMog8Orgk"
      },
      "execution_count": 5,
      "outputs": []
    },
    {
      "cell_type": "code",
      "source": [
        "df.head()"
      ],
      "metadata": {
        "id": "2JVm5rW8OrlT",
        "colab": {
          "base_uri": "https://localhost:8080/",
          "height": 206
        },
        "outputId": "d7c18222-f688-4f7c-968b-0258010f7b0b"
      },
      "execution_count": 6,
      "outputs": [
        {
          "output_type": "execute_result",
          "data": {
            "text/plain": [
              "                review_id                 user_id             business_id  \\\n",
              "0  lWC-xP3rd6obsecCYsGZRg  ak0TdVmGKo4pwqdJSTLwWw  buF9druCkbuXLX526sGELQ   \n",
              "1  8bFej1QE5LXp4O05qjGqXA  YoVfDbnISlW0f7abNQACIg  RA4V8pr014UyUbDvI-LW2A   \n",
              "2  NDhkzczKjLshODbqDoNLSg  eC5evKn1TWDyHCyQAwguUw  _sS2LBIGNT5NQb6PD1Vtjw   \n",
              "3  T5fAqjjFooT4V0OeZyuk1w  SFQ1jcnGguO0LYWnbbftAA  0AzLzHfOJgL7ROwhdww2ew   \n",
              "4  sjm_uUcQVxab_EeLCqsYLg  0kA0PAJ8QFMeveQWHFqz2A  8zehGz9jnxPqXtOc7KaJxA   \n",
              "\n",
              "   stars  useful  funny  cool  \\\n",
              "0      4       3      1     1   \n",
              "1      4       1      0     0   \n",
              "2      5       0      0     0   \n",
              "3      2       1      1     1   \n",
              "4      4       0      0     0   \n",
              "\n",
              "                                                text                date  \n",
              "0  Apparently Prides Osteria had a rough summer a... 2014-10-11 03:34:02  \n",
              "1  This store is pretty good. Not as great as Wal... 2015-07-03 20:38:25  \n",
              "2  I called WVM on the recommendation of a couple... 2013-05-28 20:38:06  \n",
              "3  I've stayed at many Marriott and Renaissance M... 2010-01-08 02:29:15  \n",
              "4  The food is always great here. The service fro... 2011-07-28 18:05:01  "
            ],
            "text/html": [
              "\n",
              "  <div id=\"df-3de550bb-b688-461a-9258-98b83e3055f0\">\n",
              "    <div class=\"colab-df-container\">\n",
              "      <div>\n",
              "<style scoped>\n",
              "    .dataframe tbody tr th:only-of-type {\n",
              "        vertical-align: middle;\n",
              "    }\n",
              "\n",
              "    .dataframe tbody tr th {\n",
              "        vertical-align: top;\n",
              "    }\n",
              "\n",
              "    .dataframe thead th {\n",
              "        text-align: right;\n",
              "    }\n",
              "</style>\n",
              "<table border=\"1\" class=\"dataframe\">\n",
              "  <thead>\n",
              "    <tr style=\"text-align: right;\">\n",
              "      <th></th>\n",
              "      <th>review_id</th>\n",
              "      <th>user_id</th>\n",
              "      <th>business_id</th>\n",
              "      <th>stars</th>\n",
              "      <th>useful</th>\n",
              "      <th>funny</th>\n",
              "      <th>cool</th>\n",
              "      <th>text</th>\n",
              "      <th>date</th>\n",
              "    </tr>\n",
              "  </thead>\n",
              "  <tbody>\n",
              "    <tr>\n",
              "      <th>0</th>\n",
              "      <td>lWC-xP3rd6obsecCYsGZRg</td>\n",
              "      <td>ak0TdVmGKo4pwqdJSTLwWw</td>\n",
              "      <td>buF9druCkbuXLX526sGELQ</td>\n",
              "      <td>4</td>\n",
              "      <td>3</td>\n",
              "      <td>1</td>\n",
              "      <td>1</td>\n",
              "      <td>Apparently Prides Osteria had a rough summer a...</td>\n",
              "      <td>2014-10-11 03:34:02</td>\n",
              "    </tr>\n",
              "    <tr>\n",
              "      <th>1</th>\n",
              "      <td>8bFej1QE5LXp4O05qjGqXA</td>\n",
              "      <td>YoVfDbnISlW0f7abNQACIg</td>\n",
              "      <td>RA4V8pr014UyUbDvI-LW2A</td>\n",
              "      <td>4</td>\n",
              "      <td>1</td>\n",
              "      <td>0</td>\n",
              "      <td>0</td>\n",
              "      <td>This store is pretty good. Not as great as Wal...</td>\n",
              "      <td>2015-07-03 20:38:25</td>\n",
              "    </tr>\n",
              "    <tr>\n",
              "      <th>2</th>\n",
              "      <td>NDhkzczKjLshODbqDoNLSg</td>\n",
              "      <td>eC5evKn1TWDyHCyQAwguUw</td>\n",
              "      <td>_sS2LBIGNT5NQb6PD1Vtjw</td>\n",
              "      <td>5</td>\n",
              "      <td>0</td>\n",
              "      <td>0</td>\n",
              "      <td>0</td>\n",
              "      <td>I called WVM on the recommendation of a couple...</td>\n",
              "      <td>2013-05-28 20:38:06</td>\n",
              "    </tr>\n",
              "    <tr>\n",
              "      <th>3</th>\n",
              "      <td>T5fAqjjFooT4V0OeZyuk1w</td>\n",
              "      <td>SFQ1jcnGguO0LYWnbbftAA</td>\n",
              "      <td>0AzLzHfOJgL7ROwhdww2ew</td>\n",
              "      <td>2</td>\n",
              "      <td>1</td>\n",
              "      <td>1</td>\n",
              "      <td>1</td>\n",
              "      <td>I've stayed at many Marriott and Renaissance M...</td>\n",
              "      <td>2010-01-08 02:29:15</td>\n",
              "    </tr>\n",
              "    <tr>\n",
              "      <th>4</th>\n",
              "      <td>sjm_uUcQVxab_EeLCqsYLg</td>\n",
              "      <td>0kA0PAJ8QFMeveQWHFqz2A</td>\n",
              "      <td>8zehGz9jnxPqXtOc7KaJxA</td>\n",
              "      <td>4</td>\n",
              "      <td>0</td>\n",
              "      <td>0</td>\n",
              "      <td>0</td>\n",
              "      <td>The food is always great here. The service fro...</td>\n",
              "      <td>2011-07-28 18:05:01</td>\n",
              "    </tr>\n",
              "  </tbody>\n",
              "</table>\n",
              "</div>\n",
              "      <button class=\"colab-df-convert\" onclick=\"convertToInteractive('df-3de550bb-b688-461a-9258-98b83e3055f0')\"\n",
              "              title=\"Convert this dataframe to an interactive table.\"\n",
              "              style=\"display:none;\">\n",
              "        \n",
              "  <svg xmlns=\"http://www.w3.org/2000/svg\" height=\"24px\"viewBox=\"0 0 24 24\"\n",
              "       width=\"24px\">\n",
              "    <path d=\"M0 0h24v24H0V0z\" fill=\"none\"/>\n",
              "    <path d=\"M18.56 5.44l.94 2.06.94-2.06 2.06-.94-2.06-.94-.94-2.06-.94 2.06-2.06.94zm-11 1L8.5 8.5l.94-2.06 2.06-.94-2.06-.94L8.5 2.5l-.94 2.06-2.06.94zm10 10l.94 2.06.94-2.06 2.06-.94-2.06-.94-.94-2.06-.94 2.06-2.06.94z\"/><path d=\"M17.41 7.96l-1.37-1.37c-.4-.4-.92-.59-1.43-.59-.52 0-1.04.2-1.43.59L10.3 9.45l-7.72 7.72c-.78.78-.78 2.05 0 2.83L4 21.41c.39.39.9.59 1.41.59.51 0 1.02-.2 1.41-.59l7.78-7.78 2.81-2.81c.8-.78.8-2.07 0-2.86zM5.41 20L4 18.59l7.72-7.72 1.47 1.35L5.41 20z\"/>\n",
              "  </svg>\n",
              "      </button>\n",
              "      \n",
              "  <style>\n",
              "    .colab-df-container {\n",
              "      display:flex;\n",
              "      flex-wrap:wrap;\n",
              "      gap: 12px;\n",
              "    }\n",
              "\n",
              "    .colab-df-convert {\n",
              "      background-color: #E8F0FE;\n",
              "      border: none;\n",
              "      border-radius: 50%;\n",
              "      cursor: pointer;\n",
              "      display: none;\n",
              "      fill: #1967D2;\n",
              "      height: 32px;\n",
              "      padding: 0 0 0 0;\n",
              "      width: 32px;\n",
              "    }\n",
              "\n",
              "    .colab-df-convert:hover {\n",
              "      background-color: #E2EBFA;\n",
              "      box-shadow: 0px 1px 2px rgba(60, 64, 67, 0.3), 0px 1px 3px 1px rgba(60, 64, 67, 0.15);\n",
              "      fill: #174EA6;\n",
              "    }\n",
              "\n",
              "    [theme=dark] .colab-df-convert {\n",
              "      background-color: #3B4455;\n",
              "      fill: #D2E3FC;\n",
              "    }\n",
              "\n",
              "    [theme=dark] .colab-df-convert:hover {\n",
              "      background-color: #434B5C;\n",
              "      box-shadow: 0px 1px 3px 1px rgba(0, 0, 0, 0.15);\n",
              "      filter: drop-shadow(0px 1px 2px rgba(0, 0, 0, 0.3));\n",
              "      fill: #FFFFFF;\n",
              "    }\n",
              "  </style>\n",
              "\n",
              "      <script>\n",
              "        const buttonEl =\n",
              "          document.querySelector('#df-3de550bb-b688-461a-9258-98b83e3055f0 button.colab-df-convert');\n",
              "        buttonEl.style.display =\n",
              "          google.colab.kernel.accessAllowed ? 'block' : 'none';\n",
              "\n",
              "        async function convertToInteractive(key) {\n",
              "          const element = document.querySelector('#df-3de550bb-b688-461a-9258-98b83e3055f0');\n",
              "          const dataTable =\n",
              "            await google.colab.kernel.invokeFunction('convertToInteractive',\n",
              "                                                     [key], {});\n",
              "          if (!dataTable) return;\n",
              "\n",
              "          const docLinkHtml = 'Like what you see? Visit the ' +\n",
              "            '<a target=\"_blank\" href=https://colab.research.google.com/notebooks/data_table.ipynb>data table notebook</a>'\n",
              "            + ' to learn more about interactive tables.';\n",
              "          element.innerHTML = '';\n",
              "          dataTable['output_type'] = 'display_data';\n",
              "          await google.colab.output.renderOutput(dataTable, element);\n",
              "          const docLink = document.createElement('div');\n",
              "          docLink.innerHTML = docLinkHtml;\n",
              "          element.appendChild(docLink);\n",
              "        }\n",
              "      </script>\n",
              "    </div>\n",
              "  </div>\n",
              "  "
            ]
          },
          "metadata": {},
          "execution_count": 6
        }
      ]
    },
    {
      "cell_type": "markdown",
      "source": [
        "#### **Drop the columns** that we **won't be needing**"
      ],
      "metadata": {
        "id": "KOv92EsW1m8h"
      }
    },
    {
      "cell_type": "code",
      "source": [
        "cols_to_drop = ['review_id', 'user_id', 'useful', 'funny', 'cool', 'date'] \n",
        "df.drop(cols_to_drop, axis=1, inplace=True)"
      ],
      "metadata": {
        "id": "7fkvyL1xOrpw"
      },
      "execution_count": 7,
      "outputs": []
    },
    {
      "cell_type": "code",
      "source": [
        "df.head()"
      ],
      "metadata": {
        "id": "lF-Fe0afOruS",
        "colab": {
          "base_uri": "https://localhost:8080/",
          "height": 206
        },
        "outputId": "bd967509-0763-4de5-d761-e87ea39ea474"
      },
      "execution_count": 8,
      "outputs": [
        {
          "output_type": "execute_result",
          "data": {
            "text/plain": [
              "              business_id  stars  \\\n",
              "0  buF9druCkbuXLX526sGELQ      4   \n",
              "1  RA4V8pr014UyUbDvI-LW2A      4   \n",
              "2  _sS2LBIGNT5NQb6PD1Vtjw      5   \n",
              "3  0AzLzHfOJgL7ROwhdww2ew      2   \n",
              "4  8zehGz9jnxPqXtOc7KaJxA      4   \n",
              "\n",
              "                                                text  \n",
              "0  Apparently Prides Osteria had a rough summer a...  \n",
              "1  This store is pretty good. Not as great as Wal...  \n",
              "2  I called WVM on the recommendation of a couple...  \n",
              "3  I've stayed at many Marriott and Renaissance M...  \n",
              "4  The food is always great here. The service fro...  "
            ],
            "text/html": [
              "\n",
              "  <div id=\"df-4b715674-1a52-44fe-a71b-8ecc46225008\">\n",
              "    <div class=\"colab-df-container\">\n",
              "      <div>\n",
              "<style scoped>\n",
              "    .dataframe tbody tr th:only-of-type {\n",
              "        vertical-align: middle;\n",
              "    }\n",
              "\n",
              "    .dataframe tbody tr th {\n",
              "        vertical-align: top;\n",
              "    }\n",
              "\n",
              "    .dataframe thead th {\n",
              "        text-align: right;\n",
              "    }\n",
              "</style>\n",
              "<table border=\"1\" class=\"dataframe\">\n",
              "  <thead>\n",
              "    <tr style=\"text-align: right;\">\n",
              "      <th></th>\n",
              "      <th>business_id</th>\n",
              "      <th>stars</th>\n",
              "      <th>text</th>\n",
              "    </tr>\n",
              "  </thead>\n",
              "  <tbody>\n",
              "    <tr>\n",
              "      <th>0</th>\n",
              "      <td>buF9druCkbuXLX526sGELQ</td>\n",
              "      <td>4</td>\n",
              "      <td>Apparently Prides Osteria had a rough summer a...</td>\n",
              "    </tr>\n",
              "    <tr>\n",
              "      <th>1</th>\n",
              "      <td>RA4V8pr014UyUbDvI-LW2A</td>\n",
              "      <td>4</td>\n",
              "      <td>This store is pretty good. Not as great as Wal...</td>\n",
              "    </tr>\n",
              "    <tr>\n",
              "      <th>2</th>\n",
              "      <td>_sS2LBIGNT5NQb6PD1Vtjw</td>\n",
              "      <td>5</td>\n",
              "      <td>I called WVM on the recommendation of a couple...</td>\n",
              "    </tr>\n",
              "    <tr>\n",
              "      <th>3</th>\n",
              "      <td>0AzLzHfOJgL7ROwhdww2ew</td>\n",
              "      <td>2</td>\n",
              "      <td>I've stayed at many Marriott and Renaissance M...</td>\n",
              "    </tr>\n",
              "    <tr>\n",
              "      <th>4</th>\n",
              "      <td>8zehGz9jnxPqXtOc7KaJxA</td>\n",
              "      <td>4</td>\n",
              "      <td>The food is always great here. The service fro...</td>\n",
              "    </tr>\n",
              "  </tbody>\n",
              "</table>\n",
              "</div>\n",
              "      <button class=\"colab-df-convert\" onclick=\"convertToInteractive('df-4b715674-1a52-44fe-a71b-8ecc46225008')\"\n",
              "              title=\"Convert this dataframe to an interactive table.\"\n",
              "              style=\"display:none;\">\n",
              "        \n",
              "  <svg xmlns=\"http://www.w3.org/2000/svg\" height=\"24px\"viewBox=\"0 0 24 24\"\n",
              "       width=\"24px\">\n",
              "    <path d=\"M0 0h24v24H0V0z\" fill=\"none\"/>\n",
              "    <path d=\"M18.56 5.44l.94 2.06.94-2.06 2.06-.94-2.06-.94-.94-2.06-.94 2.06-2.06.94zm-11 1L8.5 8.5l.94-2.06 2.06-.94-2.06-.94L8.5 2.5l-.94 2.06-2.06.94zm10 10l.94 2.06.94-2.06 2.06-.94-2.06-.94-.94-2.06-.94 2.06-2.06.94z\"/><path d=\"M17.41 7.96l-1.37-1.37c-.4-.4-.92-.59-1.43-.59-.52 0-1.04.2-1.43.59L10.3 9.45l-7.72 7.72c-.78.78-.78 2.05 0 2.83L4 21.41c.39.39.9.59 1.41.59.51 0 1.02-.2 1.41-.59l7.78-7.78 2.81-2.81c.8-.78.8-2.07 0-2.86zM5.41 20L4 18.59l7.72-7.72 1.47 1.35L5.41 20z\"/>\n",
              "  </svg>\n",
              "      </button>\n",
              "      \n",
              "  <style>\n",
              "    .colab-df-container {\n",
              "      display:flex;\n",
              "      flex-wrap:wrap;\n",
              "      gap: 12px;\n",
              "    }\n",
              "\n",
              "    .colab-df-convert {\n",
              "      background-color: #E8F0FE;\n",
              "      border: none;\n",
              "      border-radius: 50%;\n",
              "      cursor: pointer;\n",
              "      display: none;\n",
              "      fill: #1967D2;\n",
              "      height: 32px;\n",
              "      padding: 0 0 0 0;\n",
              "      width: 32px;\n",
              "    }\n",
              "\n",
              "    .colab-df-convert:hover {\n",
              "      background-color: #E2EBFA;\n",
              "      box-shadow: 0px 1px 2px rgba(60, 64, 67, 0.3), 0px 1px 3px 1px rgba(60, 64, 67, 0.15);\n",
              "      fill: #174EA6;\n",
              "    }\n",
              "\n",
              "    [theme=dark] .colab-df-convert {\n",
              "      background-color: #3B4455;\n",
              "      fill: #D2E3FC;\n",
              "    }\n",
              "\n",
              "    [theme=dark] .colab-df-convert:hover {\n",
              "      background-color: #434B5C;\n",
              "      box-shadow: 0px 1px 3px 1px rgba(0, 0, 0, 0.15);\n",
              "      filter: drop-shadow(0px 1px 2px rgba(0, 0, 0, 0.3));\n",
              "      fill: #FFFFFF;\n",
              "    }\n",
              "  </style>\n",
              "\n",
              "      <script>\n",
              "        const buttonEl =\n",
              "          document.querySelector('#df-4b715674-1a52-44fe-a71b-8ecc46225008 button.colab-df-convert');\n",
              "        buttonEl.style.display =\n",
              "          google.colab.kernel.accessAllowed ? 'block' : 'none';\n",
              "\n",
              "        async function convertToInteractive(key) {\n",
              "          const element = document.querySelector('#df-4b715674-1a52-44fe-a71b-8ecc46225008');\n",
              "          const dataTable =\n",
              "            await google.colab.kernel.invokeFunction('convertToInteractive',\n",
              "                                                     [key], {});\n",
              "          if (!dataTable) return;\n",
              "\n",
              "          const docLinkHtml = 'Like what you see? Visit the ' +\n",
              "            '<a target=\"_blank\" href=https://colab.research.google.com/notebooks/data_table.ipynb>data table notebook</a>'\n",
              "            + ' to learn more about interactive tables.';\n",
              "          element.innerHTML = '';\n",
              "          dataTable['output_type'] = 'display_data';\n",
              "          await google.colab.output.renderOutput(dataTable, element);\n",
              "          const docLink = document.createElement('div');\n",
              "          docLink.innerHTML = docLinkHtml;\n",
              "          element.appendChild(docLink);\n",
              "        }\n",
              "      </script>\n",
              "    </div>\n",
              "  </div>\n",
              "  "
            ]
          },
          "metadata": {},
          "execution_count": 8
        }
      ]
    },
    {
      "cell_type": "markdown",
      "source": [
        "#### **Importing** the **business** dataset"
      ],
      "metadata": {
        "id": "yPSlv4-Q2AQ9"
      }
    },
    {
      "cell_type": "code",
      "source": [
        "df1 = pd.read_json('/content/drive/MyDrive/yelp_academic_dataset_business.json', lines=True)"
      ],
      "metadata": {
        "id": "KWjs5VloOryD"
      },
      "execution_count": 9,
      "outputs": []
    },
    {
      "cell_type": "code",
      "source": [
        "df1.head()"
      ],
      "metadata": {
        "id": "ryBewrQS2YT0",
        "colab": {
          "base_uri": "https://localhost:8080/",
          "height": 528
        },
        "outputId": "bd964965-36e3-4cd1-a632-813b1b24a737"
      },
      "execution_count": 10,
      "outputs": [
        {
          "output_type": "execute_result",
          "data": {
            "text/plain": [
              "              business_id                     name              address  \\\n",
              "0  6iYb2HFDywm3zjuRg0shjw      Oskar Blues Taproom         921 Pearl St   \n",
              "1  tCbdrRPZA0oiIYSmHG3J0w  Flying Elephants at PDX  7000 NE Airport Way   \n",
              "2  bvN78flM8NLprQ1a1y5dRg           The Reclaimory   4720 Hawthorne Ave   \n",
              "3  oaepsyvc0J17qwi8cfrOWg              Great Clips   2566 Enterprise Rd   \n",
              "4  PE9uqAjdw0E4-8mjGl3wVA        Crossfit Terminus  1046 Memorial Dr SE   \n",
              "\n",
              "          city state postal_code   latitude   longitude  stars  review_count  \\\n",
              "0      Boulder    CO       80302  40.017544 -105.283348    4.0            86   \n",
              "1     Portland    OR       97218  45.588906 -122.593331    4.0           126   \n",
              "2     Portland    OR       97214  45.511907 -122.613693    4.5            13   \n",
              "3  Orange City    FL       32763  28.914482  -81.295979    3.0             8   \n",
              "4      Atlanta    GA       30316  33.747027  -84.353424    4.0            14   \n",
              "\n",
              "   is_open                                         attributes  \\\n",
              "0        1  {'RestaurantsTableService': 'True', 'WiFi': 'u...   \n",
              "1        1  {'RestaurantsTakeOut': 'True', 'RestaurantsAtt...   \n",
              "2        1  {'BusinessAcceptsCreditCards': 'True', 'Restau...   \n",
              "3        1  {'RestaurantsPriceRange2': '1', 'BusinessAccep...   \n",
              "4        1  {'GoodForKids': 'False', 'BusinessParking': '{...   \n",
              "\n",
              "                                          categories  \\\n",
              "0  Gastropubs, Food, Beer Gardens, Restaurants, B...   \n",
              "1  Salad, Soup, Sandwiches, Delis, Restaurants, C...   \n",
              "2  Antiques, Fashion, Used, Vintage & Consignment...   \n",
              "3                         Beauty & Spas, Hair Salons   \n",
              "4  Gyms, Active Life, Interval Training Gyms, Fit...   \n",
              "\n",
              "                                               hours  \n",
              "0  {'Monday': '11:0-23:0', 'Tuesday': '11:0-23:0'...  \n",
              "1  {'Monday': '5:0-18:0', 'Tuesday': '5:0-17:0', ...  \n",
              "2  {'Thursday': '11:0-18:0', 'Friday': '11:0-18:0...  \n",
              "3                                               None  \n",
              "4  {'Monday': '16:0-19:0', 'Tuesday': '16:0-19:0'...  "
            ],
            "text/html": [
              "\n",
              "  <div id=\"df-2a4c4bbc-6ee0-4caa-93a7-3a05c971a850\">\n",
              "    <div class=\"colab-df-container\">\n",
              "      <div>\n",
              "<style scoped>\n",
              "    .dataframe tbody tr th:only-of-type {\n",
              "        vertical-align: middle;\n",
              "    }\n",
              "\n",
              "    .dataframe tbody tr th {\n",
              "        vertical-align: top;\n",
              "    }\n",
              "\n",
              "    .dataframe thead th {\n",
              "        text-align: right;\n",
              "    }\n",
              "</style>\n",
              "<table border=\"1\" class=\"dataframe\">\n",
              "  <thead>\n",
              "    <tr style=\"text-align: right;\">\n",
              "      <th></th>\n",
              "      <th>business_id</th>\n",
              "      <th>name</th>\n",
              "      <th>address</th>\n",
              "      <th>city</th>\n",
              "      <th>state</th>\n",
              "      <th>postal_code</th>\n",
              "      <th>latitude</th>\n",
              "      <th>longitude</th>\n",
              "      <th>stars</th>\n",
              "      <th>review_count</th>\n",
              "      <th>is_open</th>\n",
              "      <th>attributes</th>\n",
              "      <th>categories</th>\n",
              "      <th>hours</th>\n",
              "    </tr>\n",
              "  </thead>\n",
              "  <tbody>\n",
              "    <tr>\n",
              "      <th>0</th>\n",
              "      <td>6iYb2HFDywm3zjuRg0shjw</td>\n",
              "      <td>Oskar Blues Taproom</td>\n",
              "      <td>921 Pearl St</td>\n",
              "      <td>Boulder</td>\n",
              "      <td>CO</td>\n",
              "      <td>80302</td>\n",
              "      <td>40.017544</td>\n",
              "      <td>-105.283348</td>\n",
              "      <td>4.0</td>\n",
              "      <td>86</td>\n",
              "      <td>1</td>\n",
              "      <td>{'RestaurantsTableService': 'True', 'WiFi': 'u...</td>\n",
              "      <td>Gastropubs, Food, Beer Gardens, Restaurants, B...</td>\n",
              "      <td>{'Monday': '11:0-23:0', 'Tuesday': '11:0-23:0'...</td>\n",
              "    </tr>\n",
              "    <tr>\n",
              "      <th>1</th>\n",
              "      <td>tCbdrRPZA0oiIYSmHG3J0w</td>\n",
              "      <td>Flying Elephants at PDX</td>\n",
              "      <td>7000 NE Airport Way</td>\n",
              "      <td>Portland</td>\n",
              "      <td>OR</td>\n",
              "      <td>97218</td>\n",
              "      <td>45.588906</td>\n",
              "      <td>-122.593331</td>\n",
              "      <td>4.0</td>\n",
              "      <td>126</td>\n",
              "      <td>1</td>\n",
              "      <td>{'RestaurantsTakeOut': 'True', 'RestaurantsAtt...</td>\n",
              "      <td>Salad, Soup, Sandwiches, Delis, Restaurants, C...</td>\n",
              "      <td>{'Monday': '5:0-18:0', 'Tuesday': '5:0-17:0', ...</td>\n",
              "    </tr>\n",
              "    <tr>\n",
              "      <th>2</th>\n",
              "      <td>bvN78flM8NLprQ1a1y5dRg</td>\n",
              "      <td>The Reclaimory</td>\n",
              "      <td>4720 Hawthorne Ave</td>\n",
              "      <td>Portland</td>\n",
              "      <td>OR</td>\n",
              "      <td>97214</td>\n",
              "      <td>45.511907</td>\n",
              "      <td>-122.613693</td>\n",
              "      <td>4.5</td>\n",
              "      <td>13</td>\n",
              "      <td>1</td>\n",
              "      <td>{'BusinessAcceptsCreditCards': 'True', 'Restau...</td>\n",
              "      <td>Antiques, Fashion, Used, Vintage &amp; Consignment...</td>\n",
              "      <td>{'Thursday': '11:0-18:0', 'Friday': '11:0-18:0...</td>\n",
              "    </tr>\n",
              "    <tr>\n",
              "      <th>3</th>\n",
              "      <td>oaepsyvc0J17qwi8cfrOWg</td>\n",
              "      <td>Great Clips</td>\n",
              "      <td>2566 Enterprise Rd</td>\n",
              "      <td>Orange City</td>\n",
              "      <td>FL</td>\n",
              "      <td>32763</td>\n",
              "      <td>28.914482</td>\n",
              "      <td>-81.295979</td>\n",
              "      <td>3.0</td>\n",
              "      <td>8</td>\n",
              "      <td>1</td>\n",
              "      <td>{'RestaurantsPriceRange2': '1', 'BusinessAccep...</td>\n",
              "      <td>Beauty &amp; Spas, Hair Salons</td>\n",
              "      <td>None</td>\n",
              "    </tr>\n",
              "    <tr>\n",
              "      <th>4</th>\n",
              "      <td>PE9uqAjdw0E4-8mjGl3wVA</td>\n",
              "      <td>Crossfit Terminus</td>\n",
              "      <td>1046 Memorial Dr SE</td>\n",
              "      <td>Atlanta</td>\n",
              "      <td>GA</td>\n",
              "      <td>30316</td>\n",
              "      <td>33.747027</td>\n",
              "      <td>-84.353424</td>\n",
              "      <td>4.0</td>\n",
              "      <td>14</td>\n",
              "      <td>1</td>\n",
              "      <td>{'GoodForKids': 'False', 'BusinessParking': '{...</td>\n",
              "      <td>Gyms, Active Life, Interval Training Gyms, Fit...</td>\n",
              "      <td>{'Monday': '16:0-19:0', 'Tuesday': '16:0-19:0'...</td>\n",
              "    </tr>\n",
              "  </tbody>\n",
              "</table>\n",
              "</div>\n",
              "      <button class=\"colab-df-convert\" onclick=\"convertToInteractive('df-2a4c4bbc-6ee0-4caa-93a7-3a05c971a850')\"\n",
              "              title=\"Convert this dataframe to an interactive table.\"\n",
              "              style=\"display:none;\">\n",
              "        \n",
              "  <svg xmlns=\"http://www.w3.org/2000/svg\" height=\"24px\"viewBox=\"0 0 24 24\"\n",
              "       width=\"24px\">\n",
              "    <path d=\"M0 0h24v24H0V0z\" fill=\"none\"/>\n",
              "    <path d=\"M18.56 5.44l.94 2.06.94-2.06 2.06-.94-2.06-.94-.94-2.06-.94 2.06-2.06.94zm-11 1L8.5 8.5l.94-2.06 2.06-.94-2.06-.94L8.5 2.5l-.94 2.06-2.06.94zm10 10l.94 2.06.94-2.06 2.06-.94-2.06-.94-.94-2.06-.94 2.06-2.06.94z\"/><path d=\"M17.41 7.96l-1.37-1.37c-.4-.4-.92-.59-1.43-.59-.52 0-1.04.2-1.43.59L10.3 9.45l-7.72 7.72c-.78.78-.78 2.05 0 2.83L4 21.41c.39.39.9.59 1.41.59.51 0 1.02-.2 1.41-.59l7.78-7.78 2.81-2.81c.8-.78.8-2.07 0-2.86zM5.41 20L4 18.59l7.72-7.72 1.47 1.35L5.41 20z\"/>\n",
              "  </svg>\n",
              "      </button>\n",
              "      \n",
              "  <style>\n",
              "    .colab-df-container {\n",
              "      display:flex;\n",
              "      flex-wrap:wrap;\n",
              "      gap: 12px;\n",
              "    }\n",
              "\n",
              "    .colab-df-convert {\n",
              "      background-color: #E8F0FE;\n",
              "      border: none;\n",
              "      border-radius: 50%;\n",
              "      cursor: pointer;\n",
              "      display: none;\n",
              "      fill: #1967D2;\n",
              "      height: 32px;\n",
              "      padding: 0 0 0 0;\n",
              "      width: 32px;\n",
              "    }\n",
              "\n",
              "    .colab-df-convert:hover {\n",
              "      background-color: #E2EBFA;\n",
              "      box-shadow: 0px 1px 2px rgba(60, 64, 67, 0.3), 0px 1px 3px 1px rgba(60, 64, 67, 0.15);\n",
              "      fill: #174EA6;\n",
              "    }\n",
              "\n",
              "    [theme=dark] .colab-df-convert {\n",
              "      background-color: #3B4455;\n",
              "      fill: #D2E3FC;\n",
              "    }\n",
              "\n",
              "    [theme=dark] .colab-df-convert:hover {\n",
              "      background-color: #434B5C;\n",
              "      box-shadow: 0px 1px 3px 1px rgba(0, 0, 0, 0.15);\n",
              "      filter: drop-shadow(0px 1px 2px rgba(0, 0, 0, 0.3));\n",
              "      fill: #FFFFFF;\n",
              "    }\n",
              "  </style>\n",
              "\n",
              "      <script>\n",
              "        const buttonEl =\n",
              "          document.querySelector('#df-2a4c4bbc-6ee0-4caa-93a7-3a05c971a850 button.colab-df-convert');\n",
              "        buttonEl.style.display =\n",
              "          google.colab.kernel.accessAllowed ? 'block' : 'none';\n",
              "\n",
              "        async function convertToInteractive(key) {\n",
              "          const element = document.querySelector('#df-2a4c4bbc-6ee0-4caa-93a7-3a05c971a850');\n",
              "          const dataTable =\n",
              "            await google.colab.kernel.invokeFunction('convertToInteractive',\n",
              "                                                     [key], {});\n",
              "          if (!dataTable) return;\n",
              "\n",
              "          const docLinkHtml = 'Like what you see? Visit the ' +\n",
              "            '<a target=\"_blank\" href=https://colab.research.google.com/notebooks/data_table.ipynb>data table notebook</a>'\n",
              "            + ' to learn more about interactive tables.';\n",
              "          element.innerHTML = '';\n",
              "          dataTable['output_type'] = 'display_data';\n",
              "          await google.colab.output.renderOutput(dataTable, element);\n",
              "          const docLink = document.createElement('div');\n",
              "          docLink.innerHTML = docLinkHtml;\n",
              "          element.appendChild(docLink);\n",
              "        }\n",
              "      </script>\n",
              "    </div>\n",
              "  </div>\n",
              "  "
            ]
          },
          "metadata": {},
          "execution_count": 10
        }
      ]
    },
    {
      "cell_type": "markdown",
      "source": [
        "#### We **only** want to analyze the **restaurant** category from the **business** dataset"
      ],
      "metadata": {
        "id": "9Jkb7fTY2dxg"
      }
    },
    {
      "cell_type": "code",
      "source": [
        "df1 = df1[df1['categories'].notnull()]\n",
        "df_rest = df1[df1['categories'].str.contains('Restaurant')]"
      ],
      "metadata": {
        "id": "LkzRAnT2Or1w"
      },
      "execution_count": 11,
      "outputs": []
    },
    {
      "cell_type": "code",
      "source": [
        "df_rest = df_rest[['business_id', 'categories']]"
      ],
      "metadata": {
        "id": "NIEee5u-Or6J"
      },
      "execution_count": 12,
      "outputs": []
    },
    {
      "cell_type": "code",
      "source": [
        "df_rest.head()"
      ],
      "metadata": {
        "id": "cL2klGyh3LM3",
        "colab": {
          "base_uri": "https://localhost:8080/",
          "height": 206
        },
        "outputId": "89a8e04b-d695-4092-b146-0b63c018a65b"
      },
      "execution_count": 13,
      "outputs": [
        {
          "output_type": "execute_result",
          "data": {
            "text/plain": [
              "               business_id                                         categories\n",
              "0   6iYb2HFDywm3zjuRg0shjw  Gastropubs, Food, Beer Gardens, Restaurants, B...\n",
              "1   tCbdrRPZA0oiIYSmHG3J0w  Salad, Soup, Sandwiches, Delis, Restaurants, C...\n",
              "5   D4JtQNTI4X3KcbzacDJsMw                                  Restaurants, Thai\n",
              "7   jFYIsSb7r1QeESVUnXPHBw                    Breakfast & Brunch, Restaurants\n",
              "12  HPA_qyMEddpAEtFof02ixg                           Food, Pizza, Restaurants"
            ],
            "text/html": [
              "\n",
              "  <div id=\"df-dd373b1f-36ba-4385-8732-bc44f16b47bd\">\n",
              "    <div class=\"colab-df-container\">\n",
              "      <div>\n",
              "<style scoped>\n",
              "    .dataframe tbody tr th:only-of-type {\n",
              "        vertical-align: middle;\n",
              "    }\n",
              "\n",
              "    .dataframe tbody tr th {\n",
              "        vertical-align: top;\n",
              "    }\n",
              "\n",
              "    .dataframe thead th {\n",
              "        text-align: right;\n",
              "    }\n",
              "</style>\n",
              "<table border=\"1\" class=\"dataframe\">\n",
              "  <thead>\n",
              "    <tr style=\"text-align: right;\">\n",
              "      <th></th>\n",
              "      <th>business_id</th>\n",
              "      <th>categories</th>\n",
              "    </tr>\n",
              "  </thead>\n",
              "  <tbody>\n",
              "    <tr>\n",
              "      <th>0</th>\n",
              "      <td>6iYb2HFDywm3zjuRg0shjw</td>\n",
              "      <td>Gastropubs, Food, Beer Gardens, Restaurants, B...</td>\n",
              "    </tr>\n",
              "    <tr>\n",
              "      <th>1</th>\n",
              "      <td>tCbdrRPZA0oiIYSmHG3J0w</td>\n",
              "      <td>Salad, Soup, Sandwiches, Delis, Restaurants, C...</td>\n",
              "    </tr>\n",
              "    <tr>\n",
              "      <th>5</th>\n",
              "      <td>D4JtQNTI4X3KcbzacDJsMw</td>\n",
              "      <td>Restaurants, Thai</td>\n",
              "    </tr>\n",
              "    <tr>\n",
              "      <th>7</th>\n",
              "      <td>jFYIsSb7r1QeESVUnXPHBw</td>\n",
              "      <td>Breakfast &amp; Brunch, Restaurants</td>\n",
              "    </tr>\n",
              "    <tr>\n",
              "      <th>12</th>\n",
              "      <td>HPA_qyMEddpAEtFof02ixg</td>\n",
              "      <td>Food, Pizza, Restaurants</td>\n",
              "    </tr>\n",
              "  </tbody>\n",
              "</table>\n",
              "</div>\n",
              "      <button class=\"colab-df-convert\" onclick=\"convertToInteractive('df-dd373b1f-36ba-4385-8732-bc44f16b47bd')\"\n",
              "              title=\"Convert this dataframe to an interactive table.\"\n",
              "              style=\"display:none;\">\n",
              "        \n",
              "  <svg xmlns=\"http://www.w3.org/2000/svg\" height=\"24px\"viewBox=\"0 0 24 24\"\n",
              "       width=\"24px\">\n",
              "    <path d=\"M0 0h24v24H0V0z\" fill=\"none\"/>\n",
              "    <path d=\"M18.56 5.44l.94 2.06.94-2.06 2.06-.94-2.06-.94-.94-2.06-.94 2.06-2.06.94zm-11 1L8.5 8.5l.94-2.06 2.06-.94-2.06-.94L8.5 2.5l-.94 2.06-2.06.94zm10 10l.94 2.06.94-2.06 2.06-.94-2.06-.94-.94-2.06-.94 2.06-2.06.94z\"/><path d=\"M17.41 7.96l-1.37-1.37c-.4-.4-.92-.59-1.43-.59-.52 0-1.04.2-1.43.59L10.3 9.45l-7.72 7.72c-.78.78-.78 2.05 0 2.83L4 21.41c.39.39.9.59 1.41.59.51 0 1.02-.2 1.41-.59l7.78-7.78 2.81-2.81c.8-.78.8-2.07 0-2.86zM5.41 20L4 18.59l7.72-7.72 1.47 1.35L5.41 20z\"/>\n",
              "  </svg>\n",
              "      </button>\n",
              "      \n",
              "  <style>\n",
              "    .colab-df-container {\n",
              "      display:flex;\n",
              "      flex-wrap:wrap;\n",
              "      gap: 12px;\n",
              "    }\n",
              "\n",
              "    .colab-df-convert {\n",
              "      background-color: #E8F0FE;\n",
              "      border: none;\n",
              "      border-radius: 50%;\n",
              "      cursor: pointer;\n",
              "      display: none;\n",
              "      fill: #1967D2;\n",
              "      height: 32px;\n",
              "      padding: 0 0 0 0;\n",
              "      width: 32px;\n",
              "    }\n",
              "\n",
              "    .colab-df-convert:hover {\n",
              "      background-color: #E2EBFA;\n",
              "      box-shadow: 0px 1px 2px rgba(60, 64, 67, 0.3), 0px 1px 3px 1px rgba(60, 64, 67, 0.15);\n",
              "      fill: #174EA6;\n",
              "    }\n",
              "\n",
              "    [theme=dark] .colab-df-convert {\n",
              "      background-color: #3B4455;\n",
              "      fill: #D2E3FC;\n",
              "    }\n",
              "\n",
              "    [theme=dark] .colab-df-convert:hover {\n",
              "      background-color: #434B5C;\n",
              "      box-shadow: 0px 1px 3px 1px rgba(0, 0, 0, 0.15);\n",
              "      filter: drop-shadow(0px 1px 2px rgba(0, 0, 0, 0.3));\n",
              "      fill: #FFFFFF;\n",
              "    }\n",
              "  </style>\n",
              "\n",
              "      <script>\n",
              "        const buttonEl =\n",
              "          document.querySelector('#df-dd373b1f-36ba-4385-8732-bc44f16b47bd button.colab-df-convert');\n",
              "        buttonEl.style.display =\n",
              "          google.colab.kernel.accessAllowed ? 'block' : 'none';\n",
              "\n",
              "        async function convertToInteractive(key) {\n",
              "          const element = document.querySelector('#df-dd373b1f-36ba-4385-8732-bc44f16b47bd');\n",
              "          const dataTable =\n",
              "            await google.colab.kernel.invokeFunction('convertToInteractive',\n",
              "                                                     [key], {});\n",
              "          if (!dataTable) return;\n",
              "\n",
              "          const docLinkHtml = 'Like what you see? Visit the ' +\n",
              "            '<a target=\"_blank\" href=https://colab.research.google.com/notebooks/data_table.ipynb>data table notebook</a>'\n",
              "            + ' to learn more about interactive tables.';\n",
              "          element.innerHTML = '';\n",
              "          dataTable['output_type'] = 'display_data';\n",
              "          await google.colab.output.renderOutput(dataTable, element);\n",
              "          const docLink = document.createElement('div');\n",
              "          docLink.innerHTML = docLinkHtml;\n",
              "          element.appendChild(docLink);\n",
              "        }\n",
              "      </script>\n",
              "    </div>\n",
              "  </div>\n",
              "  "
            ]
          },
          "metadata": {},
          "execution_count": 13
        }
      ]
    },
    {
      "cell_type": "markdown",
      "source": [
        "#### We want to **merge** the two datasets to analyse the **restaurant reviews**. \"**business_id**\" is the **common** columm of the two datasets"
      ],
      "metadata": {
        "id": "Qodph1Yj3Pl-"
      }
    },
    {
      "cell_type": "code",
      "source": [
        "# business_id is tne common columm of the two datasets\n",
        "df_merged = df.merge(df_rest, how='inner', on='business_id')"
      ],
      "metadata": {
        "id": "1gYxDOuFOsL-"
      },
      "execution_count": 14,
      "outputs": []
    },
    {
      "cell_type": "code",
      "source": [
        "del df, df_rest"
      ],
      "metadata": {
        "id": "usnIvi3LOsQe"
      },
      "execution_count": 15,
      "outputs": []
    },
    {
      "cell_type": "code",
      "source": [
        "df_merged.head()"
      ],
      "metadata": {
        "id": "LenH4d69Ot6x",
        "colab": {
          "base_uri": "https://localhost:8080/",
          "height": 206
        },
        "outputId": "8b71d29f-6e7f-45e3-c06a-a656a7c21c5f"
      },
      "execution_count": 16,
      "outputs": [
        {
          "output_type": "execute_result",
          "data": {
            "text/plain": [
              "              business_id  stars  \\\n",
              "0  buF9druCkbuXLX526sGELQ      4   \n",
              "1  buF9druCkbuXLX526sGELQ      2   \n",
              "2  buF9druCkbuXLX526sGELQ      5   \n",
              "3  buF9druCkbuXLX526sGELQ      5   \n",
              "4  0AzLzHfOJgL7ROwhdww2ew      2   \n",
              "\n",
              "                                                text  \\\n",
              "0  Apparently Prides Osteria had a rough summer a...   \n",
              "1  I was really disappointed to say the least. I ...   \n",
              "2  This is as close to dining in Italy as you'll ...   \n",
              "3  Great food and service! Again. 4 out of the la...   \n",
              "4  I've stayed at many Marriott and Renaissance M...   \n",
              "\n",
              "                                          categories  \n",
              "0  Restaurants, Wine Bars, Nightlife, Farmers Mar...  \n",
              "1  Restaurants, Wine Bars, Nightlife, Farmers Mar...  \n",
              "2  Restaurants, Wine Bars, Nightlife, Farmers Mar...  \n",
              "3  Restaurants, Wine Bars, Nightlife, Farmers Mar...  \n",
              "4  Hotels, Hotels & Travel, Restaurants, Event Pl...  "
            ],
            "text/html": [
              "\n",
              "  <div id=\"df-5d697c0c-1eab-4c66-9e01-3f2e52cebe87\">\n",
              "    <div class=\"colab-df-container\">\n",
              "      <div>\n",
              "<style scoped>\n",
              "    .dataframe tbody tr th:only-of-type {\n",
              "        vertical-align: middle;\n",
              "    }\n",
              "\n",
              "    .dataframe tbody tr th {\n",
              "        vertical-align: top;\n",
              "    }\n",
              "\n",
              "    .dataframe thead th {\n",
              "        text-align: right;\n",
              "    }\n",
              "</style>\n",
              "<table border=\"1\" class=\"dataframe\">\n",
              "  <thead>\n",
              "    <tr style=\"text-align: right;\">\n",
              "      <th></th>\n",
              "      <th>business_id</th>\n",
              "      <th>stars</th>\n",
              "      <th>text</th>\n",
              "      <th>categories</th>\n",
              "    </tr>\n",
              "  </thead>\n",
              "  <tbody>\n",
              "    <tr>\n",
              "      <th>0</th>\n",
              "      <td>buF9druCkbuXLX526sGELQ</td>\n",
              "      <td>4</td>\n",
              "      <td>Apparently Prides Osteria had a rough summer a...</td>\n",
              "      <td>Restaurants, Wine Bars, Nightlife, Farmers Mar...</td>\n",
              "    </tr>\n",
              "    <tr>\n",
              "      <th>1</th>\n",
              "      <td>buF9druCkbuXLX526sGELQ</td>\n",
              "      <td>2</td>\n",
              "      <td>I was really disappointed to say the least. I ...</td>\n",
              "      <td>Restaurants, Wine Bars, Nightlife, Farmers Mar...</td>\n",
              "    </tr>\n",
              "    <tr>\n",
              "      <th>2</th>\n",
              "      <td>buF9druCkbuXLX526sGELQ</td>\n",
              "      <td>5</td>\n",
              "      <td>This is as close to dining in Italy as you'll ...</td>\n",
              "      <td>Restaurants, Wine Bars, Nightlife, Farmers Mar...</td>\n",
              "    </tr>\n",
              "    <tr>\n",
              "      <th>3</th>\n",
              "      <td>buF9druCkbuXLX526sGELQ</td>\n",
              "      <td>5</td>\n",
              "      <td>Great food and service! Again. 4 out of the la...</td>\n",
              "      <td>Restaurants, Wine Bars, Nightlife, Farmers Mar...</td>\n",
              "    </tr>\n",
              "    <tr>\n",
              "      <th>4</th>\n",
              "      <td>0AzLzHfOJgL7ROwhdww2ew</td>\n",
              "      <td>2</td>\n",
              "      <td>I've stayed at many Marriott and Renaissance M...</td>\n",
              "      <td>Hotels, Hotels &amp; Travel, Restaurants, Event Pl...</td>\n",
              "    </tr>\n",
              "  </tbody>\n",
              "</table>\n",
              "</div>\n",
              "      <button class=\"colab-df-convert\" onclick=\"convertToInteractive('df-5d697c0c-1eab-4c66-9e01-3f2e52cebe87')\"\n",
              "              title=\"Convert this dataframe to an interactive table.\"\n",
              "              style=\"display:none;\">\n",
              "        \n",
              "  <svg xmlns=\"http://www.w3.org/2000/svg\" height=\"24px\"viewBox=\"0 0 24 24\"\n",
              "       width=\"24px\">\n",
              "    <path d=\"M0 0h24v24H0V0z\" fill=\"none\"/>\n",
              "    <path d=\"M18.56 5.44l.94 2.06.94-2.06 2.06-.94-2.06-.94-.94-2.06-.94 2.06-2.06.94zm-11 1L8.5 8.5l.94-2.06 2.06-.94-2.06-.94L8.5 2.5l-.94 2.06-2.06.94zm10 10l.94 2.06.94-2.06 2.06-.94-2.06-.94-.94-2.06-.94 2.06-2.06.94z\"/><path d=\"M17.41 7.96l-1.37-1.37c-.4-.4-.92-.59-1.43-.59-.52 0-1.04.2-1.43.59L10.3 9.45l-7.72 7.72c-.78.78-.78 2.05 0 2.83L4 21.41c.39.39.9.59 1.41.59.51 0 1.02-.2 1.41-.59l7.78-7.78 2.81-2.81c.8-.78.8-2.07 0-2.86zM5.41 20L4 18.59l7.72-7.72 1.47 1.35L5.41 20z\"/>\n",
              "  </svg>\n",
              "      </button>\n",
              "      \n",
              "  <style>\n",
              "    .colab-df-container {\n",
              "      display:flex;\n",
              "      flex-wrap:wrap;\n",
              "      gap: 12px;\n",
              "    }\n",
              "\n",
              "    .colab-df-convert {\n",
              "      background-color: #E8F0FE;\n",
              "      border: none;\n",
              "      border-radius: 50%;\n",
              "      cursor: pointer;\n",
              "      display: none;\n",
              "      fill: #1967D2;\n",
              "      height: 32px;\n",
              "      padding: 0 0 0 0;\n",
              "      width: 32px;\n",
              "    }\n",
              "\n",
              "    .colab-df-convert:hover {\n",
              "      background-color: #E2EBFA;\n",
              "      box-shadow: 0px 1px 2px rgba(60, 64, 67, 0.3), 0px 1px 3px 1px rgba(60, 64, 67, 0.15);\n",
              "      fill: #174EA6;\n",
              "    }\n",
              "\n",
              "    [theme=dark] .colab-df-convert {\n",
              "      background-color: #3B4455;\n",
              "      fill: #D2E3FC;\n",
              "    }\n",
              "\n",
              "    [theme=dark] .colab-df-convert:hover {\n",
              "      background-color: #434B5C;\n",
              "      box-shadow: 0px 1px 3px 1px rgba(0, 0, 0, 0.15);\n",
              "      filter: drop-shadow(0px 1px 2px rgba(0, 0, 0, 0.3));\n",
              "      fill: #FFFFFF;\n",
              "    }\n",
              "  </style>\n",
              "\n",
              "      <script>\n",
              "        const buttonEl =\n",
              "          document.querySelector('#df-5d697c0c-1eab-4c66-9e01-3f2e52cebe87 button.colab-df-convert');\n",
              "        buttonEl.style.display =\n",
              "          google.colab.kernel.accessAllowed ? 'block' : 'none';\n",
              "\n",
              "        async function convertToInteractive(key) {\n",
              "          const element = document.querySelector('#df-5d697c0c-1eab-4c66-9e01-3f2e52cebe87');\n",
              "          const dataTable =\n",
              "            await google.colab.kernel.invokeFunction('convertToInteractive',\n",
              "                                                     [key], {});\n",
              "          if (!dataTable) return;\n",
              "\n",
              "          const docLinkHtml = 'Like what you see? Visit the ' +\n",
              "            '<a target=\"_blank\" href=https://colab.research.google.com/notebooks/data_table.ipynb>data table notebook</a>'\n",
              "            + ' to learn more about interactive tables.';\n",
              "          element.innerHTML = '';\n",
              "          dataTable['output_type'] = 'display_data';\n",
              "          await google.colab.output.renderOutput(dataTable, element);\n",
              "          const docLink = document.createElement('div');\n",
              "          docLink.innerHTML = docLinkHtml;\n",
              "          element.appendChild(docLink);\n",
              "        }\n",
              "      </script>\n",
              "    </div>\n",
              "  </div>\n",
              "  "
            ]
          },
          "metadata": {},
          "execution_count": 16
        }
      ]
    },
    {
      "cell_type": "markdown",
      "source": [
        "#### **Rename** the **text column** and **remove** the **\"business_id\"** column because it **isn't necessary anymore**"
      ],
      "metadata": {
        "id": "exdkMOVa5Hyo"
      }
    },
    {
      "cell_type": "code",
      "source": [
        "# Rename the text column and remove the \"business_id\" column because it isn't necessary anymore\n",
        "df_merged.rename(columns={'text':'restaurant_reviews'}, inplace=True)\n",
        "df_merged.drop('business_id', axis=1, inplace=True)"
      ],
      "metadata": {
        "id": "eUDpeGrUOt_S"
      },
      "execution_count": 17,
      "outputs": []
    },
    {
      "cell_type": "markdown",
      "source": [
        "#### We will **only** analyse the reviews **written** in **English**"
      ],
      "metadata": {
        "id": "x80FJmC5uXI4"
      }
    },
    {
      "cell_type": "code",
      "source": [
        "from langdetect import detect"
      ],
      "metadata": {
        "id": "DSiq-u_xP5mF"
      },
      "execution_count": 18,
      "outputs": []
    },
    {
      "cell_type": "code",
      "source": [
        "df_merged['detect'] = df_merged['restaurant_reviews'].apply(detect)\n",
        "df_merged = df_merged[df_merged['detect'] == 'en'].reset_index(drop=True)"
      ],
      "metadata": {
        "id": "vl_AiME2P5r0"
      },
      "execution_count": 19,
      "outputs": []
    },
    {
      "cell_type": "code",
      "source": [
        "# Check if there is NaN values\n",
        "df_merged.isnull().values.any()"
      ],
      "metadata": {
        "id": "DZ7M_4epP5xv",
        "colab": {
          "base_uri": "https://localhost:8080/"
        },
        "outputId": "197b0dbc-709e-4d86-92d2-fa66577a5365"
      },
      "execution_count": 20,
      "outputs": [
        {
          "output_type": "execute_result",
          "data": {
            "text/plain": [
              "False"
            ]
          },
          "metadata": {},
          "execution_count": 20
        }
      ]
    },
    {
      "cell_type": "markdown",
      "source": [
        "#### Return the dataframe with **duplicate** rows **removed**"
      ],
      "metadata": {
        "id": "i5TAVn6vmHoX"
      }
    },
    {
      "cell_type": "code",
      "source": [
        "df_merged.drop_duplicates(inplace=True)"
      ],
      "metadata": {
        "id": "vu4cJkS5mIIL"
      },
      "execution_count": 21,
      "outputs": []
    },
    {
      "cell_type": "markdown",
      "source": [
        "#### As **many** of the **3 stars reviews**, most likely, have both **good and bad aspects/feelings**, we will **remove** those reviews so they **won't harm** our sentiment analysis"
      ],
      "metadata": {
        "id": "WT9zEKyi6hk0"
      }
    },
    {
      "cell_type": "code",
      "source": [
        "df_merged = df_merged[(df_merged[\"stars\"]!=3)]\n",
        "df_merged.head(20)"
      ],
      "metadata": {
        "id": "VxG96PWOP6D8",
        "colab": {
          "base_uri": "https://localhost:8080/",
          "height": 676
        },
        "outputId": "97e51bcc-1eb7-49ea-f13a-ca55bec2e65c"
      },
      "execution_count": 24,
      "outputs": [
        {
          "output_type": "execute_result",
          "data": {
            "text/plain": [
              "    stars                                 restaurant_reviews  \\\n",
              "0       4  Apparently Prides Osteria had a rough summer a...   \n",
              "1       2  I was really disappointed to say the least. I ...   \n",
              "2       5  This is as close to dining in Italy as you'll ...   \n",
              "3       5  Great food and service! Again. 4 out of the la...   \n",
              "4       2  I've stayed at many Marriott and Renaissance M...   \n",
              "5       4  I was a there for a professional conference. s...   \n",
              "6       4  I stayed for five nights this past April with ...   \n",
              "7       4  I stayed here recently for a conference I was ...   \n",
              "8       4  The food is always great here. The service fro...   \n",
              "9       2  Brasserie zero zero... we were hoping for a te...   \n",
              "10      5  I absolutely love this restaurant. I've been c...   \n",
              "11      5  The food is great!  One of my fav brunch spots...   \n",
              "12      5  Went here for dinner in day two of our trip. I...   \n",
              "13      5  Food: 4.0 of 5.0\\nService: 5.0 of 5.0\\nEnviron...   \n",
              "14      4  one of the staples in boulder.  fabulous space...   \n",
              "15      5  Wow. Best service I have ever had. Slight wait...   \n",
              "16      4  I'm giving four stars because the service was ...   \n",
              "17      5  I had the duck, the fromage special, and the m...   \n",
              "18      4  Better than I expected it to be.  To be fair, ...   \n",
              "19      5  I like this place! Every time I visit Boulder,...   \n",
              "\n",
              "                                           categories detect  \n",
              "0   Restaurants, Wine Bars, Nightlife, Farmers Mar...     en  \n",
              "1   Restaurants, Wine Bars, Nightlife, Farmers Mar...     en  \n",
              "2   Restaurants, Wine Bars, Nightlife, Farmers Mar...     en  \n",
              "3   Restaurants, Wine Bars, Nightlife, Farmers Mar...     en  \n",
              "4   Hotels, Hotels & Travel, Restaurants, Event Pl...     en  \n",
              "5   Hotels, Hotels & Travel, Restaurants, Event Pl...     en  \n",
              "6   Hotels, Hotels & Travel, Restaurants, Event Pl...     en  \n",
              "7   Hotels, Hotels & Travel, Restaurants, Event Pl...     en  \n",
              "8                                 Restaurants, French     en  \n",
              "9                                 Restaurants, French     en  \n",
              "10                                Restaurants, French     en  \n",
              "11                                Restaurants, French     en  \n",
              "12                                Restaurants, French     en  \n",
              "13                                Restaurants, French     en  \n",
              "14                                Restaurants, French     en  \n",
              "15                                Restaurants, French     en  \n",
              "16                                Restaurants, French     en  \n",
              "17                                Restaurants, French     en  \n",
              "18                                Restaurants, French     en  \n",
              "19                                Restaurants, French     en  "
            ],
            "text/html": [
              "\n",
              "  <div id=\"df-e2080fb1-6551-4457-9c7f-9299c379eb53\">\n",
              "    <div class=\"colab-df-container\">\n",
              "      <div>\n",
              "<style scoped>\n",
              "    .dataframe tbody tr th:only-of-type {\n",
              "        vertical-align: middle;\n",
              "    }\n",
              "\n",
              "    .dataframe tbody tr th {\n",
              "        vertical-align: top;\n",
              "    }\n",
              "\n",
              "    .dataframe thead th {\n",
              "        text-align: right;\n",
              "    }\n",
              "</style>\n",
              "<table border=\"1\" class=\"dataframe\">\n",
              "  <thead>\n",
              "    <tr style=\"text-align: right;\">\n",
              "      <th></th>\n",
              "      <th>stars</th>\n",
              "      <th>restaurant_reviews</th>\n",
              "      <th>categories</th>\n",
              "      <th>detect</th>\n",
              "    </tr>\n",
              "  </thead>\n",
              "  <tbody>\n",
              "    <tr>\n",
              "      <th>0</th>\n",
              "      <td>4</td>\n",
              "      <td>Apparently Prides Osteria had a rough summer a...</td>\n",
              "      <td>Restaurants, Wine Bars, Nightlife, Farmers Mar...</td>\n",
              "      <td>en</td>\n",
              "    </tr>\n",
              "    <tr>\n",
              "      <th>1</th>\n",
              "      <td>2</td>\n",
              "      <td>I was really disappointed to say the least. I ...</td>\n",
              "      <td>Restaurants, Wine Bars, Nightlife, Farmers Mar...</td>\n",
              "      <td>en</td>\n",
              "    </tr>\n",
              "    <tr>\n",
              "      <th>2</th>\n",
              "      <td>5</td>\n",
              "      <td>This is as close to dining in Italy as you'll ...</td>\n",
              "      <td>Restaurants, Wine Bars, Nightlife, Farmers Mar...</td>\n",
              "      <td>en</td>\n",
              "    </tr>\n",
              "    <tr>\n",
              "      <th>3</th>\n",
              "      <td>5</td>\n",
              "      <td>Great food and service! Again. 4 out of the la...</td>\n",
              "      <td>Restaurants, Wine Bars, Nightlife, Farmers Mar...</td>\n",
              "      <td>en</td>\n",
              "    </tr>\n",
              "    <tr>\n",
              "      <th>4</th>\n",
              "      <td>2</td>\n",
              "      <td>I've stayed at many Marriott and Renaissance M...</td>\n",
              "      <td>Hotels, Hotels &amp; Travel, Restaurants, Event Pl...</td>\n",
              "      <td>en</td>\n",
              "    </tr>\n",
              "    <tr>\n",
              "      <th>5</th>\n",
              "      <td>4</td>\n",
              "      <td>I was a there for a professional conference. s...</td>\n",
              "      <td>Hotels, Hotels &amp; Travel, Restaurants, Event Pl...</td>\n",
              "      <td>en</td>\n",
              "    </tr>\n",
              "    <tr>\n",
              "      <th>6</th>\n",
              "      <td>4</td>\n",
              "      <td>I stayed for five nights this past April with ...</td>\n",
              "      <td>Hotels, Hotels &amp; Travel, Restaurants, Event Pl...</td>\n",
              "      <td>en</td>\n",
              "    </tr>\n",
              "    <tr>\n",
              "      <th>7</th>\n",
              "      <td>4</td>\n",
              "      <td>I stayed here recently for a conference I was ...</td>\n",
              "      <td>Hotels, Hotels &amp; Travel, Restaurants, Event Pl...</td>\n",
              "      <td>en</td>\n",
              "    </tr>\n",
              "    <tr>\n",
              "      <th>8</th>\n",
              "      <td>4</td>\n",
              "      <td>The food is always great here. The service fro...</td>\n",
              "      <td>Restaurants, French</td>\n",
              "      <td>en</td>\n",
              "    </tr>\n",
              "    <tr>\n",
              "      <th>9</th>\n",
              "      <td>2</td>\n",
              "      <td>Brasserie zero zero... we were hoping for a te...</td>\n",
              "      <td>Restaurants, French</td>\n",
              "      <td>en</td>\n",
              "    </tr>\n",
              "    <tr>\n",
              "      <th>10</th>\n",
              "      <td>5</td>\n",
              "      <td>I absolutely love this restaurant. I've been c...</td>\n",
              "      <td>Restaurants, French</td>\n",
              "      <td>en</td>\n",
              "    </tr>\n",
              "    <tr>\n",
              "      <th>11</th>\n",
              "      <td>5</td>\n",
              "      <td>The food is great!  One of my fav brunch spots...</td>\n",
              "      <td>Restaurants, French</td>\n",
              "      <td>en</td>\n",
              "    </tr>\n",
              "    <tr>\n",
              "      <th>12</th>\n",
              "      <td>5</td>\n",
              "      <td>Went here for dinner in day two of our trip. I...</td>\n",
              "      <td>Restaurants, French</td>\n",
              "      <td>en</td>\n",
              "    </tr>\n",
              "    <tr>\n",
              "      <th>13</th>\n",
              "      <td>5</td>\n",
              "      <td>Food: 4.0 of 5.0\\nService: 5.0 of 5.0\\nEnviron...</td>\n",
              "      <td>Restaurants, French</td>\n",
              "      <td>en</td>\n",
              "    </tr>\n",
              "    <tr>\n",
              "      <th>14</th>\n",
              "      <td>4</td>\n",
              "      <td>one of the staples in boulder.  fabulous space...</td>\n",
              "      <td>Restaurants, French</td>\n",
              "      <td>en</td>\n",
              "    </tr>\n",
              "    <tr>\n",
              "      <th>15</th>\n",
              "      <td>5</td>\n",
              "      <td>Wow. Best service I have ever had. Slight wait...</td>\n",
              "      <td>Restaurants, French</td>\n",
              "      <td>en</td>\n",
              "    </tr>\n",
              "    <tr>\n",
              "      <th>16</th>\n",
              "      <td>4</td>\n",
              "      <td>I'm giving four stars because the service was ...</td>\n",
              "      <td>Restaurants, French</td>\n",
              "      <td>en</td>\n",
              "    </tr>\n",
              "    <tr>\n",
              "      <th>17</th>\n",
              "      <td>5</td>\n",
              "      <td>I had the duck, the fromage special, and the m...</td>\n",
              "      <td>Restaurants, French</td>\n",
              "      <td>en</td>\n",
              "    </tr>\n",
              "    <tr>\n",
              "      <th>18</th>\n",
              "      <td>4</td>\n",
              "      <td>Better than I expected it to be.  To be fair, ...</td>\n",
              "      <td>Restaurants, French</td>\n",
              "      <td>en</td>\n",
              "    </tr>\n",
              "    <tr>\n",
              "      <th>19</th>\n",
              "      <td>5</td>\n",
              "      <td>I like this place! Every time I visit Boulder,...</td>\n",
              "      <td>Restaurants, French</td>\n",
              "      <td>en</td>\n",
              "    </tr>\n",
              "  </tbody>\n",
              "</table>\n",
              "</div>\n",
              "      <button class=\"colab-df-convert\" onclick=\"convertToInteractive('df-e2080fb1-6551-4457-9c7f-9299c379eb53')\"\n",
              "              title=\"Convert this dataframe to an interactive table.\"\n",
              "              style=\"display:none;\">\n",
              "        \n",
              "  <svg xmlns=\"http://www.w3.org/2000/svg\" height=\"24px\"viewBox=\"0 0 24 24\"\n",
              "       width=\"24px\">\n",
              "    <path d=\"M0 0h24v24H0V0z\" fill=\"none\"/>\n",
              "    <path d=\"M18.56 5.44l.94 2.06.94-2.06 2.06-.94-2.06-.94-.94-2.06-.94 2.06-2.06.94zm-11 1L8.5 8.5l.94-2.06 2.06-.94-2.06-.94L8.5 2.5l-.94 2.06-2.06.94zm10 10l.94 2.06.94-2.06 2.06-.94-2.06-.94-.94-2.06-.94 2.06-2.06.94z\"/><path d=\"M17.41 7.96l-1.37-1.37c-.4-.4-.92-.59-1.43-.59-.52 0-1.04.2-1.43.59L10.3 9.45l-7.72 7.72c-.78.78-.78 2.05 0 2.83L4 21.41c.39.39.9.59 1.41.59.51 0 1.02-.2 1.41-.59l7.78-7.78 2.81-2.81c.8-.78.8-2.07 0-2.86zM5.41 20L4 18.59l7.72-7.72 1.47 1.35L5.41 20z\"/>\n",
              "  </svg>\n",
              "      </button>\n",
              "      \n",
              "  <style>\n",
              "    .colab-df-container {\n",
              "      display:flex;\n",
              "      flex-wrap:wrap;\n",
              "      gap: 12px;\n",
              "    }\n",
              "\n",
              "    .colab-df-convert {\n",
              "      background-color: #E8F0FE;\n",
              "      border: none;\n",
              "      border-radius: 50%;\n",
              "      cursor: pointer;\n",
              "      display: none;\n",
              "      fill: #1967D2;\n",
              "      height: 32px;\n",
              "      padding: 0 0 0 0;\n",
              "      width: 32px;\n",
              "    }\n",
              "\n",
              "    .colab-df-convert:hover {\n",
              "      background-color: #E2EBFA;\n",
              "      box-shadow: 0px 1px 2px rgba(60, 64, 67, 0.3), 0px 1px 3px 1px rgba(60, 64, 67, 0.15);\n",
              "      fill: #174EA6;\n",
              "    }\n",
              "\n",
              "    [theme=dark] .colab-df-convert {\n",
              "      background-color: #3B4455;\n",
              "      fill: #D2E3FC;\n",
              "    }\n",
              "\n",
              "    [theme=dark] .colab-df-convert:hover {\n",
              "      background-color: #434B5C;\n",
              "      box-shadow: 0px 1px 3px 1px rgba(0, 0, 0, 0.15);\n",
              "      filter: drop-shadow(0px 1px 2px rgba(0, 0, 0, 0.3));\n",
              "      fill: #FFFFFF;\n",
              "    }\n",
              "  </style>\n",
              "\n",
              "      <script>\n",
              "        const buttonEl =\n",
              "          document.querySelector('#df-e2080fb1-6551-4457-9c7f-9299c379eb53 button.colab-df-convert');\n",
              "        buttonEl.style.display =\n",
              "          google.colab.kernel.accessAllowed ? 'block' : 'none';\n",
              "\n",
              "        async function convertToInteractive(key) {\n",
              "          const element = document.querySelector('#df-e2080fb1-6551-4457-9c7f-9299c379eb53');\n",
              "          const dataTable =\n",
              "            await google.colab.kernel.invokeFunction('convertToInteractive',\n",
              "                                                     [key], {});\n",
              "          if (!dataTable) return;\n",
              "\n",
              "          const docLinkHtml = 'Like what you see? Visit the ' +\n",
              "            '<a target=\"_blank\" href=https://colab.research.google.com/notebooks/data_table.ipynb>data table notebook</a>'\n",
              "            + ' to learn more about interactive tables.';\n",
              "          element.innerHTML = '';\n",
              "          dataTable['output_type'] = 'display_data';\n",
              "          await google.colab.output.renderOutput(dataTable, element);\n",
              "          const docLink = document.createElement('div');\n",
              "          docLink.innerHTML = docLinkHtml;\n",
              "          element.appendChild(docLink);\n",
              "        }\n",
              "      </script>\n",
              "    </div>\n",
              "  </div>\n",
              "  "
            ]
          },
          "metadata": {},
          "execution_count": 24
        }
      ]
    },
    {
      "cell_type": "markdown",
      "source": [
        "#### **Label** reviews as **positive** - **1** (4 and 5 stars) - or **negative** - **0** (1 and 2 stars) - and after that **remove** the **\"stars\" column**, it is not needed anymore"
      ],
      "metadata": {
        "id": "lXOtX5Ih6q6G"
      }
    },
    {
      "cell_type": "code",
      "source": [
        "# label reviews as positive or negative and after that remove the \"stars\" column, it is not needed anymore\n",
        " \n",
        "df_merged.loc[df_merged['stars'] < 3, 'sentiment'] = 0 \n",
        "df_merged.loc[df_merged['stars'] > 3, 'sentiment'] = 1\n",
        "df_merged.drop('stars', axis=1, inplace=True)\n",
        "df_merged.head(10)"
      ],
      "metadata": {
        "id": "vOH0Cqr7P6JB",
        "colab": {
          "base_uri": "https://localhost:8080/",
          "height": 363
        },
        "outputId": "fd754375-9d36-4b3d-f661-a960141f01ba"
      },
      "execution_count": 25,
      "outputs": [
        {
          "output_type": "execute_result",
          "data": {
            "text/plain": [
              "                                  restaurant_reviews  \\\n",
              "0  Apparently Prides Osteria had a rough summer a...   \n",
              "1  I was really disappointed to say the least. I ...   \n",
              "2  This is as close to dining in Italy as you'll ...   \n",
              "3  Great food and service! Again. 4 out of the la...   \n",
              "4  I've stayed at many Marriott and Renaissance M...   \n",
              "5  I was a there for a professional conference. s...   \n",
              "6  I stayed for five nights this past April with ...   \n",
              "7  I stayed here recently for a conference I was ...   \n",
              "8  The food is always great here. The service fro...   \n",
              "9  Brasserie zero zero... we were hoping for a te...   \n",
              "\n",
              "                                          categories detect  sentiment  \n",
              "0  Restaurants, Wine Bars, Nightlife, Farmers Mar...     en        1.0  \n",
              "1  Restaurants, Wine Bars, Nightlife, Farmers Mar...     en        0.0  \n",
              "2  Restaurants, Wine Bars, Nightlife, Farmers Mar...     en        1.0  \n",
              "3  Restaurants, Wine Bars, Nightlife, Farmers Mar...     en        1.0  \n",
              "4  Hotels, Hotels & Travel, Restaurants, Event Pl...     en        0.0  \n",
              "5  Hotels, Hotels & Travel, Restaurants, Event Pl...     en        1.0  \n",
              "6  Hotels, Hotels & Travel, Restaurants, Event Pl...     en        1.0  \n",
              "7  Hotels, Hotels & Travel, Restaurants, Event Pl...     en        1.0  \n",
              "8                                Restaurants, French     en        1.0  \n",
              "9                                Restaurants, French     en        0.0  "
            ],
            "text/html": [
              "\n",
              "  <div id=\"df-8a4d602f-4551-4e18-9871-ef9f6db6735e\">\n",
              "    <div class=\"colab-df-container\">\n",
              "      <div>\n",
              "<style scoped>\n",
              "    .dataframe tbody tr th:only-of-type {\n",
              "        vertical-align: middle;\n",
              "    }\n",
              "\n",
              "    .dataframe tbody tr th {\n",
              "        vertical-align: top;\n",
              "    }\n",
              "\n",
              "    .dataframe thead th {\n",
              "        text-align: right;\n",
              "    }\n",
              "</style>\n",
              "<table border=\"1\" class=\"dataframe\">\n",
              "  <thead>\n",
              "    <tr style=\"text-align: right;\">\n",
              "      <th></th>\n",
              "      <th>restaurant_reviews</th>\n",
              "      <th>categories</th>\n",
              "      <th>detect</th>\n",
              "      <th>sentiment</th>\n",
              "    </tr>\n",
              "  </thead>\n",
              "  <tbody>\n",
              "    <tr>\n",
              "      <th>0</th>\n",
              "      <td>Apparently Prides Osteria had a rough summer a...</td>\n",
              "      <td>Restaurants, Wine Bars, Nightlife, Farmers Mar...</td>\n",
              "      <td>en</td>\n",
              "      <td>1.0</td>\n",
              "    </tr>\n",
              "    <tr>\n",
              "      <th>1</th>\n",
              "      <td>I was really disappointed to say the least. I ...</td>\n",
              "      <td>Restaurants, Wine Bars, Nightlife, Farmers Mar...</td>\n",
              "      <td>en</td>\n",
              "      <td>0.0</td>\n",
              "    </tr>\n",
              "    <tr>\n",
              "      <th>2</th>\n",
              "      <td>This is as close to dining in Italy as you'll ...</td>\n",
              "      <td>Restaurants, Wine Bars, Nightlife, Farmers Mar...</td>\n",
              "      <td>en</td>\n",
              "      <td>1.0</td>\n",
              "    </tr>\n",
              "    <tr>\n",
              "      <th>3</th>\n",
              "      <td>Great food and service! Again. 4 out of the la...</td>\n",
              "      <td>Restaurants, Wine Bars, Nightlife, Farmers Mar...</td>\n",
              "      <td>en</td>\n",
              "      <td>1.0</td>\n",
              "    </tr>\n",
              "    <tr>\n",
              "      <th>4</th>\n",
              "      <td>I've stayed at many Marriott and Renaissance M...</td>\n",
              "      <td>Hotels, Hotels &amp; Travel, Restaurants, Event Pl...</td>\n",
              "      <td>en</td>\n",
              "      <td>0.0</td>\n",
              "    </tr>\n",
              "    <tr>\n",
              "      <th>5</th>\n",
              "      <td>I was a there for a professional conference. s...</td>\n",
              "      <td>Hotels, Hotels &amp; Travel, Restaurants, Event Pl...</td>\n",
              "      <td>en</td>\n",
              "      <td>1.0</td>\n",
              "    </tr>\n",
              "    <tr>\n",
              "      <th>6</th>\n",
              "      <td>I stayed for five nights this past April with ...</td>\n",
              "      <td>Hotels, Hotels &amp; Travel, Restaurants, Event Pl...</td>\n",
              "      <td>en</td>\n",
              "      <td>1.0</td>\n",
              "    </tr>\n",
              "    <tr>\n",
              "      <th>7</th>\n",
              "      <td>I stayed here recently for a conference I was ...</td>\n",
              "      <td>Hotels, Hotels &amp; Travel, Restaurants, Event Pl...</td>\n",
              "      <td>en</td>\n",
              "      <td>1.0</td>\n",
              "    </tr>\n",
              "    <tr>\n",
              "      <th>8</th>\n",
              "      <td>The food is always great here. The service fro...</td>\n",
              "      <td>Restaurants, French</td>\n",
              "      <td>en</td>\n",
              "      <td>1.0</td>\n",
              "    </tr>\n",
              "    <tr>\n",
              "      <th>9</th>\n",
              "      <td>Brasserie zero zero... we were hoping for a te...</td>\n",
              "      <td>Restaurants, French</td>\n",
              "      <td>en</td>\n",
              "      <td>0.0</td>\n",
              "    </tr>\n",
              "  </tbody>\n",
              "</table>\n",
              "</div>\n",
              "      <button class=\"colab-df-convert\" onclick=\"convertToInteractive('df-8a4d602f-4551-4e18-9871-ef9f6db6735e')\"\n",
              "              title=\"Convert this dataframe to an interactive table.\"\n",
              "              style=\"display:none;\">\n",
              "        \n",
              "  <svg xmlns=\"http://www.w3.org/2000/svg\" height=\"24px\"viewBox=\"0 0 24 24\"\n",
              "       width=\"24px\">\n",
              "    <path d=\"M0 0h24v24H0V0z\" fill=\"none\"/>\n",
              "    <path d=\"M18.56 5.44l.94 2.06.94-2.06 2.06-.94-2.06-.94-.94-2.06-.94 2.06-2.06.94zm-11 1L8.5 8.5l.94-2.06 2.06-.94-2.06-.94L8.5 2.5l-.94 2.06-2.06.94zm10 10l.94 2.06.94-2.06 2.06-.94-2.06-.94-.94-2.06-.94 2.06-2.06.94z\"/><path d=\"M17.41 7.96l-1.37-1.37c-.4-.4-.92-.59-1.43-.59-.52 0-1.04.2-1.43.59L10.3 9.45l-7.72 7.72c-.78.78-.78 2.05 0 2.83L4 21.41c.39.39.9.59 1.41.59.51 0 1.02-.2 1.41-.59l7.78-7.78 2.81-2.81c.8-.78.8-2.07 0-2.86zM5.41 20L4 18.59l7.72-7.72 1.47 1.35L5.41 20z\"/>\n",
              "  </svg>\n",
              "      </button>\n",
              "      \n",
              "  <style>\n",
              "    .colab-df-container {\n",
              "      display:flex;\n",
              "      flex-wrap:wrap;\n",
              "      gap: 12px;\n",
              "    }\n",
              "\n",
              "    .colab-df-convert {\n",
              "      background-color: #E8F0FE;\n",
              "      border: none;\n",
              "      border-radius: 50%;\n",
              "      cursor: pointer;\n",
              "      display: none;\n",
              "      fill: #1967D2;\n",
              "      height: 32px;\n",
              "      padding: 0 0 0 0;\n",
              "      width: 32px;\n",
              "    }\n",
              "\n",
              "    .colab-df-convert:hover {\n",
              "      background-color: #E2EBFA;\n",
              "      box-shadow: 0px 1px 2px rgba(60, 64, 67, 0.3), 0px 1px 3px 1px rgba(60, 64, 67, 0.15);\n",
              "      fill: #174EA6;\n",
              "    }\n",
              "\n",
              "    [theme=dark] .colab-df-convert {\n",
              "      background-color: #3B4455;\n",
              "      fill: #D2E3FC;\n",
              "    }\n",
              "\n",
              "    [theme=dark] .colab-df-convert:hover {\n",
              "      background-color: #434B5C;\n",
              "      box-shadow: 0px 1px 3px 1px rgba(0, 0, 0, 0.15);\n",
              "      filter: drop-shadow(0px 1px 2px rgba(0, 0, 0, 0.3));\n",
              "      fill: #FFFFFF;\n",
              "    }\n",
              "  </style>\n",
              "\n",
              "      <script>\n",
              "        const buttonEl =\n",
              "          document.querySelector('#df-8a4d602f-4551-4e18-9871-ef9f6db6735e button.colab-df-convert');\n",
              "        buttonEl.style.display =\n",
              "          google.colab.kernel.accessAllowed ? 'block' : 'none';\n",
              "\n",
              "        async function convertToInteractive(key) {\n",
              "          const element = document.querySelector('#df-8a4d602f-4551-4e18-9871-ef9f6db6735e');\n",
              "          const dataTable =\n",
              "            await google.colab.kernel.invokeFunction('convertToInteractive',\n",
              "                                                     [key], {});\n",
              "          if (!dataTable) return;\n",
              "\n",
              "          const docLinkHtml = 'Like what you see? Visit the ' +\n",
              "            '<a target=\"_blank\" href=https://colab.research.google.com/notebooks/data_table.ipynb>data table notebook</a>'\n",
              "            + ' to learn more about interactive tables.';\n",
              "          element.innerHTML = '';\n",
              "          dataTable['output_type'] = 'display_data';\n",
              "          await google.colab.output.renderOutput(dataTable, element);\n",
              "          const docLink = document.createElement('div');\n",
              "          docLink.innerHTML = docLinkHtml;\n",
              "          element.appendChild(docLink);\n",
              "        }\n",
              "      </script>\n",
              "    </div>\n",
              "  </div>\n",
              "  "
            ]
          },
          "metadata": {},
          "execution_count": 25
        }
      ]
    },
    {
      "cell_type": "markdown",
      "source": [
        "#### Let's see if the dataset is **balanced or not**: **it isn't...**"
      ],
      "metadata": {
        "id": "vQLKhukM60KG"
      }
    },
    {
      "cell_type": "code",
      "source": [
        "warnings.simplefilter(action='ignore', category=FutureWarning)\n",
        "# See if the dataset is balanced or not: its isn't...\n",
        "plt.figure(figsize=(12,8))\n",
        "grouped = df_merged.sentiment.value_counts().sort_index()\n",
        "sns.barplot(grouped.index, grouped.values, palette=sns.color_palette(\"RdBu_r\", len(grouped)))\n",
        "plt.xlabel('Stars Ratings', labelpad=10, fontsize=14)\n",
        "plt.ylabel('Number of Reviews', fontsize=14)\n",
        "plt.title('Star Rating Distribution', fontsize=15)\n",
        "plt.tick_params(labelsize=14)\n",
        "for  i, v in enumerate(grouped):\n",
        "    plt.text(i, v*1.02, str(v), horizontalalignment ='center',fontweight='bold', fontsize=14)"
      ],
      "metadata": {
        "id": "72-rNYCEP6NP",
        "colab": {
          "base_uri": "https://localhost:8080/",
          "height": 531
        },
        "outputId": "4c562a7c-61a8-4719-d0d3-ae69d5420017"
      },
      "execution_count": 26,
      "outputs": [
        {
          "output_type": "display_data",
          "data": {
            "text/plain": [
              "<Figure size 864x576 with 1 Axes>"
            ],
            "image/png": "[encoded data removed]"
          },
          "metadata": {
            "image/png": {
              "width": 747,
              "height": 514
            }
          }
        }
      ]
    },
    {
      "cell_type": "markdown",
      "source": [
        "#### To deal with **imbalanced** data we chose to **upsample** the **minority class** (negative sentiment - 0)"
      ],
      "metadata": {
        "id": "wEh_85bz7fn0"
      }
    },
    {
      "cell_type": "code",
      "source": [
        "from sklearn.utils import resample\n",
        "\n",
        "#create two different dataframes: one regarding the majority and the other the minority class \n",
        "df_majority = df_merged[(df_merged['sentiment']==1)] \n",
        "df_minority = df_merged[(df_merged['sentiment']==0)] \n",
        "\n",
        "\n",
        "df_minority_upsampled = resample(df_minority, \n",
        "                                 replace=True,   \n",
        "                                 n_samples= 4643, # to match majority class\n",
        "                                 random_state=42)  \n",
        "# Combine majority class with upsampled minority class\n",
        "df_final = pd.concat([df_minority_upsampled, df_majority])"
      ],
      "metadata": {
        "id": "QQd2OSEsQ3Cl"
      },
      "execution_count": 27,
      "outputs": []
    },
    {
      "cell_type": "code",
      "source": [
        "df_final.sentiment.value_counts()"
      ],
      "metadata": {
        "id": "2x4Ne31yQ3HB",
        "colab": {
          "base_uri": "https://localhost:8080/"
        },
        "outputId": "2b11b471-924d-4b92-f916-25f7eb9592fc"
      },
      "execution_count": 28,
      "outputs": [
        {
          "output_type": "execute_result",
          "data": {
            "text/plain": [
              "0.0    4643\n",
              "1.0    4643\n",
              "Name: sentiment, dtype: int64"
            ]
          },
          "metadata": {},
          "execution_count": 28
        }
      ]
    },
    {
      "cell_type": "markdown",
      "source": [
        "#### **Stopwords** with **spaCy**. As **'no'** and **'not'** are **important** words to describe an opinion about a restaurant (e.g. not cheap, not a good service, no napkins available, etc.), we should, at least, **remove** those two words from the **stopwords**. "
      ],
      "metadata": {
        "id": "41D8LX1G96cr"
      }
    },
    {
      "cell_type": "markdown",
      "source": [
        "- **Note**: using stopwords provides **context**, so when using a **contextual model** like **BERT** one **should usually keep** them to **provide** enough **context information**; however, in this case, when spliting the dataset into train, validation and test sets, we can see that for two of those three sets the **number of tokens** in some reviews (in one of the sets **more than 600** and in the other **more than 700**) **exceeds the maximum length possible** (512), being so we decided to **exclude the stopwords** with the **exception of the two words already mentioned**."
      ],
      "metadata": {
        "id": "x9fEA65Uio-p"
      }
    },
    {
      "cell_type": "code",
      "source": [
        "sp = spacy.load('en_core_web_sm')\n",
        "stopwords = sp.Defaults.stop_words\n",
        "\n",
        "exclude_stopwords = ['no','not']\n",
        "for word in exclude_stopwords:\n",
        "    stopwords.remove(word)"
      ],
      "metadata": {
        "id": "etpLEPQhNIEt"
      },
      "execution_count": 29,
      "outputs": []
    },
    {
      "cell_type": "markdown",
      "source": [
        "#### **UDF** to **remove non-letters**, convert to **lower case**, **tokenize** with **NLTK** and **remove** the **spaCy stopwords** from the restaurant reviews:"
      ],
      "metadata": {
        "id": "r-NyXi1FBx19"
      }
    },
    {
      "cell_type": "code",
      "source": [
        "# The input is a single string (a raw restaurant review), and the output is a single string (a preprocessed restaurant review)\n",
        "\n",
        "def text_preprocessing( raw_review ):\n",
        "    # 1. Remove non-letters \n",
        "    review_text_letters_only = re.sub(\"[^a-zA-Z]\", \" \", raw_review)\n",
        "    # 2. Convert to lower case\n",
        "    review_preprocessed = review_text_letters_only.lower()\n",
        "    # 3. Word tokenization\n",
        "    review_tokens = word_tokenize(review_preprocessed)\n",
        "    # 4. Filter the stopwords\n",
        "    filtered_sentence =[] \n",
        "    for word in review_tokens:\n",
        "        lexeme = sp.vocab[word]\n",
        "        if lexeme.is_stop == False:\n",
        "            filtered_sentence.append(word)\n",
        "\n",
        "    return \" \".join(filtered_sentence)"
      ],
      "metadata": {
        "id": "LP9Sw3OCWmRA"
      },
      "execution_count": 30,
      "outputs": []
    },
    {
      "cell_type": "markdown",
      "source": [
        "#### **Apply** the above **UDF** to the **entire** 'restaurant_reviews' column, **creating** a **new column** named **'cleaned_reviews'**"
      ],
      "metadata": {
        "id": "3I8RB3bvEfWN"
      }
    },
    {
      "cell_type": "code",
      "source": [
        "df_final['cleaned_reviews'] = df_final['restaurant_reviews'].apply(text_preprocessing) "
      ],
      "metadata": {
        "id": "qXw3rx3Nv6-Z"
      },
      "execution_count": 31,
      "outputs": []
    },
    {
      "cell_type": "code",
      "source": [
        "df = df_final.reset_index(drop=True)"
      ],
      "metadata": {
        "id": "e-rhvEFtQ3NB"
      },
      "execution_count": 32,
      "outputs": []
    },
    {
      "cell_type": "code",
      "source": [
        "df.head()"
      ],
      "metadata": {
        "id": "ErBRfSycQ3Tj",
        "colab": {
          "base_uri": "https://localhost:8080/",
          "height": 206
        },
        "outputId": "dd04cd5c-c307-408e-b03a-12461862182b"
      },
      "execution_count": 33,
      "outputs": [
        {
          "output_type": "execute_result",
          "data": {
            "text/plain": [
              "                                  restaurant_reviews  \\\n",
              "0  There were maybe 8 tables in the restaurant,  ...   \n",
              "1  The food was good but Worst service I ever had...   \n",
              "2  Be aware the April server charge extra tip to ...   \n",
              "3  This place has really gone down hill on servic...   \n",
              "4  Placed order online for delivery, to be delive...   \n",
              "\n",
              "                                          categories detect  sentiment  \\\n",
              "0  Bars, Restaurants, Chicken Wings, Sports Bars,...     en        0.0   \n",
              "1                        Restaurants, American (New)     en        0.0   \n",
              "2  American (Traditional), Restaurants, Bars, Tex...     en        0.0   \n",
              "3             Restaurants, Cafes, Breakfast & Brunch     en        0.0   \n",
              "4      Sandwiches, Wraps, Chicken Wings, Restaurants     en        0.0   \n",
              "\n",
              "                                     cleaned_reviews  \n",
              "0  maybe tables restaurant waitress busy talking ...  \n",
              "1  food good worst service bad mean bad menus sil...  \n",
              "2       aware april server charge extra tip paid tip  \n",
              "3  place gone hill service waitress food prep del...  \n",
              "4  placed order online delivery delivered work br...  "
            ],
            "text/html": [
              "\n",
              "  <div id=\"df-1a442ad7-e642-41fa-b01d-6d3f76841611\">\n",
              "    <div class=\"colab-df-container\">\n",
              "      <div>\n",
              "<style scoped>\n",
              "    .dataframe tbody tr th:only-of-type {\n",
              "        vertical-align: middle;\n",
              "    }\n",
              "\n",
              "    .dataframe tbody tr th {\n",
              "        vertical-align: top;\n",
              "    }\n",
              "\n",
              "    .dataframe thead th {\n",
              "        text-align: right;\n",
              "    }\n",
              "</style>\n",
              "<table border=\"1\" class=\"dataframe\">\n",
              "  <thead>\n",
              "    <tr style=\"text-align: right;\">\n",
              "      <th></th>\n",
              "      <th>restaurant_reviews</th>\n",
              "      <th>categories</th>\n",
              "      <th>detect</th>\n",
              "      <th>sentiment</th>\n",
              "      <th>cleaned_reviews</th>\n",
              "    </tr>\n",
              "  </thead>\n",
              "  <tbody>\n",
              "    <tr>\n",
              "      <th>0</th>\n",
              "      <td>There were maybe 8 tables in the restaurant,  ...</td>\n",
              "      <td>Bars, Restaurants, Chicken Wings, Sports Bars,...</td>\n",
              "      <td>en</td>\n",
              "      <td>0.0</td>\n",
              "      <td>maybe tables restaurant waitress busy talking ...</td>\n",
              "    </tr>\n",
              "    <tr>\n",
              "      <th>1</th>\n",
              "      <td>The food was good but Worst service I ever had...</td>\n",
              "      <td>Restaurants, American (New)</td>\n",
              "      <td>en</td>\n",
              "      <td>0.0</td>\n",
              "      <td>food good worst service bad mean bad menus sil...</td>\n",
              "    </tr>\n",
              "    <tr>\n",
              "      <th>2</th>\n",
              "      <td>Be aware the April server charge extra tip to ...</td>\n",
              "      <td>American (Traditional), Restaurants, Bars, Tex...</td>\n",
              "      <td>en</td>\n",
              "      <td>0.0</td>\n",
              "      <td>aware april server charge extra tip paid tip</td>\n",
              "    </tr>\n",
              "    <tr>\n",
              "      <th>3</th>\n",
              "      <td>This place has really gone down hill on servic...</td>\n",
              "      <td>Restaurants, Cafes, Breakfast &amp; Brunch</td>\n",
              "      <td>en</td>\n",
              "      <td>0.0</td>\n",
              "      <td>place gone hill service waitress food prep del...</td>\n",
              "    </tr>\n",
              "    <tr>\n",
              "      <th>4</th>\n",
              "      <td>Placed order online for delivery, to be delive...</td>\n",
              "      <td>Sandwiches, Wraps, Chicken Wings, Restaurants</td>\n",
              "      <td>en</td>\n",
              "      <td>0.0</td>\n",
              "      <td>placed order online delivery delivered work br...</td>\n",
              "    </tr>\n",
              "  </tbody>\n",
              "</table>\n",
              "</div>\n",
              "      <button class=\"colab-df-convert\" onclick=\"convertToInteractive('df-1a442ad7-e642-41fa-b01d-6d3f76841611')\"\n",
              "              title=\"Convert this dataframe to an interactive table.\"\n",
              "              style=\"display:none;\">\n",
              "        \n",
              "  <svg xmlns=\"http://www.w3.org/2000/svg\" height=\"24px\"viewBox=\"0 0 24 24\"\n",
              "       width=\"24px\">\n",
              "    <path d=\"M0 0h24v24H0V0z\" fill=\"none\"/>\n",
              "    <path d=\"M18.56 5.44l.94 2.06.94-2.06 2.06-.94-2.06-.94-.94-2.06-.94 2.06-2.06.94zm-11 1L8.5 8.5l.94-2.06 2.06-.94-2.06-.94L8.5 2.5l-.94 2.06-2.06.94zm10 10l.94 2.06.94-2.06 2.06-.94-2.06-.94-.94-2.06-.94 2.06-2.06.94z\"/><path d=\"M17.41 7.96l-1.37-1.37c-.4-.4-.92-.59-1.43-.59-.52 0-1.04.2-1.43.59L10.3 9.45l-7.72 7.72c-.78.78-.78 2.05 0 2.83L4 21.41c.39.39.9.59 1.41.59.51 0 1.02-.2 1.41-.59l7.78-7.78 2.81-2.81c.8-.78.8-2.07 0-2.86zM5.41 20L4 18.59l7.72-7.72 1.47 1.35L5.41 20z\"/>\n",
              "  </svg>\n",
              "      </button>\n",
              "      \n",
              "  <style>\n",
              "    .colab-df-container {\n",
              "      display:flex;\n",
              "      flex-wrap:wrap;\n",
              "      gap: 12px;\n",
              "    }\n",
              "\n",
              "    .colab-df-convert {\n",
              "      background-color: #E8F0FE;\n",
              "      border: none;\n",
              "      border-radius: 50%;\n",
              "      cursor: pointer;\n",
              "      display: none;\n",
              "      fill: #1967D2;\n",
              "      height: 32px;\n",
              "      padding: 0 0 0 0;\n",
              "      width: 32px;\n",
              "    }\n",
              "\n",
              "    .colab-df-convert:hover {\n",
              "      background-color: #E2EBFA;\n",
              "      box-shadow: 0px 1px 2px rgba(60, 64, 67, 0.3), 0px 1px 3px 1px rgba(60, 64, 67, 0.15);\n",
              "      fill: #174EA6;\n",
              "    }\n",
              "\n",
              "    [theme=dark] .colab-df-convert {\n",
              "      background-color: #3B4455;\n",
              "      fill: #D2E3FC;\n",
              "    }\n",
              "\n",
              "    [theme=dark] .colab-df-convert:hover {\n",
              "      background-color: #434B5C;\n",
              "      box-shadow: 0px 1px 3px 1px rgba(0, 0, 0, 0.15);\n",
              "      filter: drop-shadow(0px 1px 2px rgba(0, 0, 0, 0.3));\n",
              "      fill: #FFFFFF;\n",
              "    }\n",
              "  </style>\n",
              "\n",
              "      <script>\n",
              "        const buttonEl =\n",
              "          document.querySelector('#df-1a442ad7-e642-41fa-b01d-6d3f76841611 button.colab-df-convert');\n",
              "        buttonEl.style.display =\n",
              "          google.colab.kernel.accessAllowed ? 'block' : 'none';\n",
              "\n",
              "        async function convertToInteractive(key) {\n",
              "          const element = document.querySelector('#df-1a442ad7-e642-41fa-b01d-6d3f76841611');\n",
              "          const dataTable =\n",
              "            await google.colab.kernel.invokeFunction('convertToInteractive',\n",
              "                                                     [key], {});\n",
              "          if (!dataTable) return;\n",
              "\n",
              "          const docLinkHtml = 'Like what you see? Visit the ' +\n",
              "            '<a target=\"_blank\" href=https://colab.research.google.com/notebooks/data_table.ipynb>data table notebook</a>'\n",
              "            + ' to learn more about interactive tables.';\n",
              "          element.innerHTML = '';\n",
              "          dataTable['output_type'] = 'display_data';\n",
              "          await google.colab.output.renderOutput(dataTable, element);\n",
              "          const docLink = document.createElement('div');\n",
              "          docLink.innerHTML = docLinkHtml;\n",
              "          element.appendChild(docLink);\n",
              "        }\n",
              "      </script>\n",
              "    </div>\n",
              "  </div>\n",
              "  "
            ]
          },
          "metadata": {},
          "execution_count": 33
        }
      ]
    },
    {
      "cell_type": "markdown",
      "source": [
        "## **Sentiment analysis** of **YELP restaurant reviews** with **BERT** in **PyTorch**"
      ],
      "metadata": {
        "id": "xV0KQtpBOTKy"
      }
    },
    {
      "cell_type": "markdown",
      "metadata": {
        "id": "7rbiGE67U8_G"
      },
      "source": [
        "#### Define the **pre-trained model** we are going to use: "
      ]
    },
    {
      "cell_type": "markdown",
      "source": [
        "- “**bert-base-uncased**” is the version that has only lowercase letters (“uncased”) and is the smaller version of the two (“base” vs “large”)."
      ],
      "metadata": {
        "id": "RX8ZgpeeHESm"
      }
    },
    {
      "cell_type": "code",
      "metadata": {
        "id": "CtL66HBEVvDV"
      },
      "source": [
        "pre_trained_model='bert-base-uncased'"
      ],
      "execution_count": 34,
      "outputs": []
    },
    {
      "cell_type": "markdown",
      "metadata": {
        "id": "APA0dw47V8-n"
      },
      "source": [
        "#### &rarr; To **feed** our **reviews** to BERT they must be **split into tokens**, and then these tokens **must be mapped to their index in the tokenizer vocabulary**.\n"
      ]
    },
    {
      "cell_type": "markdown",
      "source": [
        "- When we **actually convert all of our reviews**, we’ll **use** the `tokenize.encode` function to **handle both steps**, rather than calling `tokenize` and `convert_tokens_to_ids` separately"
      ],
      "metadata": {
        "id": "KvyXBroW2eyY"
      }
    },
    {
      "cell_type": "markdown",
      "source": [
        "- **Load** the **BERT Tokenizer**: "
      ],
      "metadata": {
        "id": "cQHN2abZlbTm"
      }
    },
    {
      "cell_type": "code",
      "metadata": {
        "id": "fawk_k8xWWMp",
        "colab": {
          "base_uri": "https://localhost:8080/",
          "height": 113,
          "referenced_widgets": [
            "b545861dc6b245e991c0a05f00d04e9e",
            "eeaf38a6fb9d4ace9c1f39dc7e57352a",
            "eeec4665a4a4417dbb951a09e20c861f",
            "7370896e3de2432fb4164774cd785960",
            "ea07dd14f11e481794515c3ae2953723",
            "ab2aac51ab8b4d74a8c434dee44eabf8",
            "a255da9bcabd4711b6072a163e0f6e79",
            "aaeae2e29e504670a0ec8585d9813586",
            "ee145eab04a54d7e8a523fd3e0d6b1ca",
            "c16e1af626104cd5b325294025a8d7fe",
            "b35b5e26127e43dd93fbc1c0d0c131b2",
            "36f457298abe4c84983a6052ee30339b",
            "d05a8f73787e49e1b6cd1157271f9e4d",
            "cc0b19097489491f8945f63464ed8113",
            "327f3d42f4eb4dd7bdf8b0f0e328d902",
            "a9f02981d9824942a73bfd0d5bdcfc4a",
            "3d4cb26d7c4f4a94a0a93051ee9302c4",
            "a050f3a286d84767a60905e2af84b107",
            "c8205ff2db474720b4f6252680520304",
            "b02eade19f4b495097f561802dc2467d",
            "49bcfd1ac9ae432cba32b37c0cfca8c4",
            "a2fc8722a197488b976dbb3936523294",
            "51b723e776b84c2580afe0d913e997a5",
            "6dc451ada44d4cf58f15c93df8a24041",
            "b46b4dcada974413a56370a036c847bd",
            "6948b12686de42ecb19d8d679aae6fc8",
            "0722b2b5984e418baeff6db049675e04",
            "a416af20f5364545b7f88a62529d5925",
            "76a81285307b4b8cb7c88d5f623bd207",
            "ae681f89bf1d426ea28537ea8cd15445",
            "1802b3fec79d4571816260c49f0506fc",
            "37821a7c8b404e6e9257629f66000256",
            "49a5122de0ad414aa5a3340e11bf71c3"
          ]
        },
        "outputId": "c54bd21a-0dbd-405b-fc8d-9de27b363e0f"
      },
      "source": [
        "tokenizer=BertTokenizer.from_pretrained(pre_trained_model)"
      ],
      "execution_count": 35,
      "outputs": [
        {
          "output_type": "display_data",
          "data": {
            "text/plain": [
              "Downloading vocab.txt:   0%|          | 0.00/226k [00:00<?, ?B/s]"
            ],
            "application/vnd.jupyter.widget-view+json": {
              "version_major": 2,
              "version_minor": 0,
              "model_id": "b545861dc6b245e991c0a05f00d04e9e"
            }
          },
          "metadata": {}
        },
        {
          "output_type": "display_data",
          "data": {
            "text/plain": [
              "Downloading tokenizer_config.json:   0%|          | 0.00/28.0 [00:00<?, ?B/s]"
            ],
            "application/vnd.jupyter.widget-view+json": {
              "version_major": 2,
              "version_minor": 0,
              "model_id": "36f457298abe4c84983a6052ee30339b"
            }
          },
          "metadata": {}
        },
        {
          "output_type": "display_data",
          "data": {
            "text/plain": [
              "Downloading config.json:   0%|          | 0.00/570 [00:00<?, ?B/s]"
            ],
            "application/vnd.jupyter.widget-view+json": {
              "version_major": 2,
              "version_minor": 0,
              "model_id": "51b723e776b84c2580afe0d913e997a5"
            }
          },
          "metadata": {}
        }
      ]
    },
    {
      "cell_type": "markdown",
      "source": [
        "#### Before we are ready to **encode our reviews** we need to decide on a **maximum sentence length**. BERT **expects fixed-length sequences**, let's choose **maximum sequence length**:"
      ],
      "metadata": {
        "id": "kFrnIGUhRdk4"
      }
    },
    {
      "cell_type": "code",
      "source": [
        "token_lens = []\n",
        "\n",
        "for txt in df.cleaned_reviews:\n",
        "  tokens = tokenizer.encode(txt, max_length=512, truncation=True)\n",
        "  token_lens.append(len(tokens))"
      ],
      "metadata": {
        "id": "TkCoZv1JRkOX"
      },
      "execution_count": 36,
      "outputs": []
    },
    {
      "cell_type": "code",
      "source": [
        "sns.set(font_scale=1.4)\n",
        "plt.rcParams[\"figure.figsize\"] = (14,8)\n",
        "sns.histplot(token_lens)\n",
        "plt.xlim([0, 512])\n",
        "plt.xlabel('Number of Tokens')\n",
        "plt.show()"
      ],
      "metadata": {
        "colab": {
          "base_uri": "https://localhost:8080/",
          "height": 510
        },
        "id": "xroqeSVJ3Ij5",
        "outputId": "29c36250-6855-466d-e495-7f8ee577ea4c"
      },
      "execution_count": 37,
      "outputs": [
        {
          "output_type": "display_data",
          "data": {
            "text/plain": [
              "<Figure size 1008x576 with 1 Axes>"
            ],
            "image/png": "[encoded data removed]"
          },
          "metadata": {
            "image/png": {
              "width": 854,
              "height": 493
            }
          }
        }
      ]
    },
    {
      "cell_type": "markdown",
      "source": [
        "#### The **great majority** of the reviews seems to have **less than 240 tokens**, that's the **maximum length** that we'll choose."
      ],
      "metadata": {
        "id": "rjkq6uMRLpAj"
      }
    },
    {
      "cell_type": "code",
      "source": [
        "MAX_SEQ_LENGTH = 240"
      ],
      "metadata": {
        "id": "NqMRPl-fSOa4"
      },
      "execution_count": 38,
      "outputs": []
    },
    {
      "cell_type": "markdown",
      "metadata": {
        "id": "zeMckzedWxWf"
      },
      "source": [
        "#### **Split** the **dataset** into **train** (70 %), **validation** (15%) and **test** (15%) sets and **preserve** the **same proportions** of **observations** in **each class** as **observed** in the **original dataset**"
      ]
    },
    {
      "cell_type": "code",
      "metadata": {
        "id": "pkQsj5i6XPtc"
      },
      "source": [
        "x_train, x_test, y_train, y_test = train_test_split(df['cleaned_reviews'],df.sentiment, test_size=0.3, random_state = 42, stratify=df.sentiment)\n",
        "x_test, x_val, y_test, y_val = train_test_split(x_test, y_test, test_size=0.5, random_state = 42, stratify= y_test)"
      ],
      "execution_count": 39,
      "outputs": []
    },
    {
      "cell_type": "code",
      "source": [
        "y_train = y_train.astype(int)\n",
        "y_val = y_val.astype(int)\n",
        "y_test = y_test.astype(int)"
      ],
      "metadata": {
        "id": "tDD_DMLdf0LQ"
      },
      "execution_count": 40,
      "outputs": []
    },
    {
      "cell_type": "markdown",
      "source": [
        "#### **Convert to list each of the sets**"
      ],
      "metadata": {
        "id": "zDkd-rsKZGIr"
      }
    },
    {
      "cell_type": "code",
      "metadata": {
        "id": "30E9fQJlX3t5"
      },
      "source": [
        "\n",
        "train_reviews = x_train.tolist()\n",
        "val_reviews = x_val.tolist()\n",
        "test_reviews = x_test.tolist()"
      ],
      "execution_count": 41,
      "outputs": []
    },
    {
      "cell_type": "markdown",
      "source": [
        "### **Create** a sequence of **token ids** (input ids) for **each review**"
      ],
      "metadata": {
        "id": "dXZggQIfRex9"
      }
    },
    {
      "cell_type": "markdown",
      "source": [
        "- **`tokenizer.encode`** converts a **string** in a sequence of **intput ids** (integers) using the **tokenizer** and the **vocabulary**, meaning, it **splits** a string **into tokens** and **map the tokens to their ids**.\n"
      ],
      "metadata": {
        "id": "hoqW6kKgRowX"
      }
    },
    {
      "cell_type": "markdown",
      "source": [
        "-  We must **add special tokens** - `[CLS]` and `[SEP]` - for **classification** tasks."
      ],
      "metadata": {
        "id": "xUkF5M8U5puq"
      }
    },
    {
      "cell_type": "code",
      "metadata": {
        "id": "kqZNVG4baRJ6"
      },
      "source": [
        "# Train dataset\n",
        "train_input_ids = [tokenizer.encode(train_reviews[i],add_special_tokens = True, max_length=MAX_SEQ_LENGTH, truncation=True) for i in range(0,len(train_reviews))]\n",
        "# Val dataset\n",
        "val_input_ids = [tokenizer.encode(val_reviews[i],add_special_tokens = True, max_length=MAX_SEQ_LENGTH, truncation=True) for i in range(0,len(val_reviews))]\n",
        "# Test dataset\n",
        "test_input_ids = [tokenizer.encode(test_reviews[i],add_special_tokens = True, max_length=MAX_SEQ_LENGTH, truncation=True) for i in range(0,len(test_reviews))]"
      ],
      "execution_count": 42,
      "outputs": []
    },
    {
      "cell_type": "markdown",
      "metadata": {
        "id": "SVXQcZcqbEk2"
      },
      "source": [
        "### **Padding** and **truncating**: pad and truncate our sequences so that they all have the **same length**:"
      ]
    },
    {
      "cell_type": "markdown",
      "source": [
        "- **Padding**: when necessary, paddding wiil **add zeros** to make all the sequences **reach** the **length** of **MAX_SEQ_LENGTH**"
      ],
      "metadata": {
        "id": "UPeKatFqbxRS"
      }
    },
    {
      "cell_type": "markdown",
      "source": [
        "- **Truncating**: when necessary, sequences **longer than the MAX_SEQ_LENGTH** are **truncated** to **MAX_SEQ_LENGTH**"
      ],
      "metadata": {
        "id": "k2AnzMD4cSSI"
      }
    },
    {
      "cell_type": "markdown",
      "source": [
        "- **Note**: '**post**' specifies that we want to pad and truncate at the **end** of the sequence. "
      ],
      "metadata": {
        "id": "XrAfaS_08QAS"
      }
    },
    {
      "cell_type": "code",
      "metadata": {
        "id": "DjlWdSqrcI5n"
      },
      "source": [
        "from keras.preprocessing.sequence import pad_sequences    # Pad utility function to pad sequences to maximum length.\n",
        " \n",
        "# Padding value: is optional, the default is 0.\n",
        "\n",
        "# Train dataset\n",
        "train_input_ids = pad_sequences(train_input_ids, maxlen=MAX_SEQ_LENGTH, dtype=\"long\", \n",
        "                          value=0, truncating=\"post\", padding=\"post\")\n",
        "\n",
        "# Validation dataset\n",
        "val_input_ids = pad_sequences(val_input_ids, maxlen=MAX_SEQ_LENGTH, dtype=\"long\", \n",
        "                          value=0, truncating=\"post\", padding=\"post\")\n",
        "\n",
        "# Test dataset\n",
        "test_input_ids = pad_sequences(test_input_ids, maxlen=MAX_SEQ_LENGTH, dtype=\"long\", \n",
        "                          value=0, truncating=\"post\", padding=\"post\")"
      ],
      "execution_count": 43,
      "outputs": []
    },
    {
      "cell_type": "markdown",
      "metadata": {
        "id": "ttcFfNmieXJC"
      },
      "source": [
        "### **Attention Masks**"
      ]
    },
    {
      "cell_type": "markdown",
      "metadata": {
        "id": "-fz6Ek8RebPH"
      },
      "source": [
        "The attention masks **differentiate** which tokens are **`real`** tokens versus which are **`[PAD]`** tokens."
      ]
    },
    {
      "cell_type": "code",
      "metadata": {
        "id": "vz1yKGqneiVe"
      },
      "source": [
        "# Create attention masks\n",
        "\n",
        "# Train dataset\n",
        "train_attention_masks = [[int(token_id > 0) for token_id in review]\n",
        "                         for review in train_input_ids]\n",
        "# dev dataset\n",
        "val_attention_masks = [[int(token_id > 0) for token_id in review]\n",
        "                         for review in val_input_ids]\n",
        "# Test dataset\n",
        "test_attention_masks = [[int(token_id > 0) for token_id in review]\n",
        "                         for review in test_input_ids]"
      ],
      "execution_count": 44,
      "outputs": []
    },
    {
      "cell_type": "markdown",
      "source": [
        "### **Convert all lists** of **inputs ids**, **labels** and **attention masks** into **torch tensors**"
      ],
      "metadata": {
        "id": "0eKL-j51gqPY"
      }
    },
    {
      "cell_type": "code",
      "metadata": {
        "id": "GXES16EAe6i3"
      },
      "source": [
        "# input_ids\n",
        "train_inputs = torch.tensor(train_input_ids)\n",
        "val_inputs = torch.tensor(val_input_ids)\n",
        "test_inputs = torch.tensor(test_input_ids)\n",
        "# labels\n",
        "train_labels = torch.tensor(y_train.values)\n",
        "val_labels = torch.tensor(y_val.values)\n",
        "test_labels = torch.tensor(y_test.values)\n",
        "# attention masks\n",
        "train_masks = torch.tensor(train_attention_masks)\n",
        "val_masks = torch.tensor(val_attention_masks)\n",
        "test_masks = torch.tensor(test_attention_masks)"
      ],
      "execution_count": 45,
      "outputs": []
    },
    {
      "cell_type": "markdown",
      "source": [
        "### Create a **`DataLoader`** to **load** our **datasets**. Serves as an **iterator**, it **saves memory during training** when compared with a **for loop**"
      ],
      "metadata": {
        "id": "NMR3XX_oriqj"
      }
    },
    {
      "cell_type": "code",
      "metadata": {
        "id": "hl0vk6SofwmZ"
      },
      "source": [
        "batch_size = 16\n",
        "\n",
        "# Create the DataLoader for our training set.\n",
        "train_data = TensorDataset(train_inputs, train_masks, train_labels)\n",
        "train_sampler = RandomSampler(train_data)\n",
        "train_dataloader = DataLoader(train_data, sampler=train_sampler, batch_size=batch_size)\n",
        "\n",
        "# Create the DataLoader for our validation set.\n",
        "val_data = TensorDataset(val_inputs, val_masks, val_labels)\n",
        "val_sampler = SequentialSampler(val_data)\n",
        "val_dataloader = DataLoader(val_data, sampler=val_sampler, batch_size=batch_size)\n",
        "\n",
        "# Create the DataLoader for our test set.\n",
        "test_data = TensorDataset(test_inputs, test_masks, test_labels)\n",
        "test_sampler = SequentialSampler(test_data)\n",
        "test_dataloader = DataLoader(test_data, sampler=test_sampler, batch_size=batch_size)"
      ],
      "execution_count": 46,
      "outputs": []
    },
    {
      "cell_type": "code",
      "metadata": {
        "colab": {
          "base_uri": "https://localhost:8080/"
        },
        "id": "h4wDCYZglTYE",
        "outputId": "84d197c5-0cca-4ba8-a2ee-7acf96818568"
      },
      "source": [
        "# Number of classes / labels\n",
        "n_classes = y_train.nunique()\n",
        "n_classes"
      ],
      "execution_count": 47,
      "outputs": [
        {
          "output_type": "execute_result",
          "data": {
            "text/plain": [
              "2"
            ]
          },
          "metadata": {},
          "execution_count": 47
        }
      ]
    },
    {
      "cell_type": "markdown",
      "metadata": {
        "id": "5tMzrfwsgKM_"
      },
      "source": [
        "## **Build a sentiment Classifier**"
      ]
    },
    {
      "cell_type": "markdown",
      "metadata": {
        "id": "m6KUN7ifgPwb"
      },
      "source": [
        "### **BertForSequenceClassification**"
      ]
    },
    {
      "cell_type": "markdown",
      "metadata": {
        "id": "smbZEZuuk-zW"
      },
      "source": [
        "- We'll use the **BertForSequenceClassification** model for our classification task. It's a **Bert Model transformer** with an **added layer on top of it** for **classification**."
      ]
    },
    {
      "cell_type": "markdown",
      "source": [
        "- We are using **Pytorch framework** for model **training** and **evaluation** for **classification** purposes, hence we have chosen **BertForSequeunceClassification class** to be used."
      ],
      "metadata": {
        "id": "SsIb24k-h7yL"
      }
    },
    {
      "cell_type": "markdown",
      "source": [
        "#### **Instantiate** our model:"
      ],
      "metadata": {
        "id": "Po_IU2jZ-08u"
      }
    },
    {
      "cell_type": "code",
      "source": [
        "model = BertForSequenceClassification.from_pretrained(\n",
        "    \"bert-base-uncased\", # The 12-layer BERT model with an uncased vocab\n",
        "    num_labels = 2, # For binary classification  \n",
        "    output_attentions = False, # Not to return attentions weights\n",
        "    output_hidden_states = False, # Not to return all hidden-states\n",
        ")\n"
      ],
      "metadata": {
        "id": "tjHuh0twIQn3",
        "colab": {
          "base_uri": "https://localhost:8080/",
          "height": 156,
          "referenced_widgets": [
            "7672cb2f16c14e69b2975d713732e9ba",
            "ddc8ba8db8874dfd8d403e140d7d8e7a",
            "a9c906bed63b4b218af63d9a9a81cff5",
            "84f21df2d3464c1688d4f19d5569b9e4",
            "b118fd54f78342548f440463ab25aa67",
            "87c6aee571d14cf6bf3ed0550ecc3109",
            "f29abffd2398473e8f10f696f06edb5c",
            "f8455c5dddfd433088c032c358a9bf8e",
            "8f50a041901d475aa732e043f3c5c1aa",
            "7f5dcd1edd9948388566068a0d72ab81",
            "afcce7f86eb8470a8cd402108059eabf"
          ]
        },
        "outputId": "e50e3e3a-578e-4ac6-a781-e134dc808c6e"
      },
      "execution_count": 48,
      "outputs": [
        {
          "output_type": "display_data",
          "data": {
            "text/plain": [
              "Downloading pytorch_model.bin:   0%|          | 0.00/420M [00:00<?, ?B/s]"
            ],
            "application/vnd.jupyter.widget-view+json": {
              "version_major": 2,
              "version_minor": 0,
              "model_id": "7672cb2f16c14e69b2975d713732e9ba"
            }
          },
          "metadata": {}
        },
        {
          "output_type": "stream",
          "name": "stderr",
          "text": [
            "Some weights of the model checkpoint at bert-base-uncased were not used when initializing BertForSequenceClassification: ['cls.predictions.transform.LayerNorm.bias', 'cls.predictions.decoder.weight', 'cls.predictions.transform.dense.bias', 'cls.predictions.transform.LayerNorm.weight', 'cls.seq_relationship.weight', 'cls.predictions.bias', 'cls.seq_relationship.bias', 'cls.predictions.transform.dense.weight']\n",
            "- This IS expected if you are initializing BertForSequenceClassification from the checkpoint of a model trained on another task or with another architecture (e.g. initializing a BertForSequenceClassification model from a BertForPreTraining model).\n",
            "- This IS NOT expected if you are initializing BertForSequenceClassification from the checkpoint of a model that you expect to be exactly identical (initializing a BertForSequenceClassification model from a BertForSequenceClassification model).\n",
            "Some weights of BertForSequenceClassification were not initialized from the model checkpoint at bert-base-uncased and are newly initialized: ['classifier.bias', 'classifier.weight']\n",
            "You should probably TRAIN this model on a down-stream task to be able to use it for predictions and inference.\n"
          ]
        }
      ]
    },
    {
      "cell_type": "markdown",
      "metadata": {
        "id": "zlDD0ekkldqe"
      },
      "source": [
        "#### **Move** our model to the **GPU**"
      ]
    },
    {
      "cell_type": "code",
      "metadata": {
        "id": "5r2GuQ59lhkV"
      },
      "source": [
        "model = model.to(device) "
      ],
      "execution_count": 49,
      "outputs": []
    },
    {
      "cell_type": "markdown",
      "source": [
        "### To **fine-tune** our Bert Classifier we need to create an **`optimizer`**. The authors have some **recommendations** for **fine-tuning**:\n",
        "\n",
        "- **Batch size**: 16, 32\n",
        "- **Learning rate** (Adam): 5e-5, 3e-5, 2e-5\n",
        "- **Number of epochs**: 2, 3 or 4\n",
        "\n",
        "We chose **16**, **3e-5** and **2**, respectively.\n",
        "\n",
        "\n"
      ],
      "metadata": {
        "id": "4hLzsVyjJa4l"
      }
    },
    {
      "cell_type": "markdown",
      "metadata": {
        "id": "CDG0P_q5lrOI"
      },
      "source": [
        "### **Optimizer**, **learning rate scheduler**, **loss function** and **number of epochs**\n"
      ]
    },
    {
      "cell_type": "markdown",
      "source": [
        "**Notes**:\n",
        "\n",
        "- To **fine-tune** our Bert classifier we need to create an **`optimizer`**. Considering the **original paper** on **BERT**, we will use <a href=\"https://huggingface.co/transformers/main_classes/optimizer_schedules.html\" target=\"_blank\">AdamW</a> **optimizer** because it implements **gradient bias correction** as well as **weight decay**. We will also use **linear scheduler with no warmup steps**.\n",
        "\n",
        "- The authors have some recommendations for fine-tuning:\n",
        "\n",
        "    - Batch size: 16, 32\n",
        "    - Learning rate (Adam): 5e-5, 3e-5, 2e-5\n",
        "    - Number of epochs: 2, 3 or 4\n",
        "\n",
        "We chose **16**, **3e-5** and **2**, respectively.\n",
        "<br><br>"
      ],
      "metadata": {
        "id": "GYUHBjxNbrZ_"
      }
    },
    {
      "cell_type": "code",
      "metadata": {
        "id": "3RxQoF0wl6k9"
      },
      "source": [
        "epochs=2\n",
        "\n",
        "optimizer=AdamW(model.parameters(),lr=3e-5)\n",
        "total_steps=len(train_dataloader)*epochs\n",
        "\n",
        "# Create the learning rate scheduler\n",
        "scheduler=get_linear_schedule_with_warmup(\n",
        "    optimizer,\n",
        "    num_warmup_steps=0,\n",
        "    num_training_steps=total_steps\n",
        ")\n",
        " # Define loss function and move it to GPU\n",
        "loss_fn=nn.CrossEntropyLoss().to(device)"
      ],
      "execution_count": 50,
      "outputs": []
    },
    {
      "cell_type": "markdown",
      "metadata": {
        "id": "WJSxizPcmCZJ"
      },
      "source": [
        "## **Training** our model and **validation**: "
      ]
    },
    {
      "cell_type": "markdown",
      "metadata": {
        "id": "Hc-diW99mG-W"
      },
      "source": [
        "#### Function for calculating **elapsed time**"
      ]
    },
    {
      "cell_type": "code",
      "metadata": {
        "id": "RFFefySQmLGi"
      },
      "source": [
        "def format_time(elapsed):\n",
        "    # Round to the nearest second\n",
        "    elapsed_round = int(round(elapsed))\n",
        "    # Format time in hh:mm:ss\n",
        "    return str(datetime.timedelta(seconds = elapsed_round))"
      ],
      "execution_count": 51,
      "outputs": []
    },
    {
      "cell_type": "markdown",
      "metadata": {
        "id": "ox9L0ZHymRAL"
      },
      "source": [
        "#### Function for calculating **accuracy**"
      ]
    },
    {
      "cell_type": "code",
      "metadata": {
        "id": "1EjrDj2wmVbY"
      },
      "source": [
        "def accuracy(preds, labels):\n",
        "    preds = np.argmax(preds, axis=1).flatten()\n",
        "    labels = labels.flatten()\n",
        "    return np.sum(preds == labels) / len(labels)"
      ],
      "execution_count": 52,
      "outputs": []
    },
    {
      "cell_type": "markdown",
      "metadata": {
        "id": "4pc_F-LjmbX6"
      },
      "source": [
        "### **Training** and **validation**\n",
        "- We can **store** the **training** and **validation loss** and **accuracy values** and then **plot** or **make a table** to **measure the performance** on both the **train** and **validation** sets **after the completion of each epoch** so we can see **more clearly** the **progress** of the **training loop**.\n",
        "\n"
      ]
    },
    {
      "cell_type": "code",
      "source": [
        "# Store for each epoch\n",
        "loss_train_values = []\n",
        "acc_train_values = []\n",
        "loss_val_values = []\n",
        "acc_val_values = []\n",
        "for epoch in range(0,epochs):\n",
        "     \n",
        "        #             --- Train---\n",
        "        \n",
        "        # Perform forward pass over the training dataset\n",
        "        print(\"\\n Epoch {:}/{:} :\".format(epoch+1,epochs))\n",
        "        print('Training....')\n",
        "        \n",
        "        # Measure how long the training epoch takes\n",
        "        t0 = time.time()\n",
        "        # Reset total loss and accuracy for this epoch\n",
        "        total_loss = 0\n",
        "        total_acc = 0\n",
        "\n",
        "        # Put the model in training mode\n",
        "        model.train()\n",
        "        \n",
        "        # For each batch of training data\n",
        "        for step, batch in enumerate(train_dataloader):\n",
        "            # Update progress for each 100 steps\n",
        "            if (step % 100==0) & (not step==0):\n",
        "                # Calculate elapsed time in minutes\n",
        "                elapsed = format_time((time.time()-t0))\n",
        "                # Report progress\n",
        "                print(' Batch {:>5,} of {:>5,}. Elapsed:{:}.'.format(step,len(train_dataloader),elapsed))\n",
        "            \n",
        "            # Unpack training batch from trainloader and move to GPU\n",
        "            b_input_ids = batch[0].to(device)  # 0 - input ids tensor\n",
        "            b_attention_mask = batch[1].to(device) # 1 - input masks tensor\n",
        "            b_labels = batch[2].to(device) # 2 - labels tensor\n",
        "            \n",
        "            # Clear any previously calculated gradients in Pytorch before performing a backward pass\n",
        "            model.zero_grad()\n",
        "            \n",
        "            # Output the results\n",
        "            outputs = model(input_ids = b_input_ids, attention_mask = b_attention_mask, labels=b_labels) # Return tuple\n",
        "            # Loss value from output\n",
        "            loss = outputs.loss   # Loss\n",
        "            \n",
        "            # Update total loss\n",
        "            total_loss += loss.item()\n",
        "            \n",
        "            preds = outputs.logits  # Output probabilities\n",
        "            # Move logits and labels to CPU\n",
        "            preds = preds.detach().cpu().numpy()\n",
        "            label_ids = b_labels.to('cpu').numpy()\n",
        "\n",
        "            # Calculate the accuracy for this batch \n",
        "            tmp_train_accuracy = accuracy(preds, label_ids)\n",
        "\n",
        "            # Accumulate the total accuracy\n",
        "            total_acc += tmp_train_accuracy\n",
        "            \n",
        "            # Perform a backward pass to calculate gradients\n",
        "            loss.backward()\n",
        "            \n",
        "            # To avoid exploding vanishing gradients problem, clip the norm of the gradients to 1.0\n",
        "            torch.nn.utils.clip_grad_norm_(model.parameters(),1.0)\n",
        "            \n",
        "            # Update the parameters (weights)\n",
        "            optimizer.step()\n",
        "            \n",
        "            # Update the learning rate\n",
        "            scheduler.step()\n",
        "            \n",
        "        # Calculate the average loss over training data\n",
        "        avg_total_loss = total_loss/len(train_dataloader)\n",
        "            \n",
        "        # Store the loss values\n",
        "        loss_train_values.append(avg_total_loss)\n",
        "\n",
        "        # Calculate the average accuracy over the training data\n",
        "        avg_train_acc = total_acc / len(train_dataloader)\n",
        "\n",
        "        # Store the accuracy values \n",
        "        acc_train_values.append(avg_train_acc)\n",
        "\n",
        "        print(\"\")\n",
        "        print(\"\\nAverage training accuracy: {0:.2f}\".format(avg_train_acc))\n",
        "        \n",
        "        print('Average training loss : {0:.2f}'.format(avg_total_loss))\n",
        "        print('Training epoch took: {:}'.format(format_time(time.time()- t0)))\n",
        " \n",
        "        #             --- VALIDATION ---\n",
        "\n",
        "        \n",
        "        # After each epoch perform validation to check model performance\n",
        "        print('\\n Running validation...')\n",
        "        \n",
        "        t0 = time.time()\n",
        "        # Put model in evaluation mode\n",
        "        model.eval()\n",
        "        \n",
        "        # Tracking variables\n",
        "        total_eval_accuracy = 0\n",
        "        total_eval_loss = 0\n",
        "        \n",
        "        # Unpack validation batch from trainloader and move to GPU\n",
        "        for batch in val_dataloader: \n",
        "            b_input_ids = batch[0].to(device)\n",
        "            b_input_mask = batch[1].to(device)\n",
        "            b_labels = batch[2].to(device)\n",
        "\n",
        "            # Tell model not to compute gradients to save memory and accelerate validation\n",
        "            with torch.no_grad():\n",
        "                # Forward pass, calculate logit prediction\n",
        "                 outputs = model(b_input_ids, \n",
        "                                   token_type_ids=None, \n",
        "                                   attention_mask=b_input_mask,\n",
        "                                   labels=b_labels)\n",
        "            loss = outputs.loss\n",
        "            logits = outputs.logits\n",
        "            # Update total evaluation loss\n",
        "            total_eval_loss += loss.item()\n",
        "            \n",
        "            # Move logits and labels to CPU\n",
        "            logits = logits.detach().cpu().numpy()\n",
        "            label_ids = b_labels.to('cpu').numpy()\n",
        "\n",
        "            # Calculate the accuracy for this batch and accumulate it over all batches\n",
        "            total_eval_accuracy += accuracy(logits, label_ids)\n",
        "\n",
        "        # Compute the average accuracy over all of the batches\n",
        "        avg_val_accuracy = total_eval_accuracy / len(val_dataloader)\n",
        "\n",
        "        # Store the accuracy values \n",
        "        acc_val_values.append(avg_val_accuracy)\n",
        "     \n",
        "        # Compute the average loss over all of the batches\n",
        "        avg_val_loss = total_eval_loss / len(val_dataloader)\n",
        "\n",
        "         # Store the loss values\n",
        "        loss_val_values.append(avg_val_loss)\n",
        "    \n",
        "    # Measure how long the validation run took.\n",
        "        validation_time = format_time(time.time() - t0)\n",
        "        print(\"  Accuracy: {0:.2f}\".format(avg_val_accuracy))\n",
        "        print(\"  Validation Loss: {0:.2f}\".format(avg_val_loss))\n",
        "        print(\"  Validation took: {:}\".format(validation_time))\n",
        "\n"
      ],
      "metadata": {
        "id": "RHdh10SBOK2G",
        "colab": {
          "base_uri": "https://localhost:8080/"
        },
        "outputId": "d4b2ab51-266c-4193-91b6-7d2ad4b296c3"
      },
      "execution_count": 53,
      "outputs": [
        {
          "output_type": "stream",
          "name": "stdout",
          "text": [
            "\n",
            " Epoch 1/2 :\n",
            "Training....\n",
            " Batch   100 of   407. Elapsed:0:01:00.\n",
            " Batch   200 of   407. Elapsed:0:02:01.\n",
            " Batch   300 of   407. Elapsed:0:03:02.\n",
            " Batch   400 of   407. Elapsed:0:04:05.\n",
            "\n",
            "\n",
            "Average training accuracy: 0.90\n",
            "Average training loss : 0.26\n",
            "Training epoch took: 0:04:09\n",
            "\n",
            " Running validation...\n",
            "  Accuracy: 0.96\n",
            "  Validation Loss: 0.16\n",
            "  Validation took: 0:00:19\n",
            "\n",
            " Epoch 2/2 :\n",
            "Training....\n",
            " Batch   100 of   407. Elapsed:0:01:02.\n",
            " Batch   200 of   407. Elapsed:0:02:05.\n",
            " Batch   300 of   407. Elapsed:0:03:07.\n",
            " Batch   400 of   407. Elapsed:0:04:10.\n",
            "\n",
            "\n",
            "Average training accuracy: 0.98\n",
            "Average training loss : 0.08\n",
            "Training epoch took: 0:04:14\n",
            "\n",
            " Running validation...\n",
            "  Accuracy: 0.98\n",
            "  Validation Loss: 0.13\n",
            "  Validation took: 0:00:19\n"
          ]
        }
      ]
    },
    {
      "cell_type": "markdown",
      "source": [
        "**Plot validation accuracy after** the **completion** of **each epoch**:"
      ],
      "metadata": {
        "id": "bX4buD-4ZIma"
      }
    },
    {
      "cell_type": "code",
      "source": [
        "df_acc = pd.DataFrame(acc_val_values,columns=['Accuracy'])"
      ],
      "metadata": {
        "id": "lionMp31Br34"
      },
      "execution_count": 54,
      "outputs": []
    },
    {
      "cell_type": "code",
      "source": [
        "df_acc.index+=1"
      ],
      "metadata": {
        "id": "QdMLpEG-FQgT"
      },
      "execution_count": 55,
      "outputs": []
    },
    {
      "cell_type": "code",
      "source": [
        "# Use plot styling from seaborn\n",
        "sns.set(style='darkgrid')\n",
        "\n",
        "# Increase the plot size and font size\n",
        "sns.set(font_scale=1.5)\n",
        "plt.rcParams[\"figure.figsize\"] = (12,6)\n",
        "\n",
        "# Plot the learning curve\n",
        "sns.lineplot(data=df_acc,x=df_acc.index,y=df_acc.Accuracy)\n",
        "\n",
        "# Label the plot\n",
        "plt.title(\"Validation Accuracy\")\n",
        "plt.xlabel(\"Epoch\")\n",
        "plt.ylabel(\"Accuracy\")\n",
        "\n",
        "plt.show()"
      ],
      "metadata": {
        "id": "aCx69_8WFbLh",
        "colab": {
          "base_uri": "https://localhost:8080/",
          "height": 424
        },
        "outputId": "a1160c7d-c99a-4c15-90da-843eb0fc2520"
      },
      "execution_count": 56,
      "outputs": [
        {
          "output_type": "display_data",
          "data": {
            "text/plain": [
              "<Figure size 864x432 with 1 Axes>"
            ],
            "image/png": "[encoded data removed]"
          },
          "metadata": {
            "image/png": {
              "width": 772,
              "height": 407
            }
          }
        }
      ]
    },
    {
      "cell_type": "markdown",
      "source": [
        "**Plot validation loss after** the **completion** of **each epoch**:"
      ],
      "metadata": {
        "id": "KkYErggNFInS"
      }
    },
    {
      "cell_type": "code",
      "source": [
        "df_loss = pd.DataFrame(loss_val_values,columns=['Loss'])"
      ],
      "metadata": {
        "id": "hlvswohkDXiA"
      },
      "execution_count": 57,
      "outputs": []
    },
    {
      "cell_type": "code",
      "source": [
        "df_loss.index+=1"
      ],
      "metadata": {
        "id": "8Bdbg5JjDr5y"
      },
      "execution_count": 58,
      "outputs": []
    },
    {
      "cell_type": "code",
      "source": [
        "# Use plot styling from seaborn\n",
        "sns.set(style='darkgrid')\n",
        "\n",
        "# Increase the plot size and font size\n",
        "sns.set(font_scale=1.5)\n",
        "plt.rcParams[\"figure.figsize\"] = (12,6)\n",
        "\n",
        "# Plot the learning curve\n",
        "sns.lineplot(data=df_loss,x=df_loss.index,y=df_loss.Loss)\n",
        "\n",
        "# Label the plot\n",
        "plt.title(\"Validation Loss\")\n",
        "plt.xlabel(\"Epoch\")\n",
        "plt.ylabel(\"Loss\")\n",
        "\n",
        "plt.show()"
      ],
      "metadata": {
        "id": "Zq9jViwREpDP",
        "colab": {
          "base_uri": "https://localhost:8080/",
          "height": 424
        },
        "outputId": "34e369ea-67e4-4815-8a49-bbffc52cbc1a"
      },
      "execution_count": 59,
      "outputs": [
        {
          "output_type": "display_data",
          "data": {
            "text/plain": [
              "<Figure size 864x432 with 1 Axes>"
            ],
            "image/png": "[encoded data removed]"
          },
          "metadata": {
            "image/png": {
              "width": 761,
              "height": 407
            }
          }
        }
      ]
    },
    {
      "cell_type": "markdown",
      "source": [
        "#### **Predicting** on **test set**\n"
      ],
      "metadata": {
        "id": "zr-L-TMi2vQH"
      }
    },
    {
      "cell_type": "code",
      "metadata": {
        "id": "_g_rCTZVDLOH",
        "colab": {
          "base_uri": "https://localhost:8080/"
        },
        "outputId": "2972f418-f77d-4988-fe1c-42b8012ccd57"
      },
      "source": [
        "# Put model in evaluation mode\n",
        "model.eval()\n",
        "\n",
        "# Tracking variables\n",
        "predictions , true_labels = [], []\n",
        "\n",
        "# Predict test data\n",
        "for batch in test_dataloader:\n",
        "    # Move batch to GPU\n",
        "    batch = tuple(t.to(device) for t in batch)\n",
        "    # Unpack inputs from test dataloader\n",
        "    b_input_ids, b_attention_mask, b_labels = batch\n",
        "    # Tell model not to compute gradients to save memory and accelerate validation\n",
        "    with torch.no_grad():\n",
        "        # Forward pass, calculate logit prediction\n",
        "        outputs = model(input_ids=b_input_ids, attention_mask=b_attention_mask)\n",
        "    # logits are class probabilities and get them from outputs\n",
        "    logits = outputs[0]\n",
        "    \n",
        "    # Store predictions and true labels\n",
        "    predictions.extend(logits.tolist())\n",
        "    true_labels.extend(b_labels.tolist())\n",
        "\n",
        "print('Done')"
      ],
      "execution_count": 60,
      "outputs": [
        {
          "output_type": "stream",
          "name": "stdout",
          "text": [
            "Done\n"
          ]
        }
      ]
    },
    {
      "cell_type": "markdown",
      "source": [
        "#### **Convert predictions** to **tensor**"
      ],
      "metadata": {
        "id": "srvvMSQIGGH6"
      }
    },
    {
      "cell_type": "code",
      "metadata": {
        "id": "YEq4XpTfQAEF"
      },
      "source": [
        "preds = torch.tensor(predictions)"
      ],
      "execution_count": 61,
      "outputs": []
    },
    {
      "cell_type": "markdown",
      "source": [
        "#### **Apply softmax** on **predictions**"
      ],
      "metadata": {
        "id": "v_yrEDk8GWvL"
      }
    },
    {
      "cell_type": "code",
      "metadata": {
        "id": "luEXIxxrPe2U"
      },
      "source": [
        "import torch.nn.functional as F\n",
        "\n",
        "preds = F.softmax(preds,dim=1)"
      ],
      "execution_count": 62,
      "outputs": []
    },
    {
      "cell_type": "markdown",
      "source": [
        "#### **Convert to numpy arrays**"
      ],
      "metadata": {
        "id": "UNE9PrjaGutY"
      }
    },
    {
      "cell_type": "code",
      "metadata": {
        "id": "HHAGs51ORM57"
      },
      "source": [
        "preds = np.array(preds)\n",
        "true_labels = np.array(true_labels)"
      ],
      "execution_count": 63,
      "outputs": []
    },
    {
      "cell_type": "markdown",
      "source": [
        "#### **Function** for **Heatmap of confusion matrix** for **test data**"
      ],
      "metadata": {
        "id": "Wi6s7Ra-HKYC"
      }
    },
    {
      "cell_type": "code",
      "source": [
        "def evaluate(y_test, predictions):\n",
        "    cf_matrix = confusion_matrix(true_labels, preds.argmax(1))\n",
        "    sns.heatmap(cf_matrix, annot = True, fmt = 'd',cmap=\"Blues\")\n",
        "    plt.title('Heatmap of confusion matrix for Test data')\n",
        "    plt.ylabel('True label')\n",
        "    plt.xlabel('Predicted label')\n",
        "evaluate(true_labels, preds.argmax(1))"
      ],
      "metadata": {
        "id": "04a6IKMTPmxa",
        "colab": {
          "base_uri": "https://localhost:8080/",
          "height": 424
        },
        "outputId": "ccaca32e-3936-4818-c2b8-1786a8ce6acd"
      },
      "execution_count": 64,
      "outputs": [
        {
          "output_type": "display_data",
          "data": {
            "text/plain": [
              "<Figure size 864x432 with 2 Axes>"
            ],
            "image/png": "[encoded data removed]"
          },
          "metadata": {
            "image/png": {
              "width": 687,
              "height": 407
            }
          }
        }
      ]
    },
    {
      "cell_type": "markdown",
      "metadata": {
        "id": "6BzhJEsOSzOI"
      },
      "source": [
        "#### **Classification Report**"
      ]
    },
    {
      "cell_type": "code",
      "metadata": {
        "id": "S4VGNcivS0uw",
        "colab": {
          "base_uri": "https://localhost:8080/"
        },
        "outputId": "60bc9165-e989-4455-c57f-532517362ad1"
      },
      "source": [
        "class_report= classification_report(true_labels, preds.argmax(1), digits=3)\n",
        "print(class_report)"
      ],
      "execution_count": 66,
      "outputs": [
        {
          "output_type": "stream",
          "name": "stdout",
          "text": [
            "              precision    recall  f1-score   support\n",
            "\n",
            "           0      0.970     0.987     0.979       696\n",
            "           1      0.987     0.970     0.978       697\n",
            "\n",
            "    accuracy                          0.978      1393\n",
            "   macro avg      0.979     0.978     0.978      1393\n",
            "weighted avg      0.979     0.978     0.978      1393\n",
            "\n"
          ]
        }
      ]
    },
    {
      "cell_type": "markdown",
      "source": [
        "## **Conclusions**:\n",
        "- Our model seems to **generalize well** because the **accuracy on the test set** is **very similar** to the **accuracy on the validation set** (even higher: **97.8 > 97.5%**).\n",
        "- When **comparing** the **1st** and **2nd epochs**, **validation loss decreases** which **indicates** that **we aren't over-fitting on the training data**.\n",
        "- The model achieves a **high F1 Scores**: **≈ 97.8% / 97.9%**.\n",
        "- It is possible that **if we didn't remove the stopwords** we would **achieve a slight increase in F1 Score**. However, as we previously explained, **we chose not to include the stopwords** (with the exception of 'not' and 'no') **due to the reason mentioned above**. We **can't have the best of both worlds!**\n"
      ],
      "metadata": {
        "id": "wjIQkhFVtWt-"
      }
    }
  ]
}