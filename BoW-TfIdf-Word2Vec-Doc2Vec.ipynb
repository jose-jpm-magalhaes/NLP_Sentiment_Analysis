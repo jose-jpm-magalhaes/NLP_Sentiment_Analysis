{
 "cells": [
  {
   "cell_type": "markdown",
   "id": "dbb6cb41-fcc7-4dae-9881-a01bee6c1a6e",
   "metadata": {},
   "source": [
    "# **Sentiment Analysis** of the **Restaurant Reviews** from **YELP** Dataset"
   ]
  },
  {
   "cell_type": "markdown",
   "id": "4043075c-2d34-40b6-a03f-e53aff311134",
   "metadata": {},
   "source": [
    "## **Frequency-based** and **word embeddings** techniques"
   ]
  },
  {
   "cell_type": "markdown",
   "id": "cab94717-f8fa-4ec7-9cf3-b81763c74f3f",
   "metadata": {},
   "source": [
    "### - Bag-of-words and TF-IDF"
   ]
  },
  {
   "cell_type": "markdown",
   "id": "b11169b7-80ba-4d98-8164-70542c9b27ae",
   "metadata": {},
   "source": [
    "### - Word2Vec and Doc2Vec"
   ]
  },
  {
   "cell_type": "markdown",
   "id": "38e23404-8c3d-497a-9e2e-e01e71db905c",
   "metadata": {},
   "source": [
    "#### Importing libraries"
   ]
  },
  {
   "cell_type": "code",
   "execution_count": 1,
   "id": "f91305f6-2bce-450a-b333-ba9093ef5ded",
   "metadata": {},
   "outputs": [],
   "source": [
    "import pandas as pd\n",
    "import numpy as np\n",
    "import seaborn as sns\n",
    "import matplotlib.pyplot as plt\n",
    "import tensorflow as tf\n",
    "from sklearn.feature_extraction.text import CountVectorizer, TfidfVectorizer\n",
    "from gensim.models import Doc2Vec\n",
    "from gensim.models.doc2vec import TaggedDocument\n",
    "from gensim.models import Word2Vec\n",
    "from sklearn.model_selection import train_test_split\n",
    "from sklearn import metrics\n",
    "from sklearn.metrics import accuracy_score,f1_score,precision_score, recall_score, confusion_matrix\n",
    "from sklearn.metrics import plot_confusion_matrix\n",
    "from sklearn.linear_model import LogisticRegression\n",
    "from sklearn import svm\n",
    "from sklearn.pipeline import Pipeline\n",
    "from sklearn.model_selection import GridSearchCV\n",
    "import sys\n",
    "import os\n",
    "import warnings\n"
   ]
  },
  {
   "cell_type": "code",
   "execution_count": 2,
   "id": "f415f3ce-a0f4-4676-8728-53090c70cf68",
   "metadata": {},
   "outputs": [],
   "source": [
    "if not sys.warnoptions:\n",
    "    warnings.simplefilter(\"ignore\")\n",
    "    os.environ[\"PYTHONWARNINGS\"] = \"ignore\" "
   ]
  },
  {
   "cell_type": "markdown",
   "id": "a5c01c4b-7438-4edb-b5ec-fd09d43d088c",
   "metadata": {},
   "source": [
    "#### Read the **cleaned** dataset stored in the bucket at the **end** of the **preprocesssing** phase"
   ]
  },
  {
   "cell_type": "code",
   "execution_count": 3,
   "id": "0dd72e00-7e7b-4be1-bfe4-37707a45a2b0",
   "metadata": {},
   "outputs": [],
   "source": [
    "df_final = pd.read_csv('gs://demo2222/df_final.csv')"
   ]
  },
  {
   "cell_type": "markdown",
   "id": "b83eb150-093c-4e2a-bebb-1504c65da3cd",
   "metadata": {},
   "source": [
    "#### Train/test split **keeping** the two **columns of interest** and **preserve** the **same proportions** of examples in **each class** as **observed** in the **original dataset**"
   ]
  },
  {
   "cell_type": "code",
   "execution_count": 4,
   "id": "641e34c7-a65c-44f8-be38-ce0cebdd7e27",
   "metadata": {},
   "outputs": [],
   "source": [
    "X = df_final['cleaned_reviews'] \n",
    "y = df_final['sentiment']\n",
    "X_train, X_test, y_train, y_test = train_test_split(X, y, test_size = 0.3, random_state = 42, stratify=y)"
   ]
  },
  {
   "cell_type": "code",
   "execution_count": 5,
   "id": "957a2257-602f-47ee-bfca-f6e43e52dbdc",
   "metadata": {},
   "outputs": [
    {
     "data": {
      "text/plain": [
       "3660    journeyman want like try hard consider restaur...\n",
       "1395    sad old chef leave start come delicious menu c...\n",
       "7620    come familiar expect parent surprised generous...\n",
       "5904    aldo server excellent attentive point come cel...\n",
       "9029    good chinese town order time count hand sesame...\n",
       "Name: cleaned_reviews, dtype: object"
      ]
     },
     "execution_count": 5,
     "metadata": {},
     "output_type": "execute_result"
    }
   ],
   "source": [
    "X_train.head()"
   ]
  },
  {
   "cell_type": "code",
   "execution_count": 6,
   "id": "fb75364d-08f0-4866-9d56-b0695e0e22ed",
   "metadata": {},
   "outputs": [
    {
     "data": {
      "text/plain": [
       "(6500,)"
      ]
     },
     "execution_count": 6,
     "metadata": {},
     "output_type": "execute_result"
    }
   ],
   "source": [
    "X_train.shape"
   ]
  },
  {
   "cell_type": "code",
   "execution_count": 7,
   "id": "c85d30d1-7e57-4c48-a35e-57e38e109ba2",
   "metadata": {},
   "outputs": [
    {
     "data": {
      "text/plain": [
       "False"
      ]
     },
     "execution_count": 7,
     "metadata": {},
     "output_type": "execute_result"
    }
   ],
   "source": [
    "X_train.isnull().any().any()"
   ]
  },
  {
   "cell_type": "code",
   "execution_count": 8,
   "id": "ff896a71-5db4-4917-9657-adbcd9d1d21f",
   "metadata": {},
   "outputs": [
    {
     "data": {
      "text/plain": [
       "3660    0.0\n",
       "1395    0.0\n",
       "7620    1.0\n",
       "5904    1.0\n",
       "9029    1.0\n",
       "Name: sentiment, dtype: float64"
      ]
     },
     "execution_count": 8,
     "metadata": {},
     "output_type": "execute_result"
    }
   ],
   "source": [
    "y_train.head()"
   ]
  },
  {
   "cell_type": "code",
   "execution_count": 9,
   "id": "6e2789fe-400d-49d7-ae6c-9e519d65c884",
   "metadata": {},
   "outputs": [
    {
     "data": {
      "text/plain": [
       "(6500,)"
      ]
     },
     "execution_count": 9,
     "metadata": {},
     "output_type": "execute_result"
    }
   ],
   "source": [
    "y_train.shape"
   ]
  },
  {
   "cell_type": "markdown",
   "id": "de35c823-45c6-41a9-91d2-3bcdb9e5fe4c",
   "metadata": {},
   "source": [
    "#### UDF for **evaluating** models\n"
   ]
  },
  {
   "cell_type": "code",
   "execution_count": 10,
   "id": "ece228b9-70c5-4e41-9726-603b8a7515c8",
   "metadata": {},
   "outputs": [],
   "source": [
    "def evaluate(y_test, predictions):\n",
    "    cf_matrix = confusion_matrix(y_test, predictions)\n",
    "    sns.heatmap(cf_matrix, annot = True, fmt = 'd',cmap=\"Blues\")\n",
    "    plt.title('Heatmap of confusion matrix for Test data')\n",
    "    plt.ylabel('True label')\n",
    "    plt.xlabel('Predicted label') \n",
    "    \n",
    "    \n",
    "    print(\"Precision Score of the model:\", precision_score(y_test,predictions)*100)\n",
    "    print(\"Recall Score of the model:\", recall_score(y_test,predictions)*100)\n",
    "    print(\"Acuracy score of the model:\",accuracy_score(y_test,predictions)*100)\n",
    "    print(\"F1 score of the model:\",f1_score(y_test,predictions)*100)"
   ]
  },
  {
   "cell_type": "markdown",
   "id": "297e9eda-f0f7-4cc3-adfc-a9d2d599004c",
   "metadata": {},
   "source": [
    "###  **Bag-of-Words**: establishing a benchmark with baseline classifier models"
   ]
  },
  {
   "cell_type": "markdown",
   "id": "55d3d83c-1721-4396-b80e-2c8249472d00",
   "metadata": {},
   "source": [
    "#### We can use a **pipeline** like below to **find out** which **ngram_range performs better** with the **logistic regression classifier**"
   ]
  },
  {
   "cell_type": "code",
   "execution_count": 11,
   "id": "232cd63e-8bda-4c77-9d67-bdd3223e6b9e",
   "metadata": {},
   "outputs": [
    {
     "name": "stdout",
     "output_type": "stream",
     "text": [
      "Best ngram_range: (1, 3)\n",
      "Precision Score of the model: 98.74538745387453\n",
      "Recall Score of the model: 96.05168700646087\n",
      "Acuracy score of the model: 97.4156496769562\n",
      "F1 score of the model: 97.37991266375545\n"
     ]
    },
    {
     "data": {
      "image/png": "[encoded data removed]",
      "text/plain": [
       "<Figure size 432x288 with 2 Axes>"
      ]
     },
     "metadata": {
      "needs_background": "light"
     },
     "output_type": "display_data"
    }
   ],
   "source": [
    "param_grid = {'c_vectorizer__ngram_range': [(1, 1), (2, 2), (3, 3), (1, 2), (2, 3), (1, 3)]}\n",
    "\n",
    "lr_pipeline = Pipeline([\n",
    "    ('c_vectorizer', CountVectorizer()),\n",
    "    ('lr', LogisticRegression(random_state=42))\n",
    "])\n",
    "\n",
    "\n",
    "grid_search_lr = GridSearchCV(lr_pipeline, cv=2, param_grid=param_grid, scoring='f1')\n",
    "grid_search_lr.fit(X_train, y_train)\n",
    "\n",
    "print('Best ngram_range:', grid_search_lr.best_estimator_.get_params()['c_vectorizer__ngram_range'])\n",
    "\n",
    "predictions = grid_search_lr.predict(X_test)\n",
    "evaluate(y_test, predictions )\n"
   ]
  },
  {
   "cell_type": "markdown",
   "id": "ad9036c9-19ac-43c4-b1d6-75f0a2759cf3",
   "metadata": {},
   "source": [
    "#### We can use a **pipeline** like below to **find out** which **ngram_range performs better** for with the **SVM**"
   ]
  },
  {
   "cell_type": "code",
   "execution_count": 12,
   "id": "b4099dee-5a3f-4567-811d-29c499a2024b",
   "metadata": {},
   "outputs": [
    {
     "name": "stdout",
     "output_type": "stream",
     "text": [
      "Best ngram_range: (1, 2)\n",
      "Precision Score of the model: 97.22425127830533\n",
      "Recall Score of the model: 95.5491744436468\n",
      "Acuracy score of the model: 96.41062455132807\n",
      "F1 score of the model: 96.37943519188993\n"
     ]
    },
    {
     "data": {
      "image/png": "[encoded data removed]",
      "text/plain": [
       "<Figure size 432x288 with 2 Axes>"
      ]
     },
     "metadata": {
      "needs_background": "light"
     },
     "output_type": "display_data"
    }
   ],
   "source": [
    "param_grid = {'c_vectorizer__ngram_range': [(1, 1), (2, 2), (3, 3), (1, 2), (2, 3), (1, 3)]}\n",
    "\n",
    "svm_pipe = Pipeline([\n",
    " ('c_vectorizer', CountVectorizer()),\n",
    " ('svm', svm.SVC(max_iter=-1, random_state=123))\n",
    "])\n",
    "\n",
    "grid_search_svm = GridSearchCV(svm_pipe, cv=2, param_grid=param_grid, scoring='f1')\n",
    "grid_search_svm.fit(X_train, y_train)\n",
    "\n",
    "print('Best ngram_range:', grid_search_svm.best_estimator_.get_params()['c_vectorizer__ngram_range'])\n",
    "\n",
    "predictions = grid_search_svm.predict(X_test)\n",
    "evaluate(y_test, predictions )\n"
   ]
  },
  {
   "cell_type": "markdown",
   "id": "e5de6930-a4c3-4cca-b442-e17415115410",
   "metadata": {},
   "source": [
    "#### **Evaluation** using **Logistic Regression** classifier with **Hyperparameter tuning** "
   ]
  },
  {
   "cell_type": "code",
   "execution_count": 13,
   "id": "df68ce29-fccc-4396-8dec-58f4fced6824",
   "metadata": {},
   "outputs": [
    {
     "name": "stdout",
     "output_type": "stream",
     "text": [
      "Best l1_ratio: none\n",
      "Best C: 1\n",
      "Best penalty: l2\n",
      "Best solver: lbfgs\n",
      "Precision Score of the model: 98.74538745387453\n",
      "Recall Score of the model: 96.05168700646087\n",
      "Acuracy score of the model: 97.4156496769562\n",
      "F1 score of the model: 97.37991266375545\n"
     ]
    },
    {
     "data": {
      "image/png": "[encoded data removed]",
      "text/plain": [
       "<Figure size 432x288 with 2 Axes>"
      ]
     },
     "metadata": {
      "needs_background": "light"
     },
     "output_type": "display_data"
    }
   ],
   "source": [
    "grid = {\"lr__C\":[0.5, 1, 2], 'lr__l1_ratio':['none', 0, 0.1], 'lr__penalty':['l2', 'elasticnet'],\n",
    "       'lr__solver':['lbfgs', 'saga']}\n",
    "\n",
    "# Pipeline for CountVectorizer - with the best ngram_range - and Logistic Regression\n",
    "lr_pipe_2 = Pipeline([\n",
    " ('c_vectorizer', CountVectorizer(ngram_range = (1,3))),\n",
    " ('lr', LogisticRegression(max_iter=1500, random_state=42))\n",
    "])\n",
    "\n",
    "logreg_cv=GridSearchCV(lr_pipe_2, grid, scoring='f1', cv=2)\n",
    "logreg_cv.fit(X_train, y_train)\n",
    "\n",
    "print('Best l1_ratio:', logreg_cv.best_estimator_.get_params()['lr__l1_ratio'])\n",
    "print('Best C:', logreg_cv.best_estimator_.get_params()['lr__C'])\n",
    "print('Best penalty:', logreg_cv.best_estimator_.get_params()['lr__penalty'])\n",
    "print('Best solver:', logreg_cv.best_estimator_.get_params()['lr__solver'])\n",
    "\n",
    "predictions = logreg_cv.predict(X_test)\n",
    "evaluate(y_test, predictions )"
   ]
  },
  {
   "cell_type": "markdown",
   "id": "a80b4781-7bfa-43cd-a2bc-95d5c3de71a4",
   "metadata": {},
   "source": [
    "#### **Evaluation** using **SVM** classifier with **Hyperparameter tuning** "
   ]
  },
  {
   "cell_type": "code",
   "execution_count": 14,
   "id": "1802ccd1-5ddb-4309-bba7-9d6f4609a3a7",
   "metadata": {},
   "outputs": [
    {
     "name": "stdout",
     "output_type": "stream",
     "text": [
      "Best KERNEL: rbf\n",
      "Best C: 3\n",
      "Precision Score of the model: 98.17518248175182\n",
      "Recall Score of the model: 96.55419956927494\n",
      "Acuracy score of the model: 97.37975592246949\n",
      "F1 score of the model: 97.35794426348173\n"
     ]
    },
    {
     "data": {
      "image/png": "[encoded data removed]",
      "text/plain": [
       "<Figure size 432x288 with 2 Axes>"
      ]
     },
     "metadata": {
      "needs_background": "light"
     },
     "output_type": "display_data"
    }
   ],
   "source": [
    "param_grid_svm = [\n",
    "    {'svm__kernel':('linear', 'rbf')},\n",
    "    {'svm__C':[1, 2, 3, 4]},\n",
    "]    \n",
    "\n",
    "# Pipeline for CountVectorizer - with the best ngram_range - and SVM Classifier \n",
    "svm_pipe_2 = Pipeline([\n",
    " ('c_vectorizer', CountVectorizer(ngram_range = (1,2))),\n",
    " ('svm',svm.SVC(random_state=123))\n",
    "])\n",
    "\n",
    "svm_model_cv = GridSearchCV(svm_pipe_2, param_grid_svm)\n",
    "\n",
    "svm_model_cv.fit(X_train, y_train)\n",
    "\n",
    "print('Best KERNEL:', svm_model_cv.best_estimator_.get_params()['svm__kernel'])\n",
    "print('Best C:', svm_model_cv.best_estimator_.get_params()['svm__C'])\n",
    "\n",
    "\n",
    "predictions = svm_model_cv.predict(X_test)\n",
    "evaluate(y_test, predictions )"
   ]
  },
  {
   "cell_type": "markdown",
   "id": "cf457371-547f-4bb1-a24c-78105d4cb9b9",
   "metadata": {},
   "source": [
    "###  TF-IDF: establishing a benchmark with baseline classifier models"
   ]
  },
  {
   "cell_type": "markdown",
   "id": "2b1b0266-52d1-4bf4-9fe6-4a4dff089922",
   "metadata": {},
   "source": [
    "#### We can use a **pipeline** like below to **find out** which **ngram_range performs better** for the **logistic regression**"
   ]
  },
  {
   "cell_type": "code",
   "execution_count": 15,
   "id": "efaddeb8-4a55-4257-81c6-3da3d1b9d59a",
   "metadata": {},
   "outputs": [
    {
     "name": "stdout",
     "output_type": "stream",
     "text": [
      "Best ngram_range: (1, 2)\n",
      "Precision Score of the model: 96.97416974169741\n",
      "Recall Score of the model: 94.32878679109835\n",
      "Acuracy score of the model: 95.69274946159368\n",
      "F1 score of the model: 95.63318777292577\n"
     ]
    },
    {
     "data": {
      "image/png": "[encoded data removed]",
      "text/plain": [
       "<Figure size 432x288 with 2 Axes>"
      ]
     },
     "metadata": {
      "needs_background": "light"
     },
     "output_type": "display_data"
    }
   ],
   "source": [
    "param_grid = {'tfidf__ngram_range': [(1, 1), (2, 2), (3, 3), (1, 2), (2, 3), (1, 3)]}\n",
    "\n",
    "lr_pipe_tfidf = Pipeline([\n",
    "    ('tfidf', TfidfVectorizer()),\n",
    "    ('lr', LogisticRegression(max_iter=1500, random_state=42))\n",
    "])\n",
    "\n",
    "\n",
    "logreg_cv_2 = GridSearchCV(lr_pipe_tfidf, cv=2, param_grid=param_grid, scoring='f1')\n",
    "logreg_cv_2.fit(X_train, y_train)\n",
    "\n",
    "print('Best ngram_range:', logreg_cv_2.best_estimator_.get_params()['tfidf__ngram_range'])\n",
    "\n",
    "predictions = logreg_cv_2.predict(X_test)\n",
    "evaluate(y_test, predictions )"
   ]
  },
  {
   "cell_type": "markdown",
   "id": "c0877af7-a252-4f4c-ba79-5aca80813c83",
   "metadata": {},
   "source": [
    "#### We can use a **pipeline** like below to **find out** which **ngram_range performs better** for with the **SVM**"
   ]
  },
  {
   "cell_type": "code",
   "execution_count": 16,
   "id": "ea6b51c8-d550-4cad-b400-8fa494aa20d0",
   "metadata": {},
   "outputs": [
    {
     "name": "stdout",
     "output_type": "stream",
     "text": [
      "Best ngram_range: (1, 1)\n",
      "Precision Score of the model: 98.40232389251997\n",
      "Recall Score of the model: 97.27207465900933\n",
      "Acuracy score of the model: 97.84637473079684\n",
      "F1 score of the model: 97.83393501805054\n"
     ]
    },
    {
     "data": {
      "image/png": "[encoded data removed]",
      "text/plain": [
       "<Figure size 432x288 with 2 Axes>"
      ]
     },
     "metadata": {
      "needs_background": "light"
     },
     "output_type": "display_data"
    }
   ],
   "source": [
    "param_grid = {'tfidf__ngram_range': [(1, 1), (2, 2), (3, 3), (1, 2), (2, 3), (1, 3)]}\n",
    "\n",
    "svm_pipe_tfidf = Pipeline([\n",
    "    ('tfidf', TfidfVectorizer()),\n",
    "    ('svm', svm.SVC(max_iter=-1, random_state=123)),\n",
    "])\n",
    "\n",
    "svm_model_cv_2 = GridSearchCV(svm_pipe_tfidf, cv=2, param_grid=param_grid, scoring='f1')\n",
    "svm_model_cv_2.fit(X_train, y_train)\n",
    "\n",
    "print('Best ngram_range:', svm_model_cv_2.best_estimator_.get_params()['tfidf__ngram_range'])\n",
    "\n",
    "predictions = svm_model_cv_2.predict(X_test)\n",
    "evaluate(y_test, predictions )"
   ]
  },
  {
   "cell_type": "markdown",
   "id": "d42a75cf-56a0-4200-8141-ffe458aa8664",
   "metadata": {},
   "source": [
    "#### **Evaluation** using **Logistic Regression** classifier with **Hyperparameter tuning** "
   ]
  },
  {
   "cell_type": "code",
   "execution_count": 17,
   "id": "09c3b79b-cdbe-4cff-8ee4-6a31e7a5e181",
   "metadata": {},
   "outputs": [
    {
     "name": "stdout",
     "output_type": "stream",
     "text": [
      "Best l1_ratio: none\n",
      "Best C: 30\n",
      "Best penalty: l2\n",
      "Best solver: saga\n",
      "Precision Score of the model: 99.0377498149519\n",
      "Recall Score of the model: 96.05168700646087\n",
      "Acuracy score of the model: 97.5592246949031\n",
      "F1 score of the model: 97.52186588921283\n"
     ]
    },
    {
     "data": {
      "image/png": "[encoded data removed]",
      "text/plain": [
       "<Figure size 432x288 with 2 Axes>"
      ]
     },
     "metadata": {
      "needs_background": "light"
     },
     "output_type": "display_data"
    }
   ],
   "source": [
    "grid = {\"lr__C\":[1, 10, 20, 30, 40], 'lr__l1_ratio':['none', 0, 0.1], 'lr__penalty':['l2', 'elasticnet'],\n",
    "       'lr__solver':['lbfgs', 'saga']}\n",
    "\n",
    "# Pipeline for TfidfVectorizer - with the best ngram_range - and Logistic Regression Classifier \n",
    "lr_pipe_tfidf_2 = Pipeline([\n",
    " ('tfidf', TfidfVectorizer(ngram_range = (1,2))),\n",
    " ('lr', LogisticRegression(max_iter=1500, n_jobs = -1, random_state=42))\n",
    "])\n",
    "\n",
    "logreg_cv_3=GridSearchCV(lr_pipe_tfidf_2, grid, scoring='f1', cv=2)\n",
    "logreg_cv_3.fit(X_train, y_train)\n",
    "\n",
    "print('Best l1_ratio:', logreg_cv_3.best_estimator_.get_params()['lr__l1_ratio'])\n",
    "print('Best C:', logreg_cv_3.best_estimator_.get_params()['lr__C'])\n",
    "print('Best penalty:', logreg_cv_3.best_estimator_.get_params()['lr__penalty'])\n",
    "print('Best solver:', logreg_cv_3.best_estimator_.get_params()['lr__solver'])\n",
    "\n",
    "predictions = logreg_cv_3.predict(X_test)\n",
    "evaluate(y_test, predictions )\n"
   ]
  },
  {
   "cell_type": "markdown",
   "id": "86f543a5-30eb-4a69-a7e4-b65d7a9feb6e",
   "metadata": {},
   "source": [
    "#### **Evaluation** using **SVM** classifier with **Hyperparameter tuning** "
   ]
  },
  {
   "cell_type": "code",
   "execution_count": 18,
   "id": "b7f4372a-7e88-48d5-991a-cdbf889cc4e1",
   "metadata": {},
   "outputs": [
    {
     "name": "stdout",
     "output_type": "stream",
     "text": [
      "Best KERNEL: rbf\n",
      "Best C: 1.5\n",
      "Precision Score of the model: 98.61918604651163\n",
      "Recall Score of the model: 97.4156496769562\n",
      "Acuracy score of the model: 98.02584350323043\n",
      "F1 score of the model: 98.01372336583604\n"
     ]
    },
    {
     "data": {
      "image/png": "[encoded data removed]",
      "text/plain": [
       "<Figure size 432x288 with 2 Axes>"
      ]
     },
     "metadata": {
      "needs_background": "light"
     },
     "output_type": "display_data"
    }
   ],
   "source": [
    "param_grid_svm = [\n",
    "    {'svm__kernel':('linear', 'rbf')},\n",
    "    {'svm__C':[ 0.5, 1, 1.5, 1.9]},\n",
    "]    \n",
    "\n",
    "# Pipeline for TfidfVectorizer - with the best ngram_range - and SVM Classifier \n",
    "\n",
    "svm_pipe_tfidf_2 = Pipeline([\n",
    " ('tfidf', TfidfVectorizer(ngram_range = (1,1))),\n",
    " ('svm',svm.SVC(random_state=123))\n",
    "])\n",
    "\n",
    "svm_model_cv_3 = GridSearchCV(svm_pipe_tfidf_2, param_grid_svm, cv=2)\n",
    "\n",
    "svm_model_cv_3.fit(X_train, y_train)\n",
    "\n",
    "print('Best KERNEL:', svm_model_cv_3.best_estimator_.get_params()['svm__kernel'])\n",
    "print('Best C:', svm_model_cv_3.best_estimator_.get_params()['svm__C'])\n",
    "\n",
    "predictions = svm_model_cv_3.predict(X_test)\n",
    "evaluate(y_test, predictions )"
   ]
  },
  {
   "cell_type": "markdown",
   "id": "ee1b5227-0743-4b1c-a344-19f61fca8d0c",
   "metadata": {},
   "source": [
    "### Word2Vec Model"
   ]
  },
  {
   "cell_type": "code",
   "execution_count": 19,
   "id": "f446344e-f744-42b5-b0e6-a685d3759b7a",
   "metadata": {},
   "outputs": [],
   "source": [
    "train_cleaned_reviews = X_train.str.split() # tokenization\n",
    "test_cleaned_reviews = X_test.str.split() # tokenization"
   ]
  },
  {
   "cell_type": "markdown",
   "id": "8788a7e6-96f9-4be4-9dd6-5b165de42372",
   "metadata": {},
   "source": [
    "#### **Word2Vec** without using pretrained word embeddings can be more **suitable** if one wants to create word embeddings using a **customized dataset**. This allows the model to **learn contextual embeddings properly** during the **training phase** and **performs better** on **unseen data**. "
   ]
  },
  {
   "cell_type": "markdown",
   "id": "34623588-1f57-4148-9dd7-8925133f9e0c",
   "metadata": {},
   "source": [
    "#### Word2Vec model with default parameters except for the number of features (500) given the **vast** corpus"
   ]
  },
  {
   "cell_type": "code",
   "execution_count": 20,
   "id": "8b2ffe3d-cdff-4998-9f15-f2da77b82a67",
   "metadata": {},
   "outputs": [
    {
     "data": {
      "text/plain": [
       "(5047737, 5926340)"
      ]
     },
     "execution_count": 20,
     "metadata": {},
     "output_type": "execute_result"
    }
   ],
   "source": [
    "\n",
    "number_of_features = 500\n",
    "model_w2v = Word2Vec(\n",
    "            train_cleaned_reviews,\n",
    "            size=number_of_features, # nmumber of features\n",
    "            window=5, # window size\n",
    "            min_count=5, # Ignores all words with total frequency lower than 5.                                  \n",
    "            sg = 1, # 1 for skip-gram model\n",
    "            hs = 0, # negative sampling will be used\n",
    "            negative = 10, # > 0, for negative sampling\n",
    "            workers= 4, # number of cores\n",
    "            seed = 42 \n",
    ") \n",
    "\n",
    "model_w2v.train(train_cleaned_reviews, total_examples= len(X_train), epochs=20)"
   ]
  },
  {
   "cell_type": "markdown",
   "id": "0befd030-5fc2-4ecd-9670-239a7526a0d5",
   "metadata": {},
   "source": [
    "#### UDF to **get the vectors** that will **feed** the **classifiers**"
   ]
  },
  {
   "cell_type": "code",
   "execution_count": 21,
   "id": "42860793-c8db-43f4-82f7-88563a278d60",
   "metadata": {},
   "outputs": [],
   "source": [
    "def getVectors(dataset):\n",
    "  word_Embedding=np.zeros(number_of_features) \n",
    "  vectors=[]\n",
    "  for review in dataset:\n",
    "    wordCount=0\n",
    "    # Loop over each word in the review and, if it is in the model's vocaublary, add its feature vector to the total\n",
    "    for word in review: \n",
    "      if word in model_w2v.wv.vocab: # model_w2v.wv.vocab is a list that contains the names of the words in the model's vocabulary\n",
    "        word_Embedding=word_Embedding+model_w2v.wv[word] \n",
    "        wordCount=wordCount+1\n",
    "  \n",
    "    word_Embedding=word_Embedding/wordCount  # Get the average\n",
    "    vectors.append(word_Embedding)\n",
    "  return vectors\n",
    "\n",
    "trainReviewVectors=getVectors(train_cleaned_reviews)\n",
    "testReviewVectors=getVectors(test_cleaned_reviews)"
   ]
  },
  {
   "cell_type": "markdown",
   "id": "35b7eed6-e547-4bbe-9d6f-ab1fc0933f2d",
   "metadata": {},
   "source": [
    "#### **Word2Vec**: establishing a benchmark with baseline classifier models"
   ]
  },
  {
   "cell_type": "markdown",
   "id": "a1ba7538-84ac-4502-a576-462a67c6bb14",
   "metadata": {},
   "source": [
    "#### **Evaluation** using **Logistic Regression** baseline model"
   ]
  },
  {
   "cell_type": "code",
   "execution_count": 22,
   "id": "dda73d43-28fe-4366-838d-7cb87c631a6e",
   "metadata": {},
   "outputs": [
    {
     "name": "stdout",
     "output_type": "stream",
     "text": [
      "Precision Score of the model: 91.47121535181236\n",
      "Recall Score of the model: 92.39052404881551\n",
      "Acuracy score of the model: 91.88801148600143\n",
      "F1 score of the model: 91.92857142857143\n"
     ]
    },
    {
     "data": {
      "image/png": "[encoded data removed]",
      "text/plain": [
       "<Figure size 432x288 with 2 Axes>"
      ]
     },
     "metadata": {
      "needs_background": "light"
     },
     "output_type": "display_data"
    }
   ],
   "source": [
    "model_lr = LogisticRegression(random_state=42)\n",
    "model_lr.fit(trainReviewVectors, y_train)\n",
    "predictions = model_lr.predict(testReviewVectors)\n",
    "evaluate(y_test, predictions)"
   ]
  },
  {
   "cell_type": "markdown",
   "id": "6e1e72fe-a58e-4e95-ba43-ca1d668e18e3",
   "metadata": {},
   "source": [
    "#### **Evaluation** using **SVM** baseline model"
   ]
  },
  {
   "cell_type": "code",
   "execution_count": 23,
   "id": "dedd4412-b114-42fb-8bde-845dbe39c992",
   "metadata": {},
   "outputs": [
    {
     "name": "stdout",
     "output_type": "stream",
     "text": [
      "Precision Score of the model: 93.06151645207439\n",
      "Recall Score of the model: 93.39554917444364\n",
      "Acuracy score of the model: 93.21608040201005\n",
      "F1 score of the model: 93.22823360802579\n"
     ]
    },
    {
     "data": {
      "image/png": "[encoded data removed]",
      "text/plain": [
       "<Figure size 432x288 with 2 Axes>"
      ]
     },
     "metadata": {
      "needs_background": "light"
     },
     "output_type": "display_data"
    }
   ],
   "source": [
    "model_svm = svm.SVC(random_state=42)\n",
    "model_svm.fit(trainReviewVectors, y_train)\n",
    "predictions = model_svm.predict(testReviewVectors)\n",
    "evaluate(y_test, predictions)"
   ]
  },
  {
   "cell_type": "markdown",
   "id": "d9d9da7d-80fe-40b5-b28e-140e0f4c7e0c",
   "metadata": {},
   "source": [
    "#### **Hyperparemeter tunning** for **Logistic Regression** Classifier"
   ]
  },
  {
   "cell_type": "code",
   "execution_count": 24,
   "id": "818e241f-b6b8-408f-9eb5-9eb5087d2d25",
   "metadata": {},
   "outputs": [
    {
     "name": "stdout",
     "output_type": "stream",
     "text": [
      "Best C: 30\n",
      "Best l1_ratio: none\n",
      "Best penalty: l2\n",
      "Best solver: saga\n",
      "Precision Score of the model: 92.83128167994207\n",
      "Recall Score of the model: 92.03158650394832\n",
      "Acuracy score of the model: 92.46231155778895\n",
      "F1 score of the model: 92.42970439798125\n"
     ]
    },
    {
     "data": {
      "image/png": "[encoded data removed]",
      "text/plain": [
       "<Figure size 432x288 with 2 Axes>"
      ]
     },
     "metadata": {
      "needs_background": "light"
     },
     "output_type": "display_data"
    }
   ],
   "source": [
    "grid_lr_word2vec = {\"C\":[1, 10, 20, 30, 50], 'l1_ratio':['none', 0, 0.1], 'penalty':['l2', 'elasticnet'],\n",
    "                'solver':['lbfgs', 'saga']}\n",
    "\n",
    "lr_word2vec = LogisticRegression(max_iter=1500, random_state=42)\n",
    "\n",
    "logreg_cv_word2vec=GridSearchCV(lr_word2vec, grid_lr_word2vec, n_jobs=-1)\n",
    "logreg_cv_word2vec.fit(trainReviewVectors, y_train)\n",
    "\n",
    "print('Best C:', logreg_cv_word2vec.best_estimator_.get_params()['C'])\n",
    "print('Best l1_ratio:', logreg_cv_word2vec.best_estimator_.get_params()['l1_ratio'])\n",
    "print('Best penalty:', logreg_cv_word2vec.best_estimator_.get_params()['penalty'])\n",
    "print('Best solver:', logreg_cv_word2vec.best_estimator_.get_params()['solver'])\n",
    "\n",
    "\n",
    "predictions = logreg_cv_word2vec.predict(testReviewVectors)\n",
    "evaluate(y_test, predictions )"
   ]
  },
  {
   "cell_type": "markdown",
   "id": "9fdebd55-488c-45af-a59c-bda8043d424b",
   "metadata": {},
   "source": [
    "#### **Hyperparemeter tunning** for **SVM** Classifier"
   ]
  },
  {
   "cell_type": "code",
   "execution_count": 25,
   "id": "bd10cf3a-a34f-4846-ae85-d4edc068e7f0",
   "metadata": {},
   "outputs": [
    {
     "name": "stdout",
     "output_type": "stream",
     "text": [
      "Best KERNEL: rbf\n",
      "Best C: 25\n",
      "Precision Score of the model: 97.79735682819384\n",
      "Recall Score of the model: 95.62096195262025\n",
      "Acuracy score of the model: 96.73366834170855\n",
      "F1 score of the model: 96.69691470054447\n"
     ]
    },
    {
     "data": {
      "image/png": "[encoded data removed]",
      "text/plain": [
       "<Figure size 432x288 with 2 Axes>"
      ]
     },
     "metadata": {
      "needs_background": "light"
     },
     "output_type": "display_data"
    }
   ],
   "source": [
    "# Hyperparameter tuning com SVM \n",
    "\n",
    "grid_svm_word2vec = [\n",
    "    {'kernel':('linear', 'rbf')},\n",
    "    {'C':[ 1, 10, 20, 25, 30]},\n",
    "]    \n",
    "\n",
    "svm_word2vec = svm.SVC(random_state=42)\n",
    "\n",
    "\n",
    "svm_word2vec_cv = GridSearchCV(svm_word2vec, grid_svm_word2vec, n_jobs=-1)\n",
    "\n",
    "svm_word2vec_cv.fit(trainReviewVectors, y_train)\n",
    "\n",
    "print('Best KERNEL:', svm_word2vec_cv.best_estimator_.get_params()['kernel'])\n",
    "print('Best C:', svm_word2vec_cv.best_estimator_.get_params()['C'])\n",
    "\n",
    "predictions = svm_word2vec_cv.predict(testReviewVectors)\n",
    "evaluate(y_test, predictions)"
   ]
  },
  {
   "cell_type": "markdown",
   "id": "cef7b232-1aec-401e-9f53-41fd5565b30d",
   "metadata": {},
   "source": [
    "### **Doc2Vec** model"
   ]
  },
  {
   "cell_type": "markdown",
   "id": "9de51985-c639-4130-834e-9387b4ed9355",
   "metadata": {},
   "source": [
    "#### To keep **features** and **labels** in only **two** datasets, let's concatenate X_train and y_train into a **train set**, and X_test and y_test into a **test set**."
   ]
  },
  {
   "cell_type": "code",
   "execution_count": 26,
   "id": "5f4a42c9-7a16-484e-bc87-602fe30bcb35",
   "metadata": {},
   "outputs": [
    {
     "data": {
      "text/plain": [
       "(6500, 2)"
      ]
     },
     "execution_count": 26,
     "metadata": {},
     "output_type": "execute_result"
    }
   ],
   "source": [
    "train = pd.concat([X_train, y_train], axis=1) # Explicar que é para juntar para serem 2 colunas a serem treinadas\n",
    "train = train.reset_index(drop=True)\n",
    "test = pd.concat([X_test, y_test], axis=1)\n",
    "test = test.reset_index(drop=True)\n",
    "train.shape"
   ]
  },
  {
   "cell_type": "code",
   "execution_count": 27,
   "id": "2852ef79-c428-46e2-906f-8ce29f5067fc",
   "metadata": {},
   "outputs": [
    {
     "data": {
      "text/html": [
       "<div>\n",
       "<style scoped>\n",
       "    .dataframe tbody tr th:only-of-type {\n",
       "        vertical-align: middle;\n",
       "    }\n",
       "\n",
       "    .dataframe tbody tr th {\n",
       "        vertical-align: top;\n",
       "    }\n",
       "\n",
       "    .dataframe thead th {\n",
       "        text-align: right;\n",
       "    }\n",
       "</style>\n",
       "<table border=\"1\" class=\"dataframe\">\n",
       "  <thead>\n",
       "    <tr style=\"text-align: right;\">\n",
       "      <th></th>\n",
       "      <th>cleaned_reviews</th>\n",
       "      <th>sentiment</th>\n",
       "    </tr>\n",
       "  </thead>\n",
       "  <tbody>\n",
       "    <tr>\n",
       "      <th>0</th>\n",
       "      <td>journeyman want like try hard consider restaur...</td>\n",
       "      <td>0.0</td>\n",
       "    </tr>\n",
       "    <tr>\n",
       "      <th>1</th>\n",
       "      <td>sad old chef leave start come delicious menu c...</td>\n",
       "      <td>0.0</td>\n",
       "    </tr>\n",
       "    <tr>\n",
       "      <th>2</th>\n",
       "      <td>come familiar expect parent surprised generous...</td>\n",
       "      <td>1.0</td>\n",
       "    </tr>\n",
       "    <tr>\n",
       "      <th>3</th>\n",
       "      <td>aldo server excellent attentive point come cel...</td>\n",
       "      <td>1.0</td>\n",
       "    </tr>\n",
       "    <tr>\n",
       "      <th>4</th>\n",
       "      <td>good chinese town order time count hand sesame...</td>\n",
       "      <td>1.0</td>\n",
       "    </tr>\n",
       "  </tbody>\n",
       "</table>\n",
       "</div>"
      ],
      "text/plain": [
       "                                     cleaned_reviews  sentiment\n",
       "0  journeyman want like try hard consider restaur...        0.0\n",
       "1  sad old chef leave start come delicious menu c...        0.0\n",
       "2  come familiar expect parent surprised generous...        1.0\n",
       "3  aldo server excellent attentive point come cel...        1.0\n",
       "4  good chinese town order time count hand sesame...        1.0"
      ]
     },
     "execution_count": 27,
     "metadata": {},
     "output_type": "execute_result"
    }
   ],
   "source": [
    "train.head()"
   ]
  },
  {
   "cell_type": "code",
   "execution_count": 28,
   "id": "74d24f4f-6ba5-490a-b815-b6e33765f942",
   "metadata": {},
   "outputs": [
    {
     "data": {
      "text/plain": [
       "Index(['cleaned_reviews', 'sentiment'], dtype='object')"
      ]
     },
     "execution_count": 28,
     "metadata": {},
     "output_type": "execute_result"
    }
   ],
   "source": [
    "train.columns"
   ]
  },
  {
   "cell_type": "code",
   "execution_count": 29,
   "id": "22824f23-a2ba-4bbe-a4c4-e92e148f92cf",
   "metadata": {},
   "outputs": [],
   "source": [
    "train_tagged =  [TaggedDocument((train['cleaned_reviews'].str.split(' ')[i]), [train['sentiment'].loc[i]]) for i in range(len(train))]\n",
    "test_tagged =  [TaggedDocument((test['cleaned_reviews'].str.split(' ')[i]), [test['sentiment'].loc[i]]) for i in range(len(test))]"
   ]
  },
  {
   "cell_type": "code",
   "execution_count": 30,
   "id": "b31c4af5-96e2-437c-ba67-dfc604b5cc10",
   "metadata": {},
   "outputs": [
    {
     "data": {
      "text/plain": [
       "TaggedDocument(words=['journeyman', 'want', 'like', 'try', 'hard', 'consider', 'restaurant', 'literally', 'minute', 'house', 'neighbor', 'love', 'union', 'square', 'refinement', 'journeyman', 'purportedly', 'bring', 'definitely', 'overdue', 'work', 'paper', 'restaurant', 'love', 'local', 'modern', 'inventive', 'casual', 'reality', 'restaurant', 'seriously', 'despite', 'disappointing', 'dining', 'experience', 'glad', 'return', 'hub', 'celebrate', 'wedding', 'anniversary', 'opt', 'course', 'omnivore', 'menu', 'add', 'serving', 'foie', 'gra', 'confit', 'veal', 'tongue', 'smoke', 'beef', 'heart', 'course', 'menu', 'consist', 'spring', 'salad', 'favas', 'pea', 'spinach', 'carrot', 'spring', 'foam', 'serve', 'purpose', 'asparagus', 'soy', 'bonito', 'sous', 'vide', 'black', 'cod', 'leek', 'puree', 'potato', 'veal', 'breast', 'sweetbread', 'artichoke', 'dessert', 'cane', 'sugar', 'include', 'macaron', 'shoofly', 'pie', 'different', 'thing', 'amuse', 'offer', 'warm', 'lentil', 'salad', 'gruyere', 'gougere', 'house', 'cure', 'ham', 'pre', 'dessert', 'flan', 'freshly', 'grate', 'nutmeg', 'post', 'dessert', 'poppyseed', 'cracker', 'rhubarb', 'jam', 'florentines', 'house', 'marshmallow', 'end', 'different', 'thing', 'taste', 'order', 'ask', 'cod', 'sweetbread', 'follow', 'flan', 'unfortunately', 'rest', 'discordant', 'flavor', 'harmony', 'especially', 'asparagus', 'dish', 'bland', 'surprising', 'consider', 'component', 'plate', 'plate', 'pretty', 'gel', 'foam', 'pearl', 'far', 'flavor', 'par', 'drink', 'wonderful', 'albeit', 'tiny', 'cocktail', 'like', 'oz', 'atmosphere', 'awkward', 'arrive', 'early', 'o', 'clock', 'reservation', 'immediately', 'feel', 'like', 'intruder', 'no', 'music', 'automatically', 'feel', 'like', 'whisper', 'space', 'spare', 'music', 'definitely', 'compliment', 'industrial', 'slightly', 'clinical', 'vibe', 'want', 'restaurant', 'feel', 'fun', 'fun', 'hospital', 'recovery', 'room', 'service', 'adorable', 'way', 'good', 'willed', 'effort', 'little', 'actual', 'success', 'seriously', 'think', 'server', 'explode', 'awkwardness', 'stilted', 'service', 'giggly', 'turn', 'worsen', 'awkwardness', 'ah', 'tab', 'come', 'kind', 'absurd', 'despite', 'fact', 'drink', 'half', 'substantial', 'meal', 'e', 'g', 'island', 'creek', 'oyster', 'bar', 'coppa', 'mention', 'laugh'], tags=[0.0])"
      ]
     },
     "execution_count": 30,
     "metadata": {},
     "output_type": "execute_result"
    }
   ],
   "source": [
    "train_tagged[0] # example with the first review of the train set"
   ]
  },
  {
   "cell_type": "markdown",
   "id": "4c19cf8d-f28c-452e-ac34-85b1f8869bd2",
   "metadata": {},
   "source": [
    "#### Doc2Vec Model using **negative smapling** with default parameters except for the number of features (500) given the **vast corpus** "
   ]
  },
  {
   "cell_type": "code",
   "execution_count": 31,
   "id": "ac3e54ea-6fa8-4deb-a772-c1d66263e076",
   "metadata": {},
   "outputs": [],
   "source": [
    "model_dbow = Doc2Vec(dm=1, vector_size=500, workers=4, hs=0, negative=5, seed=123)\n",
    "model_dbow.build_vocab(train_tagged)"
   ]
  },
  {
   "cell_type": "code",
   "execution_count": 32,
   "id": "11c27076-2dd8-480f-b790-55182dac4b85",
   "metadata": {},
   "outputs": [],
   "source": [
    "model_dbow.train(train_tagged, total_examples=len(train_tagged), epochs=10)"
   ]
  },
  {
   "cell_type": "markdown",
   "id": "1ef9ba1c-a94f-408d-8ac4-ae53f24a9011",
   "metadata": {},
   "source": [
    "#### Building the **Final Vector Feature** for the Classifier\n"
   ]
  },
  {
   "cell_type": "code",
   "execution_count": 33,
   "id": "3a352388-fc3d-4281-8458-01eb20183697",
   "metadata": {},
   "outputs": [],
   "source": [
    "def vec_for_learning(model, tagged_docs):\n",
    "    sents = tagged_docs\n",
    "    targets, regressors = zip(*[(doc.tags[0], model.infer_vector(list(doc.words))) for doc in sents])\n",
    "    return targets, regressors"
   ]
  },
  {
   "cell_type": "code",
   "execution_count": 34,
   "id": "a6df79d1-b050-4e52-bcc7-4024d043580d",
   "metadata": {},
   "outputs": [],
   "source": [
    "y_train_tagged, X_train_tagged = vec_for_learning(model_dbow, train_tagged)\n",
    "y_test_tagged, X_test_tagged = vec_for_learning(model_dbow, test_tagged)"
   ]
  },
  {
   "cell_type": "markdown",
   "id": "728117dd-b3a3-4967-8244-21af8c6cc879",
   "metadata": {},
   "source": [
    "#### Using **Logistic Regression** classifier: baseline model"
   ]
  },
  {
   "cell_type": "code",
   "execution_count": 35,
   "id": "214056a5-b58e-4f0c-b122-22adde6cd704",
   "metadata": {},
   "outputs": [
    {
     "name": "stdout",
     "output_type": "stream",
     "text": [
      "Precision Score of the model: 90.25089605734767\n",
      "Recall Score of the model: 90.38047379755922\n",
      "Acuracy score of the model: 90.30868628858578\n",
      "F1 score of the model: 90.31563845050215\n"
     ]
    },
    {
     "data": {
      "image/png": "[encoded data removed]",
      "text/plain": [
       "<Figure size 432x288 with 2 Axes>"
      ]
     },
     "metadata": {
      "needs_background": "light"
     },
     "output_type": "display_data"
    }
   ],
   "source": [
    "model_lr = LogisticRegression(max_iter=100, random_state=123)\n",
    "model_lr.fit(X_train_tagged, y_train_tagged)\n",
    "predictions = model_lr.predict(X_test_tagged)\n",
    "evaluate(y_test_tagged, predictions )"
   ]
  },
  {
   "cell_type": "markdown",
   "id": "243bcfb3-78fa-4506-bca8-4ba7447f562c",
   "metadata": {},
   "source": [
    "#### Using **SVM** classifier: baseline model"
   ]
  },
  {
   "cell_type": "code",
   "execution_count": 36,
   "id": "c058241c-b40c-4151-9c03-5ef5dcaa42e1",
   "metadata": {},
   "outputs": [
    {
     "name": "stdout",
     "output_type": "stream",
     "text": [
      "Precision Score of the model: 91.02099927588704\n",
      "Recall Score of the model: 90.23689877961235\n",
      "Acuracy score of the model: 90.66762383345298\n",
      "F1 score of the model: 90.62725306416726\n"
     ]
    },
    {
     "data": {
      "image/png": "[encoded data removed]",
      "text/plain": [
       "<Figure size 432x288 with 2 Axes>"
      ]
     },
     "metadata": {
      "needs_background": "light"
     },
     "output_type": "display_data"
    }
   ],
   "source": [
    "model_svm = svm.SVC(max_iter=-1, random_state=42) \n",
    "model_svm.fit(X_train_tagged, y_train_tagged)\n",
    "predictions = model_svm.predict(X_test_tagged)\n",
    "evaluate(y_test_tagged, predictions)"
   ]
  },
  {
   "cell_type": "markdown",
   "id": "c3f507a7-2aff-47a8-897f-a97142719de1",
   "metadata": {},
   "source": [
    "#### **Hyperparemeter tunning** for **Logistic Regression** Classifier "
   ]
  },
  {
   "cell_type": "code",
   "execution_count": 37,
   "id": "9da48213-08d6-4d89-8d03-707b0cf7e3b9",
   "metadata": {},
   "outputs": [
    {
     "name": "stdout",
     "output_type": "stream",
     "text": [
      "Best C: 1.7\n",
      "Best l1_ratio: none\n",
      "Best penalty l2\n",
      "Best solver: lbfgs\n",
      "Precision Score of the model: 90.51042415528397\n",
      "Recall Score of the model: 90.38047379755922\n",
      "Acuracy score of the model: 90.45226130653266\n",
      "F1 score of the model: 90.44540229885058\n"
     ]
    },
    {
     "data": {
      "image/png": "[encoded data removed]",
      "text/plain": [
       "<Figure size 432x288 with 2 Axes>"
      ]
     },
     "metadata": {
      "needs_background": "light"
     },
     "output_type": "display_data"
    }
   ],
   "source": [
    "grid_doc2vec_lr = {\"C\":[1, 1.5, 1.7, 1.8], 'l1_ratio':['none', 0, 0.1], 'penalty':['l2', 'elasticnet'],\n",
    "       'solver':['lbfgs', 'saga']}\n",
    "\n",
    "model_lr = LogisticRegression(max_iter=100, random_state=123) \n",
    "logreg_cv_doc2vec=GridSearchCV(model_lr, grid_doc2vec_lr, cv=2, n_jobs=-1)\n",
    "logreg_cv_doc2vec.fit(X_train_tagged, y_train_tagged)\n",
    "\n",
    "print('Best C:', logreg_cv_doc2vec.best_estimator_.get_params()['C'])\n",
    "print('Best l1_ratio:', logreg_cv_doc2vec.best_estimator_.get_params()['l1_ratio'])\n",
    "print('Best penalty', logreg_cv_doc2vec.best_estimator_.get_params()['penalty'])\n",
    "print('Best solver:', logreg_cv_doc2vec.best_estimator_.get_params()['solver'])\n",
    "\n",
    "\n",
    "predictions = logreg_cv_doc2vec.predict(X_test_tagged)\n",
    "evaluate(y_test_tagged, predictions)"
   ]
  },
  {
   "cell_type": "markdown",
   "id": "1970cb7e-ec5a-4adc-bf01-03a0b3057fc7",
   "metadata": {},
   "source": [
    "#### **Hyperparemeter tunning** for **SVM** Classifier "
   ]
  },
  {
   "cell_type": "code",
   "execution_count": 38,
   "id": "193ee1fc-e324-44a8-a143-6f1c5a5a2bc5",
   "metadata": {},
   "outputs": [
    {
     "name": "stdout",
     "output_type": "stream",
     "text": [
      "Best KERNEL: rbf\n",
      "Best C: 4\n",
      "Precision Score of the model: 91.66666666666666\n",
      "Recall Score of the model: 90.02153625269203\n",
      "Acuracy score of the model: 90.91888011486002\n",
      "F1 score of the model: 90.83665338645417\n"
     ]
    },
    {
     "data": {
      "image/png": "[encoded data removed]",
      "text/plain": [
       "<Figure size 432x288 with 2 Axes>"
      ]
     },
     "metadata": {
      "needs_background": "light"
     },
     "output_type": "display_data"
    }
   ],
   "source": [
    "grid_doc2vec_svm = [\n",
    "    {'kernel':('linear', 'rbf')},\n",
    "    {'C':[ 1, 4, 8, 12, 16, 20]},\n",
    "]    \n",
    "\n",
    "svm_model = svm.SVC(random_state=42)\n",
    "\n",
    "\n",
    "svm_model_cv_doc2vec = GridSearchCV(svm_model, grid_doc2vec_svm, n_jobs=-1)\n",
    "\n",
    "svm_model_cv_doc2vec.fit(X_train_tagged, y_train_tagged)\n",
    "\n",
    "print('Best KERNEL:', svm_model_cv_doc2vec.best_estimator_.get_params()['kernel'])\n",
    "print('Best C:', svm_model_cv_doc2vec.best_estimator_.get_params()['C'])\n",
    "\n",
    "predictions = svm_model_cv_doc2vec.predict(X_test_tagged)\n",
    "evaluate(y_test_tagged, predictions)"
   ]
  },
  {
   "cell_type": "markdown",
   "id": "7170dbbe-ace8-417b-af69-02f08df98c71",
   "metadata": {},
   "source": [
    "#### **Conclusions**: \n",
    "#### - For **all** models **F1 scores** have **high values** (> 90%).\n",
    "#### - **All tuned** models have **higher values** for **F1 score** than the **corresponding baseline** models, as **expected** (with the exception of Logistic Regression with CountVectorizer, we got the same value for the baseline model and for the tuned model) .\n",
    "#### - The **best F1 score** were achieved using **TF-IDF** and the **SVM** classifier with **hyperparameter tuning** (just above 98%). "
   ]
  }
 ],
 "metadata": {
  "environment": {
   "kernel": "python3",
   "name": "tf2-gpu.2-6.m91",
   "type": "gcloud",
   "uri": "gcr.io/deeplearning-platform-release/tf2-gpu.2-6:m91"
  },
  "kernelspec": {
   "display_name": "Python 3",
   "language": "python",
   "name": "python3"
  },
  "language_info": {
   "codemirror_mode": {
    "name": "ipython",
    "version": 3
   },
   "file_extension": ".py",
   "mimetype": "text/x-python",
   "name": "python",
   "nbconvert_exporter": "python",
   "pygments_lexer": "ipython3",
   "version": "3.7.12"
  }
 },
 "nbformat": 4,
 "nbformat_minor": 5
}
