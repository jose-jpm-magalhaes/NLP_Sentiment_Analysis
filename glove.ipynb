{
 "cells": [
  {
   "cell_type": "markdown",
   "id": "77013426-68e6-4585-9c35-a06128fcb0c2",
   "metadata": {},
   "source": [
    "## **Sentiment Analysis** of the **Restaurant Reviews** from **YELP** dataset"
   ]
  },
  {
   "cell_type": "markdown",
   "id": "3253ef45-46d6-4e25-9068-65cf80785b2f",
   "metadata": {},
   "source": [
    "###  An example of a **pretrained word embeddings**: **Glove**"
   ]
  },
  {
   "cell_type": "markdown",
   "id": "93226080-1c2c-4ce7-a5c6-57ec6efa88ea",
   "metadata": {},
   "source": [
    "#### Import libraries"
   ]
  },
  {
   "cell_type": "code",
   "execution_count": 1,
   "id": "9623e81a-f3e5-47b3-8fc1-49b6252b0092",
   "metadata": {},
   "outputs": [],
   "source": [
    "import warnings\n",
    "from zeugma.embeddings import EmbeddingTransformer\n",
    "import pandas as pd\n",
    "import numpy as np\n",
    "import tensorflow as tf\n",
    "import seaborn as sns\n",
    "import matplotlib.pyplot as plt\n",
    "from sklearn.model_selection import train_test_split\n",
    "from sklearn import metrics\n",
    "from sklearn.metrics import plot_confusion_matrix\n",
    "from sklearn.metrics import accuracy_score,f1_score,precision_score, recall_score, confusion_matrix\n",
    "from sklearn.model_selection import GridSearchCV\n",
    "from sklearn import svm\n",
    "from sklearn.linear_model import LogisticRegression\n",
    "import sys\n",
    "import os\n"
   ]
  },
  {
   "cell_type": "code",
   "execution_count": 2,
   "id": "b348df5d-6d44-4865-b369-b7562f73e3ae",
   "metadata": {},
   "outputs": [],
   "source": [
    "if not sys.warnoptions:\n",
    "    warnings.simplefilter(\"ignore\")\n",
    "    os.environ[\"PYTHONWARNINGS\"] = \"ignore\" "
   ]
  },
  {
   "cell_type": "markdown",
   "id": "b86668fb-0828-405a-bd1e-52cb7d2d652f",
   "metadata": {},
   "source": [
    "#### Read the dataset from the GCP **bucket**"
   ]
  },
  {
   "cell_type": "code",
   "execution_count": 3,
   "id": "7d8b0835-230b-4f54-a956-2845bccb1790",
   "metadata": {},
   "outputs": [],
   "source": [
    "df = pd.read_csv('gs://demo2222/df_final.csv')"
   ]
  },
  {
   "cell_type": "markdown",
   "id": "c870344e-d6d2-43dc-8bfe-0cafa9037606",
   "metadata": {},
   "source": [
    "#### Train/test split **keeping** the two **columns of interest** and **preserve** the **same proportions** of examples in **each class** as **observed** in the **original dataset**"
   ]
  },
  {
   "cell_type": "code",
   "execution_count": 4,
   "id": "ccca595f-3bce-4284-9276-62e3ada80567",
   "metadata": {},
   "outputs": [],
   "source": [
    "X = df['cleaned_reviews'] \n",
    "y = df['sentiment']\n",
    "X_train, X_test, y_train, y_test = train_test_split(X, y, test_size = 0.3, random_state = 42, stratify=y)"
   ]
  },
  {
   "cell_type": "markdown",
   "id": "83b515ff-6d79-414b-8f63-2a84ec25589d",
   "metadata": {},
   "source": [
    "#### UDF for **evaluating** models"
   ]
  },
  {
   "cell_type": "code",
   "execution_count": 5,
   "id": "88f36032-ea20-4678-aa5a-5cee21c92e69",
   "metadata": {},
   "outputs": [],
   "source": [
    "def evaluate(y_test, predictions):\n",
    "    cf_matrix = confusion_matrix(y_test, predictions)\n",
    "    sns.heatmap(cf_matrix, annot = True, fmt = 'd',cmap=\"Blues\")\n",
    "    plt.title('Heatmap of confusion matrix for Test data')\n",
    "    plt.ylabel('True label')\n",
    "    plt.xlabel('Predicted label')"
   ]
  },
  {
   "cell_type": "code",
   "execution_count": 6,
   "id": "fbf4bb88-54bd-4cc9-8fb2-547b10f05f6b",
   "metadata": {},
   "outputs": [],
   "source": [
    "corpus_train = X_train\n",
    "corpus_test = X_test"
   ]
  },
  {
   "cell_type": "markdown",
   "id": "b5a3f73b-b810-4f1c-9c7a-0809a4f251e4",
   "metadata": {},
   "source": [
    "### **glove-twitter-200**: pre-trained **glove vectors** based on 2B tweets, 27B tokens, 1.2M vocab, **uncased**"
   ]
  },
  {
   "cell_type": "code",
   "execution_count": 7,
   "id": "cec7cbd4-f673-4afa-a012-09985c663d0f",
   "metadata": {},
   "outputs": [],
   "source": [
    "glove_twitter = EmbeddingTransformer('glove-twitter-200') "
   ]
  },
  {
   "cell_type": "code",
   "execution_count": 8,
   "id": "24530bef-ee5f-4393-9d46-0d798896b897",
   "metadata": {},
   "outputs": [],
   "source": [
    "x_train_twitter = glove_twitter.transform(corpus_train) \n",
    "x_test_twitter = glove_twitter.transform(corpus_test) "
   ]
  },
  {
   "cell_type": "markdown",
   "id": "753a7793-e10e-4d01-973b-832eaa98eb2e",
   "metadata": {},
   "source": [
    "#### Using **Logistic Regression** model with the **default hyperparameters**"
   ]
  },
  {
   "cell_type": "code",
   "execution_count": 9,
   "id": "8e6012cb-587a-4636-8745-fb6f209f00fe",
   "metadata": {},
   "outputs": [
    {
     "data": {
      "image/png": "[encoded data removed]",
      "text/plain": [
       "<Figure size 432x288 with 2 Axes>"
      ]
     },
     "metadata": {
      "needs_background": "light"
     },
     "output_type": "display_data"
    }
   ],
   "source": [
    "model_lr = LogisticRegression(random_state=42)\n",
    "model_lr.fit(x_train_twitter, y_train)\n",
    "predictions = model_lr.predict(x_test_twitter)\n",
    "evaluate(y_test, predictions)"
   ]
  },
  {
   "cell_type": "code",
   "execution_count": 10,
   "id": "433a08be-31f9-4d19-9535-96f698ff150a",
   "metadata": {},
   "outputs": [
    {
     "name": "stdout",
     "output_type": "stream",
     "text": [
      "              precision    recall  f1-score   support\n",
      "\n",
      "         0.0     0.8993    0.8973    0.8983      1393\n",
      "         1.0     0.8976    0.8995    0.8985      1393\n",
      "\n",
      "    accuracy                         0.8984      2786\n",
      "   macro avg     0.8984    0.8984    0.8984      2786\n",
      "weighted avg     0.8984    0.8984    0.8984      2786\n",
      "\n"
     ]
    }
   ],
   "source": [
    "from sklearn.metrics import classification_report\n",
    "print(classification_report(y_test, predictions, digits=4))"
   ]
  },
  {
   "cell_type": "markdown",
   "id": "06a3dc6e-55a1-42db-a46b-1ede0d1a599a",
   "metadata": {},
   "source": [
    "#### Using **SVM** model with the **default hyperparameters**"
   ]
  },
  {
   "cell_type": "code",
   "execution_count": 11,
   "id": "abb65571-43db-48d6-a0e9-83b1bf8ae8f1",
   "metadata": {},
   "outputs": [
    {
     "data": {
      "image/png": "[encoded data removed]",
      "text/plain": [
       "<Figure size 432x288 with 2 Axes>"
      ]
     },
     "metadata": {
      "needs_background": "light"
     },
     "output_type": "display_data"
    }
   ],
   "source": [
    "model_svm = svm.SVC(random_state=42)\n",
    "model_svm.fit(x_train_twitter, y_train)\n",
    "predictions = model_svm.predict(x_test_twitter)\n",
    "evaluate(y_test, predictions)"
   ]
  },
  {
   "cell_type": "code",
   "execution_count": 12,
   "id": "bc3cd0d1-64a3-4769-86cc-c4b1a55341d6",
   "metadata": {},
   "outputs": [
    {
     "name": "stdout",
     "output_type": "stream",
     "text": [
      "              precision    recall  f1-score   support\n",
      "\n",
      "         0.0     0.8944    0.8995    0.8969      1393\n",
      "         1.0     0.8989    0.8938    0.8963      1393\n",
      "\n",
      "    accuracy                         0.8966      2786\n",
      "   macro avg     0.8966    0.8966    0.8966      2786\n",
      "weighted avg     0.8966    0.8966    0.8966      2786\n",
      "\n"
     ]
    }
   ],
   "source": [
    "print(classification_report(y_test, predictions, digits=4))"
   ]
  },
  {
   "cell_type": "markdown",
   "id": "9181f0a1-050d-4811-a09d-e69c0a7f5c40",
   "metadata": {},
   "source": [
    "#### Using **Logistic Regression** model with **hyperparameter tuning** (1,000 iterations to achieve convergence)"
   ]
  },
  {
   "cell_type": "code",
   "execution_count": 13,
   "id": "5da00949-d538-4b6d-b805-2318d87e014c",
   "metadata": {},
   "outputs": [
    {
     "name": "stdout",
     "output_type": "stream",
     "text": [
      "Best l1_ratio: 0.1\n",
      "Best C: 3\n",
      "Best penalty: elasticnet\n",
      "Best solver: saga\n"
     ]
    },
    {
     "data": {
      "image/png": "[encoded data removed]",
      "text/plain": [
       "<Figure size 432x288 with 2 Axes>"
      ]
     },
     "metadata": {
      "needs_background": "light"
     },
     "output_type": "display_data"
    }
   ],
   "source": [
    "grid_lr = {\"C\":[1, 3, 5, 7], 'l1_ratio':['none', 0, 0.1, 0.3, 0.5], 'penalty':['l2', 'elasticnet'],\n",
    "       'solver':['lbfgs', 'saga']}\n",
    "\n",
    "model_lr_1000 = LogisticRegression(max_iter=1000, random_state=42)\n",
    "\n",
    "logreg_cv_twitter=GridSearchCV(model_lr_1000, grid_lr, scoring='f1', cv=2)\n",
    "logreg_cv_twitter.fit(x_train_twitter, y_train)\n",
    "\n",
    "print('Best l1_ratio:', logreg_cv_twitter.best_estimator_.get_params()['l1_ratio'])\n",
    "print('Best C:', logreg_cv_twitter.best_estimator_.get_params()['C'])\n",
    "print('Best penalty:', logreg_cv_twitter.best_estimator_.get_params()['penalty'])\n",
    "print('Best solver:', logreg_cv_twitter.best_estimator_.get_params()['solver'])\n",
    "\n",
    "predictions = logreg_cv_twitter.predict(x_test_twitter)\n",
    "evaluate(y_test, predictions )"
   ]
  },
  {
   "cell_type": "code",
   "execution_count": 14,
   "id": "c5b41c3c-382c-4b57-9189-67997249a08d",
   "metadata": {},
   "outputs": [
    {
     "name": "stdout",
     "output_type": "stream",
     "text": [
      "              precision    recall  f1-score   support\n",
      "\n",
      "         0.0     0.9024    0.8959    0.8991      1393\n",
      "         1.0     0.8967    0.9031    0.8999      1393\n",
      "\n",
      "    accuracy                         0.8995      2786\n",
      "   macro avg     0.8995    0.8995    0.8995      2786\n",
      "weighted avg     0.8995    0.8995    0.8995      2786\n",
      "\n"
     ]
    }
   ],
   "source": [
    "print(classification_report(y_test, predictions, digits=4))"
   ]
  },
  {
   "cell_type": "markdown",
   "id": "96b30608-f509-4c9e-814a-cfd2f8f5aa55",
   "metadata": {},
   "source": [
    "#### Using **SVM** model with **hyperparameter tuning**"
   ]
  },
  {
   "cell_type": "code",
   "execution_count": 15,
   "id": "8cb1513a-5be0-42e0-88cc-de5469904c91",
   "metadata": {},
   "outputs": [
    {
     "name": "stdout",
     "output_type": "stream",
     "text": [
      "Best KERNEL: rbf\n",
      "Best C: 140\n"
     ]
    },
    {
     "data": {
      "image/png": "[encoded data removed]",
      "text/plain": [
       "<Figure size 432x288 with 2 Axes>"
      ]
     },
     "metadata": {
      "needs_background": "light"
     },
     "output_type": "display_data"
    }
   ],
   "source": [
    "grid_svm = [\n",
    "    {'kernel':('linear', 'rbf')},\n",
    "    {'C':[1, 40, 80, 120, 140, 160]},\n",
    "]    \n",
    "\n",
    "model_svm = svm.SVC(random_state=42)\n",
    "\n",
    "\n",
    "svm_model_cv_twitter = GridSearchCV(model_svm, grid_svm, n_jobs=-1)\n",
    "\n",
    "svm_model_cv_twitter.fit(x_train_twitter, y_train)\n",
    "\n",
    "print('Best KERNEL:', svm_model_cv_twitter.best_estimator_.get_params()['kernel'])\n",
    "print('Best C:', svm_model_cv_twitter.best_estimator_.get_params()['C'])\n",
    "\n",
    "predictions = svm_model_cv_twitter.predict(x_test_twitter)\n",
    "evaluate(y_test, predictions )"
   ]
  },
  {
   "cell_type": "code",
   "execution_count": 16,
   "id": "30e92888-21b8-4255-99e9-9b75006418c3",
   "metadata": {},
   "outputs": [
    {
     "name": "stdout",
     "output_type": "stream",
     "text": [
      "              precision    recall  f1-score   support\n",
      "\n",
      "         0.0     0.9341    0.9763    0.9547      1393\n",
      "         1.0     0.9752    0.9311    0.9526      1393\n",
      "\n",
      "    accuracy                         0.9537      2786\n",
      "   macro avg     0.9546    0.9537    0.9537      2786\n",
      "weighted avg     0.9546    0.9537    0.9537      2786\n",
      "\n"
     ]
    }
   ],
   "source": [
    "print(classification_report(y_test, predictions, digits=4))"
   ]
  },
  {
   "cell_type": "markdown",
   "id": "de288994-9034-47c7-b829-053fc3fe24b3",
   "metadata": {},
   "source": [
    "### **glove-wiki-gigaword-300**: pre-trained on Wikipedia and Gigaword 5 Data"
   ]
  },
  {
   "cell_type": "code",
   "execution_count": 17,
   "id": "bd839822-a5e2-4084-9624-b5e62a0b21da",
   "metadata": {},
   "outputs": [],
   "source": [
    "glove_wiki = EmbeddingTransformer('glove-wiki-gigaword-300')"
   ]
  },
  {
   "cell_type": "code",
   "execution_count": 18,
   "id": "6a66a8ce-82e6-400b-b6c1-0d668c0946b2",
   "metadata": {},
   "outputs": [],
   "source": [
    "x_train_wiki = glove_wiki.transform(corpus_train) \n",
    "x_test_wiki = glove_wiki.transform(corpus_test) "
   ]
  },
  {
   "cell_type": "markdown",
   "id": "cdfc5007-40ff-40f5-8074-acc13d1a5f62",
   "metadata": {},
   "source": [
    "#### Using **Logistic Regression** model with the **default hyperparameters**"
   ]
  },
  {
   "cell_type": "code",
   "execution_count": 19,
   "id": "c3db7c33-0b07-4b67-88b6-00ccca822a06",
   "metadata": {},
   "outputs": [
    {
     "data": {
      "image/png": "[encoded data removed]",
      "text/plain": [
       "<Figure size 432x288 with 2 Axes>"
      ]
     },
     "metadata": {
      "needs_background": "light"
     },
     "output_type": "display_data"
    }
   ],
   "source": [
    "model_lr = LogisticRegression(random_state=42)\n",
    "model_lr.fit(x_train_wiki, y_train)\n",
    "predictions = model_lr.predict(x_test_wiki)\n",
    "evaluate(y_test, predictions )"
   ]
  },
  {
   "cell_type": "code",
   "execution_count": 20,
   "id": "9714f0c7-3bf2-454f-9868-2b7aef088a43",
   "metadata": {},
   "outputs": [
    {
     "name": "stdout",
     "output_type": "stream",
     "text": [
      "              precision    recall  f1-score   support\n",
      "\n",
      "         0.0     0.8908    0.9017    0.8962      1393\n",
      "         1.0     0.9004    0.8894    0.8949      1393\n",
      "\n",
      "    accuracy                         0.8955      2786\n",
      "   macro avg     0.8956    0.8955    0.8955      2786\n",
      "weighted avg     0.8956    0.8955    0.8955      2786\n",
      "\n"
     ]
    }
   ],
   "source": [
    "print(classification_report(y_test, predictions, digits=4))"
   ]
  },
  {
   "cell_type": "markdown",
   "id": "53492a87-a2c5-455d-8d2b-ffcd1733ed92",
   "metadata": {},
   "source": [
    "#### Using **SVM** model with the **default hyperparameters**"
   ]
  },
  {
   "cell_type": "code",
   "execution_count": 21,
   "id": "4de73deb-14ab-44bb-82e0-71c3212f2002",
   "metadata": {},
   "outputs": [
    {
     "data": {
      "image/png": "[encoded data removed]",
      "text/plain": [
       "<Figure size 432x288 with 2 Axes>"
      ]
     },
     "metadata": {
      "needs_background": "light"
     },
     "output_type": "display_data"
    }
   ],
   "source": [
    "model_svm =svm.SVC(random_state=42)\n",
    "model_svm.fit(x_train_wiki, y_train)\n",
    "predictions = model_svm.predict(x_test_wiki)\n",
    "evaluate(y_test, predictions)"
   ]
  },
  {
   "cell_type": "code",
   "execution_count": 22,
   "id": "df77f6bb-6096-4e1b-933e-9fa97d5307fd",
   "metadata": {},
   "outputs": [
    {
     "name": "stdout",
     "output_type": "stream",
     "text": [
      "              precision    recall  f1-score   support\n",
      "\n",
      "         0.0     0.9014    0.9253    0.9132      1393\n",
      "         1.0     0.9233    0.8988    0.9109      1393\n",
      "\n",
      "    accuracy                         0.9121      2786\n",
      "   macro avg     0.9124    0.9121    0.9120      2786\n",
      "weighted avg     0.9124    0.9121    0.9120      2786\n",
      "\n"
     ]
    }
   ],
   "source": [
    "print(classification_report(y_test, predictions, digits=4))"
   ]
  },
  {
   "cell_type": "code",
   "execution_count": 23,
   "id": "7d2f18b1-d0d8-4dc1-afc1-ea40d1911ad4",
   "metadata": {},
   "outputs": [
    {
     "name": "stdout",
     "output_type": "stream",
     "text": [
      "Best C: 2\n",
      "Best l1_ratio: none\n",
      "Best solver: lbfgs\n"
     ]
    },
    {
     "data": {
      "image/png": "[encoded data removed]",
      "text/plain": [
       "<Figure size 432x288 with 2 Axes>"
      ]
     },
     "metadata": {
      "needs_background": "light"
     },
     "output_type": "display_data"
    }
   ],
   "source": [
    "# Hyperparemeter tuning for Logistic Regression model\n",
    "grid_lr_wiki = {\"C\":[1, 2, 3, 4], 'l1_ratio':['none', 0, 0.1], 'penalty':['l2', 'elasticnet'],\n",
    "       'solver':['lbfgs', 'saga']}\n",
    "\n",
    "model_lr_1000 = LogisticRegression(max_iter=1000, random_state=42)\n",
    "\n",
    "\n",
    "logreg_cv_glove_wiki=GridSearchCV(model_lr_1000, grid_lr_wiki, n_jobs=-1)\n",
    "logreg_cv_glove_wiki.fit(x_train_wiki, y_train)\n",
    "\n",
    "print('Best C:', logreg_cv_glove_wiki.best_estimator_.get_params()['C'])\n",
    "print('Best l1_ratio:', logreg_cv_glove_wiki.best_estimator_.get_params()['l1_ratio'])\n",
    "print('Best solver:', logreg_cv_glove_wiki.best_estimator_.get_params()['solver'])\n",
    "\n",
    "predictions = logreg_cv_glove_wiki.predict(x_test_wiki)\n",
    "evaluate(y_test, predictions )"
   ]
  },
  {
   "cell_type": "code",
   "execution_count": 24,
   "id": "e7d17768-de6f-4b89-952a-0755a83b881f",
   "metadata": {},
   "outputs": [
    {
     "name": "stdout",
     "output_type": "stream",
     "text": [
      "              precision    recall  f1-score   support\n",
      "\n",
      "         0.0     0.8914    0.9017    0.8965      1393\n",
      "         1.0     0.9005    0.8902    0.8953      1393\n",
      "\n",
      "    accuracy                         0.8959      2786\n",
      "   macro avg     0.8960    0.8959    0.8959      2786\n",
      "weighted avg     0.8960    0.8959    0.8959      2786\n",
      "\n"
     ]
    }
   ],
   "source": [
    "print(classification_report(y_test, predictions, digits=4))"
   ]
  },
  {
   "cell_type": "code",
   "execution_count": 25,
   "id": "6f836e8d-3993-4ff9-a3da-dceec6a99541",
   "metadata": {},
   "outputs": [
    {
     "name": "stdout",
     "output_type": "stream",
     "text": [
      "Best KERNEL: rbf\n",
      "Best C: 35\n"
     ]
    },
    {
     "data": {
      "image/png": "[encoded data removed]",
      "text/plain": [
       "<Figure size 432x288 with 2 Axes>"
      ]
     },
     "metadata": {
      "needs_background": "light"
     },
     "output_type": "display_data"
    }
   ],
   "source": [
    "# Hyperparameter tuning for SVM model\n",
    "\n",
    "grid_svm = [\n",
    "    {'kernel':('linear', 'rbf')},\n",
    "    {'C':[1, 5, 11, 15, 19, 23, 27, 31, 35, 39, 43]},\n",
    "]    \n",
    "\n",
    "model_svm = svm.SVC(random_state=42)\n",
    "\n",
    "\n",
    "svm_model_cv_wiki = GridSearchCV(model_svm, grid_svm, n_jobs=-1)\n",
    "\n",
    "svm_model_cv_wiki.fit(x_train_wiki, y_train)\n",
    "\n",
    "print('Best KERNEL:', svm_model_cv_wiki.best_estimator_.get_params()['kernel'])\n",
    "print('Best C:', svm_model_cv_wiki.best_estimator_.get_params()['C'])\n",
    "\n",
    "predictions = svm_model_cv_wiki.predict(x_test_wiki)\n",
    "evaluate(y_test, predictions )"
   ]
  },
  {
   "cell_type": "code",
   "execution_count": 26,
   "id": "a7d98688-3d61-43cc-8bbe-6d41141366e4",
   "metadata": {},
   "outputs": [
    {
     "name": "stdout",
     "output_type": "stream",
     "text": [
      "              precision    recall  f1-score   support\n",
      "\n",
      "         0.0     0.9374    0.9777    0.9571      1393\n",
      "         1.0     0.9767    0.9347    0.9552      1393\n",
      "\n",
      "    accuracy                         0.9562      2786\n",
      "   macro avg     0.9571    0.9562    0.9562      2786\n",
      "weighted avg     0.9571    0.9562    0.9562      2786\n",
      "\n"
     ]
    }
   ],
   "source": [
    "print(classification_report(y_test, predictions, digits=4))"
   ]
  },
  {
   "cell_type": "markdown",
   "id": "43156764-f7f8-4e00-8e17-5840feccbf3d",
   "metadata": {},
   "source": [
    "### **Conclusions**: \n",
    "#### - **All F1 scores** have **high values (above 89.0%)**.\n",
    "#### - **All tuned** models have **higher values** (some only slightly higher) for **F1 score** than the **corresponding non-tuned** models, as **expected**.\n",
    "#### - **Comparing** the used metrics regarding pre-trained Glove's word embeddings based on **wikipedia** and on **twitter** datasets, in **this context**, **there aren't noticeable differences**.\n",
    "#### - The **best F1 scores** were obtained using the **SVM** model with **hyperparameter tuning** (slightly above 95%)."
   ]
  }
 ],
 "metadata": {
  "environment": {
   "kernel": "python3",
   "name": "tf2-gpu.2-6.m91",
   "type": "gcloud",
   "uri": "gcr.io/deeplearning-platform-release/tf2-gpu.2-6:m91"
  },
  "kernelspec": {
   "display_name": "Python 3",
   "language": "python",
   "name": "python3"
  },
  "language_info": {
   "codemirror_mode": {
    "name": "ipython",
    "version": 3
   },
   "file_extension": ".py",
   "mimetype": "text/x-python",
   "name": "python",
   "nbconvert_exporter": "python",
   "pygments_lexer": "ipython3",
   "version": "3.7.12"
  }
 },
 "nbformat": 4,
 "nbformat_minor": 5
}
