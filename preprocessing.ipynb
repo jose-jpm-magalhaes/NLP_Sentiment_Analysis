{
 "cells": [
  {
   "cell_type": "markdown",
   "id": "1379b853-0b0b-452e-a3ab-39520ea1e624",
   "metadata": {},
   "source": [
    "# **Sentiment Analysis** of the **Restaurant Reviews** from **YELP** Dataset"
   ]
  },
  {
   "cell_type": "markdown",
   "id": "97589924-f75e-4cd4-9cfc-57d0e0eda6e5",
   "metadata": {},
   "source": [
    "## **Preprocessing**:"
   ]
  },
  {
   "cell_type": "markdown",
   "id": "fa5fd429-9a7c-4cef-aa1a-c6ecf2b254f6",
   "metadata": {},
   "source": [
    "#### Set the path to the **reviews** dataset (stored in a **GCP bucket**)"
   ]
  },
  {
   "cell_type": "code",
   "execution_count": 1,
   "id": "d19cf1f8-0e1d-44e9-9973-232b66f7b613",
   "metadata": {},
   "outputs": [],
   "source": [
    "path = 'gs://demo2222/yelp_academic_dataset_review.json'"
   ]
  },
  {
   "cell_type": "markdown",
   "id": "d8ed5791-2734-4574-8055-08ee59632a60",
   "metadata": {},
   "source": [
    "#### Import the required libraries"
   ]
  },
  {
   "cell_type": "code",
   "execution_count": 2,
   "id": "a295db77-c75c-4232-912e-073af8834ea9",
   "metadata": {},
   "outputs": [],
   "source": [
    "import pandas as pd\n",
    "import numpy as np\n",
    "import nltk\n",
    "import seaborn as sns\n",
    "import matplotlib.pyplot as plt\n",
    "import re\n",
    "import spacy\n",
    "sp = spacy.load('en_core_web_sm')\n",
    "import tensorflow as tf\n",
    "from langdetect import detect\n",
    "import sys\n",
    "import os\n",
    "import warnings\n",
    "if not sys.warnoptions:\n",
    "    warnings.simplefilter(\"ignore\")\n",
    "    os.environ[\"PYTHONWARNINGS\"] = \"ignore\" \n"
   ]
  },
  {
   "cell_type": "markdown",
   "id": "28cfa2ac-f313-47c2-b0bf-b42d8fb2f27e",
   "metadata": {},
   "source": [
    "#### Read the dataset"
   ]
  },
  {
   "cell_type": "code",
   "execution_count": 3,
   "id": "bc8f6197-7d47-484e-859a-536cdb205c95",
   "metadata": {},
   "outputs": [],
   "source": [
    "df = pd.read_json(path, lines=True)"
   ]
  },
  {
   "cell_type": "markdown",
   "id": "d3be139a-ce08-4397-b557-2ba055527df0",
   "metadata": {},
   "source": [
    "#### Get the memory usage and the shape of the dataset"
   ]
  },
  {
   "cell_type": "code",
   "execution_count": 4,
   "id": "c08addbc-e87f-4c59-883d-66e891082da1",
   "metadata": {},
   "outputs": [
    {
     "name": "stdout",
     "output_type": "stream",
     "text": [
      "8135632709\n",
      "(8635403, 9)\n"
     ]
    }
   ],
   "source": [
    "print(df.memory_usage(deep=True).sum())\n",
    "print(df.shape)"
   ]
  },
  {
   "cell_type": "markdown",
   "id": "2abf7c1e-9e6b-4ff6-bc95-56ad4ad29b79",
   "metadata": {},
   "source": [
    "#### As this dataset it's a **very heavy** one, let's use only the first 10,000 rows and **reduce** the **memory usage** "
   ]
  },
  {
   "cell_type": "code",
   "execution_count": 5,
   "id": "86992291-fccc-4613-84ef-b08f86e89f2d",
   "metadata": {},
   "outputs": [
    {
     "name": "stdout",
     "output_type": "stream",
     "text": [
      "9174108\n",
      "(10000, 9)\n"
     ]
    }
   ],
   "source": [
    "df = pd.read_json(path, lines=True, nrows=10000)\n",
    "print(df.memory_usage(deep=True).sum())\n",
    "print(df.shape)"
   ]
  },
  {
   "cell_type": "code",
   "execution_count": 6,
   "id": "ba4e5030-e983-4eb2-b0e2-e4ba07fa8062",
   "metadata": {},
   "outputs": [
    {
     "data": {
      "text/html": [
       "<div>\n",
       "<style scoped>\n",
       "    .dataframe tbody tr th:only-of-type {\n",
       "        vertical-align: middle;\n",
       "    }\n",
       "\n",
       "    .dataframe tbody tr th {\n",
       "        vertical-align: top;\n",
       "    }\n",
       "\n",
       "    .dataframe thead th {\n",
       "        text-align: right;\n",
       "    }\n",
       "</style>\n",
       "<table border=\"1\" class=\"dataframe\">\n",
       "  <thead>\n",
       "    <tr style=\"text-align: right;\">\n",
       "      <th></th>\n",
       "      <th>review_id</th>\n",
       "      <th>user_id</th>\n",
       "      <th>business_id</th>\n",
       "      <th>stars</th>\n",
       "      <th>useful</th>\n",
       "      <th>funny</th>\n",
       "      <th>cool</th>\n",
       "      <th>text</th>\n",
       "      <th>date</th>\n",
       "    </tr>\n",
       "  </thead>\n",
       "  <tbody>\n",
       "    <tr>\n",
       "      <th>0</th>\n",
       "      <td>lWC-xP3rd6obsecCYsGZRg</td>\n",
       "      <td>ak0TdVmGKo4pwqdJSTLwWw</td>\n",
       "      <td>buF9druCkbuXLX526sGELQ</td>\n",
       "      <td>4</td>\n",
       "      <td>3</td>\n",
       "      <td>1</td>\n",
       "      <td>1</td>\n",
       "      <td>Apparently Prides Osteria had a rough summer a...</td>\n",
       "      <td>2014-10-11 03:34:02</td>\n",
       "    </tr>\n",
       "    <tr>\n",
       "      <th>1</th>\n",
       "      <td>8bFej1QE5LXp4O05qjGqXA</td>\n",
       "      <td>YoVfDbnISlW0f7abNQACIg</td>\n",
       "      <td>RA4V8pr014UyUbDvI-LW2A</td>\n",
       "      <td>4</td>\n",
       "      <td>1</td>\n",
       "      <td>0</td>\n",
       "      <td>0</td>\n",
       "      <td>This store is pretty good. Not as great as Wal...</td>\n",
       "      <td>2015-07-03 20:38:25</td>\n",
       "    </tr>\n",
       "    <tr>\n",
       "      <th>2</th>\n",
       "      <td>NDhkzczKjLshODbqDoNLSg</td>\n",
       "      <td>eC5evKn1TWDyHCyQAwguUw</td>\n",
       "      <td>_sS2LBIGNT5NQb6PD1Vtjw</td>\n",
       "      <td>5</td>\n",
       "      <td>0</td>\n",
       "      <td>0</td>\n",
       "      <td>0</td>\n",
       "      <td>I called WVM on the recommendation of a couple...</td>\n",
       "      <td>2013-05-28 20:38:06</td>\n",
       "    </tr>\n",
       "    <tr>\n",
       "      <th>3</th>\n",
       "      <td>T5fAqjjFooT4V0OeZyuk1w</td>\n",
       "      <td>SFQ1jcnGguO0LYWnbbftAA</td>\n",
       "      <td>0AzLzHfOJgL7ROwhdww2ew</td>\n",
       "      <td>2</td>\n",
       "      <td>1</td>\n",
       "      <td>1</td>\n",
       "      <td>1</td>\n",
       "      <td>I've stayed at many Marriott and Renaissance M...</td>\n",
       "      <td>2010-01-08 02:29:15</td>\n",
       "    </tr>\n",
       "    <tr>\n",
       "      <th>4</th>\n",
       "      <td>sjm_uUcQVxab_EeLCqsYLg</td>\n",
       "      <td>0kA0PAJ8QFMeveQWHFqz2A</td>\n",
       "      <td>8zehGz9jnxPqXtOc7KaJxA</td>\n",
       "      <td>4</td>\n",
       "      <td>0</td>\n",
       "      <td>0</td>\n",
       "      <td>0</td>\n",
       "      <td>The food is always great here. The service fro...</td>\n",
       "      <td>2011-07-28 18:05:01</td>\n",
       "    </tr>\n",
       "  </tbody>\n",
       "</table>\n",
       "</div>"
      ],
      "text/plain": [
       "                review_id                 user_id             business_id  \\\n",
       "0  lWC-xP3rd6obsecCYsGZRg  ak0TdVmGKo4pwqdJSTLwWw  buF9druCkbuXLX526sGELQ   \n",
       "1  8bFej1QE5LXp4O05qjGqXA  YoVfDbnISlW0f7abNQACIg  RA4V8pr014UyUbDvI-LW2A   \n",
       "2  NDhkzczKjLshODbqDoNLSg  eC5evKn1TWDyHCyQAwguUw  _sS2LBIGNT5NQb6PD1Vtjw   \n",
       "3  T5fAqjjFooT4V0OeZyuk1w  SFQ1jcnGguO0LYWnbbftAA  0AzLzHfOJgL7ROwhdww2ew   \n",
       "4  sjm_uUcQVxab_EeLCqsYLg  0kA0PAJ8QFMeveQWHFqz2A  8zehGz9jnxPqXtOc7KaJxA   \n",
       "\n",
       "   stars  useful  funny  cool  \\\n",
       "0      4       3      1     1   \n",
       "1      4       1      0     0   \n",
       "2      5       0      0     0   \n",
       "3      2       1      1     1   \n",
       "4      4       0      0     0   \n",
       "\n",
       "                                                text                date  \n",
       "0  Apparently Prides Osteria had a rough summer a... 2014-10-11 03:34:02  \n",
       "1  This store is pretty good. Not as great as Wal... 2015-07-03 20:38:25  \n",
       "2  I called WVM on the recommendation of a couple... 2013-05-28 20:38:06  \n",
       "3  I've stayed at many Marriott and Renaissance M... 2010-01-08 02:29:15  \n",
       "4  The food is always great here. The service fro... 2011-07-28 18:05:01  "
      ]
     },
     "execution_count": 6,
     "metadata": {},
     "output_type": "execute_result"
    }
   ],
   "source": [
    "df.head()"
   ]
  },
  {
   "cell_type": "markdown",
   "id": "078f5245-42f7-43e9-8484-b780c55493ec",
   "metadata": {},
   "source": [
    "#### **Drop the columns** that we **won't be needing**"
   ]
  },
  {
   "cell_type": "code",
   "execution_count": 7,
   "id": "ae7c9bf7-c66d-4ff5-84f5-662879936ec2",
   "metadata": {},
   "outputs": [],
   "source": [
    "cols_to_drop = ['review_id', 'user_id', 'useful', 'funny', 'cool', 'date'] \n",
    "df.drop(cols_to_drop, axis=1, inplace=True)"
   ]
  },
  {
   "cell_type": "code",
   "execution_count": 8,
   "id": "02fffc63-fc9d-4af2-909a-e5e5c37fc5a2",
   "metadata": {},
   "outputs": [
    {
     "data": {
      "text/html": [
       "<div>\n",
       "<style scoped>\n",
       "    .dataframe tbody tr th:only-of-type {\n",
       "        vertical-align: middle;\n",
       "    }\n",
       "\n",
       "    .dataframe tbody tr th {\n",
       "        vertical-align: top;\n",
       "    }\n",
       "\n",
       "    .dataframe thead th {\n",
       "        text-align: right;\n",
       "    }\n",
       "</style>\n",
       "<table border=\"1\" class=\"dataframe\">\n",
       "  <thead>\n",
       "    <tr style=\"text-align: right;\">\n",
       "      <th></th>\n",
       "      <th>business_id</th>\n",
       "      <th>stars</th>\n",
       "      <th>text</th>\n",
       "    </tr>\n",
       "  </thead>\n",
       "  <tbody>\n",
       "    <tr>\n",
       "      <th>0</th>\n",
       "      <td>buF9druCkbuXLX526sGELQ</td>\n",
       "      <td>4</td>\n",
       "      <td>Apparently Prides Osteria had a rough summer a...</td>\n",
       "    </tr>\n",
       "    <tr>\n",
       "      <th>1</th>\n",
       "      <td>RA4V8pr014UyUbDvI-LW2A</td>\n",
       "      <td>4</td>\n",
       "      <td>This store is pretty good. Not as great as Wal...</td>\n",
       "    </tr>\n",
       "    <tr>\n",
       "      <th>2</th>\n",
       "      <td>_sS2LBIGNT5NQb6PD1Vtjw</td>\n",
       "      <td>5</td>\n",
       "      <td>I called WVM on the recommendation of a couple...</td>\n",
       "    </tr>\n",
       "    <tr>\n",
       "      <th>3</th>\n",
       "      <td>0AzLzHfOJgL7ROwhdww2ew</td>\n",
       "      <td>2</td>\n",
       "      <td>I've stayed at many Marriott and Renaissance M...</td>\n",
       "    </tr>\n",
       "    <tr>\n",
       "      <th>4</th>\n",
       "      <td>8zehGz9jnxPqXtOc7KaJxA</td>\n",
       "      <td>4</td>\n",
       "      <td>The food is always great here. The service fro...</td>\n",
       "    </tr>\n",
       "  </tbody>\n",
       "</table>\n",
       "</div>"
      ],
      "text/plain": [
       "              business_id  stars  \\\n",
       "0  buF9druCkbuXLX526sGELQ      4   \n",
       "1  RA4V8pr014UyUbDvI-LW2A      4   \n",
       "2  _sS2LBIGNT5NQb6PD1Vtjw      5   \n",
       "3  0AzLzHfOJgL7ROwhdww2ew      2   \n",
       "4  8zehGz9jnxPqXtOc7KaJxA      4   \n",
       "\n",
       "                                                text  \n",
       "0  Apparently Prides Osteria had a rough summer a...  \n",
       "1  This store is pretty good. Not as great as Wal...  \n",
       "2  I called WVM on the recommendation of a couple...  \n",
       "3  I've stayed at many Marriott and Renaissance M...  \n",
       "4  The food is always great here. The service fro...  "
      ]
     },
     "execution_count": 8,
     "metadata": {},
     "output_type": "execute_result"
    }
   ],
   "source": [
    "df.head()"
   ]
  },
  {
   "cell_type": "markdown",
   "id": "3869a113-c5d2-4e69-b828-b1935044549e",
   "metadata": {},
   "source": [
    "#### Set the path to the **business** dataset"
   ]
  },
  {
   "cell_type": "code",
   "execution_count": 9,
   "id": "413f38fe-1a41-4e01-b8a1-a398b51b6a18",
   "metadata": {},
   "outputs": [],
   "source": [
    "path1 = 'gs://demo2222/yelp_academic_dataset_business.json'"
   ]
  },
  {
   "cell_type": "markdown",
   "id": "49f2ab55-0553-480b-ad94-05497a0ce462",
   "metadata": {},
   "source": [
    "#### Read the dataset"
   ]
  },
  {
   "cell_type": "code",
   "execution_count": 10,
   "id": "47011cd0-441d-4077-b942-a306da68447c",
   "metadata": {},
   "outputs": [],
   "source": [
    "df1 = pd.read_json(path1, lines=True)"
   ]
  },
  {
   "cell_type": "code",
   "execution_count": 11,
   "id": "fe81aa62-16b6-4b5b-9be1-8ee0672d9c3f",
   "metadata": {},
   "outputs": [
    {
     "data": {
      "text/html": [
       "<div>\n",
       "<style scoped>\n",
       "    .dataframe tbody tr th:only-of-type {\n",
       "        vertical-align: middle;\n",
       "    }\n",
       "\n",
       "    .dataframe tbody tr th {\n",
       "        vertical-align: top;\n",
       "    }\n",
       "\n",
       "    .dataframe thead th {\n",
       "        text-align: right;\n",
       "    }\n",
       "</style>\n",
       "<table border=\"1\" class=\"dataframe\">\n",
       "  <thead>\n",
       "    <tr style=\"text-align: right;\">\n",
       "      <th></th>\n",
       "      <th>business_id</th>\n",
       "      <th>name</th>\n",
       "      <th>address</th>\n",
       "      <th>city</th>\n",
       "      <th>state</th>\n",
       "      <th>postal_code</th>\n",
       "      <th>latitude</th>\n",
       "      <th>longitude</th>\n",
       "      <th>stars</th>\n",
       "      <th>review_count</th>\n",
       "      <th>is_open</th>\n",
       "      <th>attributes</th>\n",
       "      <th>categories</th>\n",
       "      <th>hours</th>\n",
       "    </tr>\n",
       "  </thead>\n",
       "  <tbody>\n",
       "    <tr>\n",
       "      <th>0</th>\n",
       "      <td>6iYb2HFDywm3zjuRg0shjw</td>\n",
       "      <td>Oskar Blues Taproom</td>\n",
       "      <td>921 Pearl St</td>\n",
       "      <td>Boulder</td>\n",
       "      <td>CO</td>\n",
       "      <td>80302</td>\n",
       "      <td>40.017544</td>\n",
       "      <td>-105.283348</td>\n",
       "      <td>4.0</td>\n",
       "      <td>86</td>\n",
       "      <td>1</td>\n",
       "      <td>{'RestaurantsTableService': 'True', 'WiFi': 'u...</td>\n",
       "      <td>Gastropubs, Food, Beer Gardens, Restaurants, B...</td>\n",
       "      <td>{'Monday': '11:0-23:0', 'Tuesday': '11:0-23:0'...</td>\n",
       "    </tr>\n",
       "    <tr>\n",
       "      <th>1</th>\n",
       "      <td>tCbdrRPZA0oiIYSmHG3J0w</td>\n",
       "      <td>Flying Elephants at PDX</td>\n",
       "      <td>7000 NE Airport Way</td>\n",
       "      <td>Portland</td>\n",
       "      <td>OR</td>\n",
       "      <td>97218</td>\n",
       "      <td>45.588906</td>\n",
       "      <td>-122.593331</td>\n",
       "      <td>4.0</td>\n",
       "      <td>126</td>\n",
       "      <td>1</td>\n",
       "      <td>{'RestaurantsTakeOut': 'True', 'RestaurantsAtt...</td>\n",
       "      <td>Salad, Soup, Sandwiches, Delis, Restaurants, C...</td>\n",
       "      <td>{'Monday': '5:0-18:0', 'Tuesday': '5:0-17:0', ...</td>\n",
       "    </tr>\n",
       "    <tr>\n",
       "      <th>2</th>\n",
       "      <td>bvN78flM8NLprQ1a1y5dRg</td>\n",
       "      <td>The Reclaimory</td>\n",
       "      <td>4720 Hawthorne Ave</td>\n",
       "      <td>Portland</td>\n",
       "      <td>OR</td>\n",
       "      <td>97214</td>\n",
       "      <td>45.511907</td>\n",
       "      <td>-122.613693</td>\n",
       "      <td>4.5</td>\n",
       "      <td>13</td>\n",
       "      <td>1</td>\n",
       "      <td>{'BusinessAcceptsCreditCards': 'True', 'Restau...</td>\n",
       "      <td>Antiques, Fashion, Used, Vintage &amp; Consignment...</td>\n",
       "      <td>{'Thursday': '11:0-18:0', 'Friday': '11:0-18:0...</td>\n",
       "    </tr>\n",
       "    <tr>\n",
       "      <th>3</th>\n",
       "      <td>oaepsyvc0J17qwi8cfrOWg</td>\n",
       "      <td>Great Clips</td>\n",
       "      <td>2566 Enterprise Rd</td>\n",
       "      <td>Orange City</td>\n",
       "      <td>FL</td>\n",
       "      <td>32763</td>\n",
       "      <td>28.914482</td>\n",
       "      <td>-81.295979</td>\n",
       "      <td>3.0</td>\n",
       "      <td>8</td>\n",
       "      <td>1</td>\n",
       "      <td>{'RestaurantsPriceRange2': '1', 'BusinessAccep...</td>\n",
       "      <td>Beauty &amp; Spas, Hair Salons</td>\n",
       "      <td>None</td>\n",
       "    </tr>\n",
       "    <tr>\n",
       "      <th>4</th>\n",
       "      <td>PE9uqAjdw0E4-8mjGl3wVA</td>\n",
       "      <td>Crossfit Terminus</td>\n",
       "      <td>1046 Memorial Dr SE</td>\n",
       "      <td>Atlanta</td>\n",
       "      <td>GA</td>\n",
       "      <td>30316</td>\n",
       "      <td>33.747027</td>\n",
       "      <td>-84.353424</td>\n",
       "      <td>4.0</td>\n",
       "      <td>14</td>\n",
       "      <td>1</td>\n",
       "      <td>{'GoodForKids': 'False', 'BusinessParking': '{...</td>\n",
       "      <td>Gyms, Active Life, Interval Training Gyms, Fit...</td>\n",
       "      <td>{'Monday': '16:0-19:0', 'Tuesday': '16:0-19:0'...</td>\n",
       "    </tr>\n",
       "  </tbody>\n",
       "</table>\n",
       "</div>"
      ],
      "text/plain": [
       "              business_id                     name              address  \\\n",
       "0  6iYb2HFDywm3zjuRg0shjw      Oskar Blues Taproom         921 Pearl St   \n",
       "1  tCbdrRPZA0oiIYSmHG3J0w  Flying Elephants at PDX  7000 NE Airport Way   \n",
       "2  bvN78flM8NLprQ1a1y5dRg           The Reclaimory   4720 Hawthorne Ave   \n",
       "3  oaepsyvc0J17qwi8cfrOWg              Great Clips   2566 Enterprise Rd   \n",
       "4  PE9uqAjdw0E4-8mjGl3wVA        Crossfit Terminus  1046 Memorial Dr SE   \n",
       "\n",
       "          city state postal_code   latitude   longitude  stars  review_count  \\\n",
       "0      Boulder    CO       80302  40.017544 -105.283348    4.0            86   \n",
       "1     Portland    OR       97218  45.588906 -122.593331    4.0           126   \n",
       "2     Portland    OR       97214  45.511907 -122.613693    4.5            13   \n",
       "3  Orange City    FL       32763  28.914482  -81.295979    3.0             8   \n",
       "4      Atlanta    GA       30316  33.747027  -84.353424    4.0            14   \n",
       "\n",
       "   is_open                                         attributes  \\\n",
       "0        1  {'RestaurantsTableService': 'True', 'WiFi': 'u...   \n",
       "1        1  {'RestaurantsTakeOut': 'True', 'RestaurantsAtt...   \n",
       "2        1  {'BusinessAcceptsCreditCards': 'True', 'Restau...   \n",
       "3        1  {'RestaurantsPriceRange2': '1', 'BusinessAccep...   \n",
       "4        1  {'GoodForKids': 'False', 'BusinessParking': '{...   \n",
       "\n",
       "                                          categories  \\\n",
       "0  Gastropubs, Food, Beer Gardens, Restaurants, B...   \n",
       "1  Salad, Soup, Sandwiches, Delis, Restaurants, C...   \n",
       "2  Antiques, Fashion, Used, Vintage & Consignment...   \n",
       "3                         Beauty & Spas, Hair Salons   \n",
       "4  Gyms, Active Life, Interval Training Gyms, Fit...   \n",
       "\n",
       "                                               hours  \n",
       "0  {'Monday': '11:0-23:0', 'Tuesday': '11:0-23:0'...  \n",
       "1  {'Monday': '5:0-18:0', 'Tuesday': '5:0-17:0', ...  \n",
       "2  {'Thursday': '11:0-18:0', 'Friday': '11:0-18:0...  \n",
       "3                                               None  \n",
       "4  {'Monday': '16:0-19:0', 'Tuesday': '16:0-19:0'...  "
      ]
     },
     "execution_count": 11,
     "metadata": {},
     "output_type": "execute_result"
    }
   ],
   "source": [
    "df1.head()"
   ]
  },
  {
   "cell_type": "markdown",
   "id": "76c7b910-0432-4e84-87dc-75ce52f5f969",
   "metadata": {},
   "source": [
    "#### We **only** want to analyze the **restaurant** category from the **business** dataset"
   ]
  },
  {
   "cell_type": "code",
   "execution_count": 12,
   "id": "51c4f677-7b60-400e-b7b1-fc907686e24a",
   "metadata": {},
   "outputs": [],
   "source": [
    "df1 = df1[df1['categories'].notnull()]\n",
    "df_rest = df1[df1['categories'].str.contains('Restaurant')]"
   ]
  },
  {
   "cell_type": "code",
   "execution_count": 13,
   "id": "a713e73b-cdb8-47d3-8221-157676cb8fd5",
   "metadata": {},
   "outputs": [],
   "source": [
    "df_rest = df_rest[['business_id', 'categories']]"
   ]
  },
  {
   "cell_type": "code",
   "execution_count": 14,
   "id": "722b3278-78de-455b-98df-b6c0a71d23ab",
   "metadata": {},
   "outputs": [
    {
     "data": {
      "text/html": [
       "<div>\n",
       "<style scoped>\n",
       "    .dataframe tbody tr th:only-of-type {\n",
       "        vertical-align: middle;\n",
       "    }\n",
       "\n",
       "    .dataframe tbody tr th {\n",
       "        vertical-align: top;\n",
       "    }\n",
       "\n",
       "    .dataframe thead th {\n",
       "        text-align: right;\n",
       "    }\n",
       "</style>\n",
       "<table border=\"1\" class=\"dataframe\">\n",
       "  <thead>\n",
       "    <tr style=\"text-align: right;\">\n",
       "      <th></th>\n",
       "      <th>business_id</th>\n",
       "      <th>categories</th>\n",
       "    </tr>\n",
       "  </thead>\n",
       "  <tbody>\n",
       "    <tr>\n",
       "      <th>0</th>\n",
       "      <td>6iYb2HFDywm3zjuRg0shjw</td>\n",
       "      <td>Gastropubs, Food, Beer Gardens, Restaurants, B...</td>\n",
       "    </tr>\n",
       "    <tr>\n",
       "      <th>1</th>\n",
       "      <td>tCbdrRPZA0oiIYSmHG3J0w</td>\n",
       "      <td>Salad, Soup, Sandwiches, Delis, Restaurants, C...</td>\n",
       "    </tr>\n",
       "    <tr>\n",
       "      <th>5</th>\n",
       "      <td>D4JtQNTI4X3KcbzacDJsMw</td>\n",
       "      <td>Restaurants, Thai</td>\n",
       "    </tr>\n",
       "    <tr>\n",
       "      <th>7</th>\n",
       "      <td>jFYIsSb7r1QeESVUnXPHBw</td>\n",
       "      <td>Breakfast &amp; Brunch, Restaurants</td>\n",
       "    </tr>\n",
       "    <tr>\n",
       "      <th>12</th>\n",
       "      <td>HPA_qyMEddpAEtFof02ixg</td>\n",
       "      <td>Food, Pizza, Restaurants</td>\n",
       "    </tr>\n",
       "  </tbody>\n",
       "</table>\n",
       "</div>"
      ],
      "text/plain": [
       "               business_id                                         categories\n",
       "0   6iYb2HFDywm3zjuRg0shjw  Gastropubs, Food, Beer Gardens, Restaurants, B...\n",
       "1   tCbdrRPZA0oiIYSmHG3J0w  Salad, Soup, Sandwiches, Delis, Restaurants, C...\n",
       "5   D4JtQNTI4X3KcbzacDJsMw                                  Restaurants, Thai\n",
       "7   jFYIsSb7r1QeESVUnXPHBw                    Breakfast & Brunch, Restaurants\n",
       "12  HPA_qyMEddpAEtFof02ixg                           Food, Pizza, Restaurants"
      ]
     },
     "execution_count": 14,
     "metadata": {},
     "output_type": "execute_result"
    }
   ],
   "source": [
    "df_rest.head()"
   ]
  },
  {
   "cell_type": "markdown",
   "id": "e9537701-0aa5-42cd-b9cb-9fe1aa51320f",
   "metadata": {},
   "source": [
    "#### We want to **merge** the two datasets to analyse the **restaurant reviews**. \"business_id\" is the **common** columm of the two datasets"
   ]
  },
  {
   "cell_type": "code",
   "execution_count": 15,
   "id": "7a5b694a-99b7-4f02-80da-2e280448ed01",
   "metadata": {},
   "outputs": [],
   "source": [
    "df_merged = df.merge(df_rest, how='inner', on='business_id')"
   ]
  },
  {
   "cell_type": "code",
   "execution_count": 16,
   "id": "b4d31a72-2e7f-45d2-8174-f84072a8f08d",
   "metadata": {},
   "outputs": [
    {
     "data": {
      "text/html": [
       "<div>\n",
       "<style scoped>\n",
       "    .dataframe tbody tr th:only-of-type {\n",
       "        vertical-align: middle;\n",
       "    }\n",
       "\n",
       "    .dataframe tbody tr th {\n",
       "        vertical-align: top;\n",
       "    }\n",
       "\n",
       "    .dataframe thead th {\n",
       "        text-align: right;\n",
       "    }\n",
       "</style>\n",
       "<table border=\"1\" class=\"dataframe\">\n",
       "  <thead>\n",
       "    <tr style=\"text-align: right;\">\n",
       "      <th></th>\n",
       "      <th>business_id</th>\n",
       "      <th>stars</th>\n",
       "      <th>text</th>\n",
       "      <th>categories</th>\n",
       "    </tr>\n",
       "  </thead>\n",
       "  <tbody>\n",
       "    <tr>\n",
       "      <th>0</th>\n",
       "      <td>buF9druCkbuXLX526sGELQ</td>\n",
       "      <td>4</td>\n",
       "      <td>Apparently Prides Osteria had a rough summer a...</td>\n",
       "      <td>Restaurants, Wine Bars, Nightlife, Farmers Mar...</td>\n",
       "    </tr>\n",
       "    <tr>\n",
       "      <th>1</th>\n",
       "      <td>buF9druCkbuXLX526sGELQ</td>\n",
       "      <td>2</td>\n",
       "      <td>I was really disappointed to say the least. I ...</td>\n",
       "      <td>Restaurants, Wine Bars, Nightlife, Farmers Mar...</td>\n",
       "    </tr>\n",
       "    <tr>\n",
       "      <th>2</th>\n",
       "      <td>buF9druCkbuXLX526sGELQ</td>\n",
       "      <td>5</td>\n",
       "      <td>This is as close to dining in Italy as you'll ...</td>\n",
       "      <td>Restaurants, Wine Bars, Nightlife, Farmers Mar...</td>\n",
       "    </tr>\n",
       "    <tr>\n",
       "      <th>3</th>\n",
       "      <td>buF9druCkbuXLX526sGELQ</td>\n",
       "      <td>5</td>\n",
       "      <td>Great food and service! Again. 4 out of the la...</td>\n",
       "      <td>Restaurants, Wine Bars, Nightlife, Farmers Mar...</td>\n",
       "    </tr>\n",
       "    <tr>\n",
       "      <th>4</th>\n",
       "      <td>0AzLzHfOJgL7ROwhdww2ew</td>\n",
       "      <td>2</td>\n",
       "      <td>I've stayed at many Marriott and Renaissance M...</td>\n",
       "      <td>Hotels, Hotels &amp; Travel, Restaurants, Event Pl...</td>\n",
       "    </tr>\n",
       "  </tbody>\n",
       "</table>\n",
       "</div>"
      ],
      "text/plain": [
       "              business_id  stars  \\\n",
       "0  buF9druCkbuXLX526sGELQ      4   \n",
       "1  buF9druCkbuXLX526sGELQ      2   \n",
       "2  buF9druCkbuXLX526sGELQ      5   \n",
       "3  buF9druCkbuXLX526sGELQ      5   \n",
       "4  0AzLzHfOJgL7ROwhdww2ew      2   \n",
       "\n",
       "                                                text  \\\n",
       "0  Apparently Prides Osteria had a rough summer a...   \n",
       "1  I was really disappointed to say the least. I ...   \n",
       "2  This is as close to dining in Italy as you'll ...   \n",
       "3  Great food and service! Again. 4 out of the la...   \n",
       "4  I've stayed at many Marriott and Renaissance M...   \n",
       "\n",
       "                                          categories  \n",
       "0  Restaurants, Wine Bars, Nightlife, Farmers Mar...  \n",
       "1  Restaurants, Wine Bars, Nightlife, Farmers Mar...  \n",
       "2  Restaurants, Wine Bars, Nightlife, Farmers Mar...  \n",
       "3  Restaurants, Wine Bars, Nightlife, Farmers Mar...  \n",
       "4  Hotels, Hotels & Travel, Restaurants, Event Pl...  "
      ]
     },
     "execution_count": 16,
     "metadata": {},
     "output_type": "execute_result"
    }
   ],
   "source": [
    "df_merged.head()"
   ]
  },
  {
   "cell_type": "markdown",
   "id": "fb502d0a-97a7-43c1-8f41-c19a0c2d076f",
   "metadata": {},
   "source": [
    "#### **Rename** the **text column** and **remove** the **\"business_id\"** column because it isn't necessary anymore"
   ]
  },
  {
   "cell_type": "code",
   "execution_count": 17,
   "id": "6ee4e1c2-2a5f-456d-b34f-e67ae032cd2a",
   "metadata": {},
   "outputs": [],
   "source": [
    "df_merged.rename(columns={'text':'restaurant_reviews'}, inplace=True)\n",
    "df_merged.drop('business_id', axis=1, inplace=True)"
   ]
  },
  {
   "cell_type": "markdown",
   "id": "4de624c7-5713-4a7f-a153-ccaa25bd86e2",
   "metadata": {},
   "source": [
    "#### We will **only** analyse the reviews written in **English**"
   ]
  },
  {
   "cell_type": "code",
   "execution_count": 18,
   "id": "f3b41772-8e0e-4241-9bc3-03dc4b023a69",
   "metadata": {},
   "outputs": [],
   "source": [
    "df_merged['detect'] = df_merged['restaurant_reviews'].apply(detect)\n",
    "df_merged = df_merged[df_merged['detect'] == 'en'].reset_index(drop=True)"
   ]
  },
  {
   "cell_type": "code",
   "execution_count": 19,
   "id": "10fe5298-6344-4b9d-a677-f246e09a61ce",
   "metadata": {},
   "outputs": [
    {
     "data": {
      "text/plain": [
       "False"
      ]
     },
     "execution_count": 19,
     "metadata": {},
     "output_type": "execute_result"
    }
   ],
   "source": [
    "# Check if there is NaN values\n",
    "df_merged.isnull().values.any()"
   ]
  },
  {
   "cell_type": "code",
   "execution_count": 20,
   "id": "fdb943cf-0cda-46d6-aa30-1c3b6a9f908f",
   "metadata": {},
   "outputs": [
    {
     "data": {
      "text/plain": [
       "(6988, 4)"
      ]
     },
     "execution_count": 20,
     "metadata": {},
     "output_type": "execute_result"
    }
   ],
   "source": [
    "df_merged.shape"
   ]
  },
  {
   "cell_type": "markdown",
   "id": "4a48b12c-281b-4097-927e-d8ffd0db8481",
   "metadata": {},
   "source": [
    "#### Return the dataframe with **duplicate** rows **removed**"
   ]
  },
  {
   "cell_type": "code",
   "execution_count": 21,
   "id": "ccf24b1d-9248-4de4-8dd5-88d2d702e95e",
   "metadata": {},
   "outputs": [],
   "source": [
    "df_final = df_merged.drop_duplicates(inplace=False)"
   ]
  },
  {
   "cell_type": "markdown",
   "id": "e22388c3-3620-4f71-8131-af46acc704ff",
   "metadata": {},
   "source": [
    "#### If we want to **save** some **ram memory**:"
   ]
  },
  {
   "cell_type": "code",
   "execution_count": 22,
   "id": "eaf3d829-96ff-46f5-a7cf-420b17ad402f",
   "metadata": {},
   "outputs": [],
   "source": [
    "del df_merged, df_rest"
   ]
  },
  {
   "cell_type": "code",
   "execution_count": 23,
   "id": "28df1fcd-78c4-472f-b378-b9bfee3aa9ad",
   "metadata": {},
   "outputs": [
    {
     "data": {
      "text/plain": [
       "(6988, 4)"
      ]
     },
     "execution_count": 23,
     "metadata": {},
     "output_type": "execute_result"
    }
   ],
   "source": [
    "df_final.shape"
   ]
  },
  {
   "cell_type": "markdown",
   "id": "4a7da36a-97e5-4f76-87bf-7f687cce4900",
   "metadata": {},
   "source": [
    "#### As **many** of the **3 stars reviews**, most likely, have both **good and bad aspects/feelings**, we will **remove** those reviews so they **won't harm** our sentiment analysis"
   ]
  },
  {
   "cell_type": "code",
   "execution_count": 24,
   "id": "0b19b64b-b1a3-4277-ace7-abd8d41494d6",
   "metadata": {},
   "outputs": [
    {
     "data": {
      "text/html": [
       "<div>\n",
       "<style scoped>\n",
       "    .dataframe tbody tr th:only-of-type {\n",
       "        vertical-align: middle;\n",
       "    }\n",
       "\n",
       "    .dataframe tbody tr th {\n",
       "        vertical-align: top;\n",
       "    }\n",
       "\n",
       "    .dataframe thead th {\n",
       "        text-align: right;\n",
       "    }\n",
       "</style>\n",
       "<table border=\"1\" class=\"dataframe\">\n",
       "  <thead>\n",
       "    <tr style=\"text-align: right;\">\n",
       "      <th></th>\n",
       "      <th>stars</th>\n",
       "      <th>restaurant_reviews</th>\n",
       "      <th>categories</th>\n",
       "      <th>detect</th>\n",
       "    </tr>\n",
       "  </thead>\n",
       "  <tbody>\n",
       "    <tr>\n",
       "      <th>0</th>\n",
       "      <td>4</td>\n",
       "      <td>Apparently Prides Osteria had a rough summer a...</td>\n",
       "      <td>Restaurants, Wine Bars, Nightlife, Farmers Mar...</td>\n",
       "      <td>en</td>\n",
       "    </tr>\n",
       "    <tr>\n",
       "      <th>1</th>\n",
       "      <td>2</td>\n",
       "      <td>I was really disappointed to say the least. I ...</td>\n",
       "      <td>Restaurants, Wine Bars, Nightlife, Farmers Mar...</td>\n",
       "      <td>en</td>\n",
       "    </tr>\n",
       "    <tr>\n",
       "      <th>2</th>\n",
       "      <td>5</td>\n",
       "      <td>This is as close to dining in Italy as you'll ...</td>\n",
       "      <td>Restaurants, Wine Bars, Nightlife, Farmers Mar...</td>\n",
       "      <td>en</td>\n",
       "    </tr>\n",
       "    <tr>\n",
       "      <th>3</th>\n",
       "      <td>5</td>\n",
       "      <td>Great food and service! Again. 4 out of the la...</td>\n",
       "      <td>Restaurants, Wine Bars, Nightlife, Farmers Mar...</td>\n",
       "      <td>en</td>\n",
       "    </tr>\n",
       "    <tr>\n",
       "      <th>4</th>\n",
       "      <td>2</td>\n",
       "      <td>I've stayed at many Marriott and Renaissance M...</td>\n",
       "      <td>Hotels, Hotels &amp; Travel, Restaurants, Event Pl...</td>\n",
       "      <td>en</td>\n",
       "    </tr>\n",
       "    <tr>\n",
       "      <th>5</th>\n",
       "      <td>4</td>\n",
       "      <td>I was a there for a professional conference. s...</td>\n",
       "      <td>Hotels, Hotels &amp; Travel, Restaurants, Event Pl...</td>\n",
       "      <td>en</td>\n",
       "    </tr>\n",
       "    <tr>\n",
       "      <th>6</th>\n",
       "      <td>4</td>\n",
       "      <td>I stayed for five nights this past April with ...</td>\n",
       "      <td>Hotels, Hotels &amp; Travel, Restaurants, Event Pl...</td>\n",
       "      <td>en</td>\n",
       "    </tr>\n",
       "    <tr>\n",
       "      <th>7</th>\n",
       "      <td>4</td>\n",
       "      <td>I stayed here recently for a conference I was ...</td>\n",
       "      <td>Hotels, Hotels &amp; Travel, Restaurants, Event Pl...</td>\n",
       "      <td>en</td>\n",
       "    </tr>\n",
       "    <tr>\n",
       "      <th>8</th>\n",
       "      <td>4</td>\n",
       "      <td>The food is always great here. The service fro...</td>\n",
       "      <td>Restaurants, French</td>\n",
       "      <td>en</td>\n",
       "    </tr>\n",
       "    <tr>\n",
       "      <th>9</th>\n",
       "      <td>2</td>\n",
       "      <td>Brasserie zero zero... we were hoping for a te...</td>\n",
       "      <td>Restaurants, French</td>\n",
       "      <td>en</td>\n",
       "    </tr>\n",
       "    <tr>\n",
       "      <th>10</th>\n",
       "      <td>5</td>\n",
       "      <td>I absolutely love this restaurant. I've been c...</td>\n",
       "      <td>Restaurants, French</td>\n",
       "      <td>en</td>\n",
       "    </tr>\n",
       "    <tr>\n",
       "      <th>11</th>\n",
       "      <td>5</td>\n",
       "      <td>The food is great!  One of my fav brunch spots...</td>\n",
       "      <td>Restaurants, French</td>\n",
       "      <td>en</td>\n",
       "    </tr>\n",
       "    <tr>\n",
       "      <th>12</th>\n",
       "      <td>5</td>\n",
       "      <td>Went here for dinner in day two of our trip. I...</td>\n",
       "      <td>Restaurants, French</td>\n",
       "      <td>en</td>\n",
       "    </tr>\n",
       "    <tr>\n",
       "      <th>13</th>\n",
       "      <td>5</td>\n",
       "      <td>Food: 4.0 of 5.0\\nService: 5.0 of 5.0\\nEnviron...</td>\n",
       "      <td>Restaurants, French</td>\n",
       "      <td>en</td>\n",
       "    </tr>\n",
       "    <tr>\n",
       "      <th>14</th>\n",
       "      <td>4</td>\n",
       "      <td>one of the staples in boulder.  fabulous space...</td>\n",
       "      <td>Restaurants, French</td>\n",
       "      <td>en</td>\n",
       "    </tr>\n",
       "    <tr>\n",
       "      <th>15</th>\n",
       "      <td>5</td>\n",
       "      <td>Wow. Best service I have ever had. Slight wait...</td>\n",
       "      <td>Restaurants, French</td>\n",
       "      <td>en</td>\n",
       "    </tr>\n",
       "    <tr>\n",
       "      <th>16</th>\n",
       "      <td>4</td>\n",
       "      <td>I'm giving four stars because the service was ...</td>\n",
       "      <td>Restaurants, French</td>\n",
       "      <td>en</td>\n",
       "    </tr>\n",
       "    <tr>\n",
       "      <th>17</th>\n",
       "      <td>5</td>\n",
       "      <td>I had the duck, the fromage special, and the m...</td>\n",
       "      <td>Restaurants, French</td>\n",
       "      <td>en</td>\n",
       "    </tr>\n",
       "    <tr>\n",
       "      <th>18</th>\n",
       "      <td>4</td>\n",
       "      <td>Better than I expected it to be.  To be fair, ...</td>\n",
       "      <td>Restaurants, French</td>\n",
       "      <td>en</td>\n",
       "    </tr>\n",
       "    <tr>\n",
       "      <th>19</th>\n",
       "      <td>5</td>\n",
       "      <td>I like this place! Every time I visit Boulder,...</td>\n",
       "      <td>Restaurants, French</td>\n",
       "      <td>en</td>\n",
       "    </tr>\n",
       "  </tbody>\n",
       "</table>\n",
       "</div>"
      ],
      "text/plain": [
       "    stars                                 restaurant_reviews  \\\n",
       "0       4  Apparently Prides Osteria had a rough summer a...   \n",
       "1       2  I was really disappointed to say the least. I ...   \n",
       "2       5  This is as close to dining in Italy as you'll ...   \n",
       "3       5  Great food and service! Again. 4 out of the la...   \n",
       "4       2  I've stayed at many Marriott and Renaissance M...   \n",
       "5       4  I was a there for a professional conference. s...   \n",
       "6       4  I stayed for five nights this past April with ...   \n",
       "7       4  I stayed here recently for a conference I was ...   \n",
       "8       4  The food is always great here. The service fro...   \n",
       "9       2  Brasserie zero zero... we were hoping for a te...   \n",
       "10      5  I absolutely love this restaurant. I've been c...   \n",
       "11      5  The food is great!  One of my fav brunch spots...   \n",
       "12      5  Went here for dinner in day two of our trip. I...   \n",
       "13      5  Food: 4.0 of 5.0\\nService: 5.0 of 5.0\\nEnviron...   \n",
       "14      4  one of the staples in boulder.  fabulous space...   \n",
       "15      5  Wow. Best service I have ever had. Slight wait...   \n",
       "16      4  I'm giving four stars because the service was ...   \n",
       "17      5  I had the duck, the fromage special, and the m...   \n",
       "18      4  Better than I expected it to be.  To be fair, ...   \n",
       "19      5  I like this place! Every time I visit Boulder,...   \n",
       "\n",
       "                                           categories detect  \n",
       "0   Restaurants, Wine Bars, Nightlife, Farmers Mar...     en  \n",
       "1   Restaurants, Wine Bars, Nightlife, Farmers Mar...     en  \n",
       "2   Restaurants, Wine Bars, Nightlife, Farmers Mar...     en  \n",
       "3   Restaurants, Wine Bars, Nightlife, Farmers Mar...     en  \n",
       "4   Hotels, Hotels & Travel, Restaurants, Event Pl...     en  \n",
       "5   Hotels, Hotels & Travel, Restaurants, Event Pl...     en  \n",
       "6   Hotels, Hotels & Travel, Restaurants, Event Pl...     en  \n",
       "7   Hotels, Hotels & Travel, Restaurants, Event Pl...     en  \n",
       "8                                 Restaurants, French     en  \n",
       "9                                 Restaurants, French     en  \n",
       "10                                Restaurants, French     en  \n",
       "11                                Restaurants, French     en  \n",
       "12                                Restaurants, French     en  \n",
       "13                                Restaurants, French     en  \n",
       "14                                Restaurants, French     en  \n",
       "15                                Restaurants, French     en  \n",
       "16                                Restaurants, French     en  \n",
       "17                                Restaurants, French     en  \n",
       "18                                Restaurants, French     en  \n",
       "19                                Restaurants, French     en  "
      ]
     },
     "execution_count": 24,
     "metadata": {},
     "output_type": "execute_result"
    }
   ],
   "source": [
    "df_final = df_final[(df_final[\"stars\"]!=3)]\n",
    "df_final.head(20)"
   ]
  },
  {
   "cell_type": "markdown",
   "id": "f51fc59d-ec0b-48e4-850c-cf2277c29d4e",
   "metadata": {},
   "source": [
    "#### Label reviews as positive - **1** - or negative - **0** - and after that **remove** the **\"stars\" column**, it is not needed anymore"
   ]
  },
  {
   "cell_type": "code",
   "execution_count": 25,
   "id": "35b2bd07-1ddc-4475-92c4-cdfd99d49bcc",
   "metadata": {},
   "outputs": [
    {
     "data": {
      "text/html": [
       "<div>\n",
       "<style scoped>\n",
       "    .dataframe tbody tr th:only-of-type {\n",
       "        vertical-align: middle;\n",
       "    }\n",
       "\n",
       "    .dataframe tbody tr th {\n",
       "        vertical-align: top;\n",
       "    }\n",
       "\n",
       "    .dataframe thead th {\n",
       "        text-align: right;\n",
       "    }\n",
       "</style>\n",
       "<table border=\"1\" class=\"dataframe\">\n",
       "  <thead>\n",
       "    <tr style=\"text-align: right;\">\n",
       "      <th></th>\n",
       "      <th>restaurant_reviews</th>\n",
       "      <th>categories</th>\n",
       "      <th>detect</th>\n",
       "      <th>sentiment</th>\n",
       "    </tr>\n",
       "  </thead>\n",
       "  <tbody>\n",
       "    <tr>\n",
       "      <th>0</th>\n",
       "      <td>Apparently Prides Osteria had a rough summer a...</td>\n",
       "      <td>Restaurants, Wine Bars, Nightlife, Farmers Mar...</td>\n",
       "      <td>en</td>\n",
       "      <td>1.0</td>\n",
       "    </tr>\n",
       "    <tr>\n",
       "      <th>1</th>\n",
       "      <td>I was really disappointed to say the least. I ...</td>\n",
       "      <td>Restaurants, Wine Bars, Nightlife, Farmers Mar...</td>\n",
       "      <td>en</td>\n",
       "      <td>0.0</td>\n",
       "    </tr>\n",
       "    <tr>\n",
       "      <th>2</th>\n",
       "      <td>This is as close to dining in Italy as you'll ...</td>\n",
       "      <td>Restaurants, Wine Bars, Nightlife, Farmers Mar...</td>\n",
       "      <td>en</td>\n",
       "      <td>1.0</td>\n",
       "    </tr>\n",
       "    <tr>\n",
       "      <th>3</th>\n",
       "      <td>Great food and service! Again. 4 out of the la...</td>\n",
       "      <td>Restaurants, Wine Bars, Nightlife, Farmers Mar...</td>\n",
       "      <td>en</td>\n",
       "      <td>1.0</td>\n",
       "    </tr>\n",
       "    <tr>\n",
       "      <th>4</th>\n",
       "      <td>I've stayed at many Marriott and Renaissance M...</td>\n",
       "      <td>Hotels, Hotels &amp; Travel, Restaurants, Event Pl...</td>\n",
       "      <td>en</td>\n",
       "      <td>0.0</td>\n",
       "    </tr>\n",
       "    <tr>\n",
       "      <th>5</th>\n",
       "      <td>I was a there for a professional conference. s...</td>\n",
       "      <td>Hotels, Hotels &amp; Travel, Restaurants, Event Pl...</td>\n",
       "      <td>en</td>\n",
       "      <td>1.0</td>\n",
       "    </tr>\n",
       "    <tr>\n",
       "      <th>6</th>\n",
       "      <td>I stayed for five nights this past April with ...</td>\n",
       "      <td>Hotels, Hotels &amp; Travel, Restaurants, Event Pl...</td>\n",
       "      <td>en</td>\n",
       "      <td>1.0</td>\n",
       "    </tr>\n",
       "    <tr>\n",
       "      <th>7</th>\n",
       "      <td>I stayed here recently for a conference I was ...</td>\n",
       "      <td>Hotels, Hotels &amp; Travel, Restaurants, Event Pl...</td>\n",
       "      <td>en</td>\n",
       "      <td>1.0</td>\n",
       "    </tr>\n",
       "    <tr>\n",
       "      <th>8</th>\n",
       "      <td>The food is always great here. The service fro...</td>\n",
       "      <td>Restaurants, French</td>\n",
       "      <td>en</td>\n",
       "      <td>1.0</td>\n",
       "    </tr>\n",
       "    <tr>\n",
       "      <th>9</th>\n",
       "      <td>Brasserie zero zero... we were hoping for a te...</td>\n",
       "      <td>Restaurants, French</td>\n",
       "      <td>en</td>\n",
       "      <td>0.0</td>\n",
       "    </tr>\n",
       "    <tr>\n",
       "      <th>10</th>\n",
       "      <td>I absolutely love this restaurant. I've been c...</td>\n",
       "      <td>Restaurants, French</td>\n",
       "      <td>en</td>\n",
       "      <td>1.0</td>\n",
       "    </tr>\n",
       "    <tr>\n",
       "      <th>11</th>\n",
       "      <td>The food is great!  One of my fav brunch spots...</td>\n",
       "      <td>Restaurants, French</td>\n",
       "      <td>en</td>\n",
       "      <td>1.0</td>\n",
       "    </tr>\n",
       "    <tr>\n",
       "      <th>12</th>\n",
       "      <td>Went here for dinner in day two of our trip. I...</td>\n",
       "      <td>Restaurants, French</td>\n",
       "      <td>en</td>\n",
       "      <td>1.0</td>\n",
       "    </tr>\n",
       "    <tr>\n",
       "      <th>13</th>\n",
       "      <td>Food: 4.0 of 5.0\\nService: 5.0 of 5.0\\nEnviron...</td>\n",
       "      <td>Restaurants, French</td>\n",
       "      <td>en</td>\n",
       "      <td>1.0</td>\n",
       "    </tr>\n",
       "    <tr>\n",
       "      <th>14</th>\n",
       "      <td>one of the staples in boulder.  fabulous space...</td>\n",
       "      <td>Restaurants, French</td>\n",
       "      <td>en</td>\n",
       "      <td>1.0</td>\n",
       "    </tr>\n",
       "    <tr>\n",
       "      <th>15</th>\n",
       "      <td>Wow. Best service I have ever had. Slight wait...</td>\n",
       "      <td>Restaurants, French</td>\n",
       "      <td>en</td>\n",
       "      <td>1.0</td>\n",
       "    </tr>\n",
       "    <tr>\n",
       "      <th>16</th>\n",
       "      <td>I'm giving four stars because the service was ...</td>\n",
       "      <td>Restaurants, French</td>\n",
       "      <td>en</td>\n",
       "      <td>1.0</td>\n",
       "    </tr>\n",
       "    <tr>\n",
       "      <th>17</th>\n",
       "      <td>I had the duck, the fromage special, and the m...</td>\n",
       "      <td>Restaurants, French</td>\n",
       "      <td>en</td>\n",
       "      <td>1.0</td>\n",
       "    </tr>\n",
       "    <tr>\n",
       "      <th>18</th>\n",
       "      <td>Better than I expected it to be.  To be fair, ...</td>\n",
       "      <td>Restaurants, French</td>\n",
       "      <td>en</td>\n",
       "      <td>1.0</td>\n",
       "    </tr>\n",
       "    <tr>\n",
       "      <th>19</th>\n",
       "      <td>I like this place! Every time I visit Boulder,...</td>\n",
       "      <td>Restaurants, French</td>\n",
       "      <td>en</td>\n",
       "      <td>1.0</td>\n",
       "    </tr>\n",
       "  </tbody>\n",
       "</table>\n",
       "</div>"
      ],
      "text/plain": [
       "                                   restaurant_reviews  \\\n",
       "0   Apparently Prides Osteria had a rough summer a...   \n",
       "1   I was really disappointed to say the least. I ...   \n",
       "2   This is as close to dining in Italy as you'll ...   \n",
       "3   Great food and service! Again. 4 out of the la...   \n",
       "4   I've stayed at many Marriott and Renaissance M...   \n",
       "5   I was a there for a professional conference. s...   \n",
       "6   I stayed for five nights this past April with ...   \n",
       "7   I stayed here recently for a conference I was ...   \n",
       "8   The food is always great here. The service fro...   \n",
       "9   Brasserie zero zero... we were hoping for a te...   \n",
       "10  I absolutely love this restaurant. I've been c...   \n",
       "11  The food is great!  One of my fav brunch spots...   \n",
       "12  Went here for dinner in day two of our trip. I...   \n",
       "13  Food: 4.0 of 5.0\\nService: 5.0 of 5.0\\nEnviron...   \n",
       "14  one of the staples in boulder.  fabulous space...   \n",
       "15  Wow. Best service I have ever had. Slight wait...   \n",
       "16  I'm giving four stars because the service was ...   \n",
       "17  I had the duck, the fromage special, and the m...   \n",
       "18  Better than I expected it to be.  To be fair, ...   \n",
       "19  I like this place! Every time I visit Boulder,...   \n",
       "\n",
       "                                           categories detect  sentiment  \n",
       "0   Restaurants, Wine Bars, Nightlife, Farmers Mar...     en        1.0  \n",
       "1   Restaurants, Wine Bars, Nightlife, Farmers Mar...     en        0.0  \n",
       "2   Restaurants, Wine Bars, Nightlife, Farmers Mar...     en        1.0  \n",
       "3   Restaurants, Wine Bars, Nightlife, Farmers Mar...     en        1.0  \n",
       "4   Hotels, Hotels & Travel, Restaurants, Event Pl...     en        0.0  \n",
       "5   Hotels, Hotels & Travel, Restaurants, Event Pl...     en        1.0  \n",
       "6   Hotels, Hotels & Travel, Restaurants, Event Pl...     en        1.0  \n",
       "7   Hotels, Hotels & Travel, Restaurants, Event Pl...     en        1.0  \n",
       "8                                 Restaurants, French     en        1.0  \n",
       "9                                 Restaurants, French     en        0.0  \n",
       "10                                Restaurants, French     en        1.0  \n",
       "11                                Restaurants, French     en        1.0  \n",
       "12                                Restaurants, French     en        1.0  \n",
       "13                                Restaurants, French     en        1.0  \n",
       "14                                Restaurants, French     en        1.0  \n",
       "15                                Restaurants, French     en        1.0  \n",
       "16                                Restaurants, French     en        1.0  \n",
       "17                                Restaurants, French     en        1.0  \n",
       "18                                Restaurants, French     en        1.0  \n",
       "19                                Restaurants, French     en        1.0  "
      ]
     },
     "execution_count": 25,
     "metadata": {},
     "output_type": "execute_result"
    }
   ],
   "source": [
    "df_final.loc[df_final['stars'] < 3, 'sentiment'] = 0 \n",
    "df_final.loc[df_final['stars'] > 3, 'sentiment'] = 1\n",
    "df_final.drop('stars', axis=1, inplace=True)\n",
    "df_final.head(20)"
   ]
  },
  {
   "cell_type": "code",
   "execution_count": 26,
   "id": "2e941099-8780-4cb4-b188-418d6cbc1083",
   "metadata": {},
   "outputs": [
    {
     "data": {
      "text/plain": [
       "restaurant_reviews     object\n",
       "categories             object\n",
       "detect                 object\n",
       "sentiment             float64\n",
       "dtype: object"
      ]
     },
     "execution_count": 26,
     "metadata": {},
     "output_type": "execute_result"
    }
   ],
   "source": [
    "df_final.dtypes"
   ]
  },
  {
   "cell_type": "markdown",
   "id": "d88a2b98-fdea-409b-8647-140c8b2fb20c",
   "metadata": {},
   "source": [
    "#### Let's see if the dataset is **balanced or not**: **it isn't...**"
   ]
  },
  {
   "cell_type": "code",
   "execution_count": 27,
   "id": "34664e2f-5e87-40b8-8b81-5f31faaa631d",
   "metadata": {},
   "outputs": [
    {
     "data": {
      "image/png": "[encoded data removed]",
      "text/plain": [
       "<Figure size 864x576 with 1 Axes>"
      ]
     },
     "metadata": {
      "needs_background": "light"
     },
     "output_type": "display_data"
    }
   ],
   "source": [
    "if not sys.warnoptions:\n",
    "    warnings.simplefilter(\"ignore\")\n",
    "    os.environ[\"PYTHONWARNINGS\"] = \"ignore\" \n",
    "\n",
    "plt.figure(figsize=(12,8))\n",
    "grouped = df_final.sentiment.value_counts().sort_index()\n",
    "sns.barplot(grouped.index, grouped.values, palette=sns.color_palette(\"RdBu_r\", len(grouped)))\n",
    "plt.xlabel('Stars Ratings', labelpad=10, fontsize=14)\n",
    "plt.ylabel('Number of Reviews', fontsize=14)\n",
    "plt.title('Star Rating Distribution', fontsize=15)\n",
    "plt.tick_params(labelsize=14)\n",
    "for  i, v in enumerate(grouped):\n",
    "    plt.text(i, v*1.02, str(v), horizontalalignment ='center',fontweight='bold', fontsize=14)"
   ]
  },
  {
   "cell_type": "markdown",
   "id": "d56965a5-91a4-44cb-a58b-0e4ee8ab6eef",
   "metadata": {},
   "source": [
    "#### To deal with **imbalanced** data we chose to **upsample** the **minority class** (negative sentiment - 0)"
   ]
  },
  {
   "cell_type": "code",
   "execution_count": 28,
   "id": "15fc2434-d31f-4704-9bfa-912a405508aa",
   "metadata": {},
   "outputs": [],
   "source": [
    "from sklearn.utils import resample\n",
    "# upsample minority class\n",
    "#create two different dataframes: one regarding the majority and the other the minority class \n",
    "df_majority = df_final[(df_final['sentiment']==1)] \n",
    "df_minority = df_final[(df_final['sentiment']==0)] \n",
    "\n",
    "\n",
    "df_minority_upsampled = resample(df_minority, \n",
    "                                 replace=True,   \n",
    "                                 n_samples= 4643, # to match majority class\n",
    "                                 random_state=42)  \n",
    "# Combine majority class with upsampled minority class\n",
    "df_final = pd.concat([df_minority_upsampled, df_majority])"
   ]
  },
  {
   "cell_type": "code",
   "execution_count": 29,
   "id": "663c276a-d10e-4e42-97c9-dbb066f5ef0d",
   "metadata": {},
   "outputs": [
    {
     "data": {
      "text/plain": [
       "0.0    4643\n",
       "1.0    4643\n",
       "Name: sentiment, dtype: int64"
      ]
     },
     "execution_count": 29,
     "metadata": {},
     "output_type": "execute_result"
    }
   ],
   "source": [
    "df_final.sentiment.value_counts()\n"
   ]
  },
  {
   "cell_type": "code",
   "execution_count": 30,
   "id": "abcfb203-20f9-4b51-83ae-ae7143443bde",
   "metadata": {},
   "outputs": [
    {
     "data": {
      "text/html": [
       "<div>\n",
       "<style scoped>\n",
       "    .dataframe tbody tr th:only-of-type {\n",
       "        vertical-align: middle;\n",
       "    }\n",
       "\n",
       "    .dataframe tbody tr th {\n",
       "        vertical-align: top;\n",
       "    }\n",
       "\n",
       "    .dataframe thead th {\n",
       "        text-align: right;\n",
       "    }\n",
       "</style>\n",
       "<table border=\"1\" class=\"dataframe\">\n",
       "  <thead>\n",
       "    <tr style=\"text-align: right;\">\n",
       "      <th></th>\n",
       "      <th>restaurant_reviews</th>\n",
       "      <th>categories</th>\n",
       "      <th>detect</th>\n",
       "      <th>sentiment</th>\n",
       "    </tr>\n",
       "  </thead>\n",
       "  <tbody>\n",
       "    <tr>\n",
       "      <th>0</th>\n",
       "      <td>There were maybe 8 tables in the restaurant,  ...</td>\n",
       "      <td>Bars, Restaurants, Chicken Wings, Sports Bars,...</td>\n",
       "      <td>en</td>\n",
       "      <td>0.0</td>\n",
       "    </tr>\n",
       "    <tr>\n",
       "      <th>1</th>\n",
       "      <td>The food was good but Worst service I ever had...</td>\n",
       "      <td>Restaurants, American (New)</td>\n",
       "      <td>en</td>\n",
       "      <td>0.0</td>\n",
       "    </tr>\n",
       "    <tr>\n",
       "      <th>2</th>\n",
       "      <td>Be aware the April server charge extra tip to ...</td>\n",
       "      <td>American (Traditional), Restaurants, Bars, Tex...</td>\n",
       "      <td>en</td>\n",
       "      <td>0.0</td>\n",
       "    </tr>\n",
       "    <tr>\n",
       "      <th>3</th>\n",
       "      <td>This place has really gone down hill on servic...</td>\n",
       "      <td>Restaurants, Cafes, Breakfast &amp; Brunch</td>\n",
       "      <td>en</td>\n",
       "      <td>0.0</td>\n",
       "    </tr>\n",
       "    <tr>\n",
       "      <th>4</th>\n",
       "      <td>Placed order online for delivery, to be delive...</td>\n",
       "      <td>Sandwiches, Wraps, Chicken Wings, Restaurants</td>\n",
       "      <td>en</td>\n",
       "      <td>0.0</td>\n",
       "    </tr>\n",
       "  </tbody>\n",
       "</table>\n",
       "</div>"
      ],
      "text/plain": [
       "                                  restaurant_reviews  \\\n",
       "0  There were maybe 8 tables in the restaurant,  ...   \n",
       "1  The food was good but Worst service I ever had...   \n",
       "2  Be aware the April server charge extra tip to ...   \n",
       "3  This place has really gone down hill on servic...   \n",
       "4  Placed order online for delivery, to be delive...   \n",
       "\n",
       "                                          categories detect  sentiment  \n",
       "0  Bars, Restaurants, Chicken Wings, Sports Bars,...     en        0.0  \n",
       "1                        Restaurants, American (New)     en        0.0  \n",
       "2  American (Traditional), Restaurants, Bars, Tex...     en        0.0  \n",
       "3             Restaurants, Cafes, Breakfast & Brunch     en        0.0  \n",
       "4      Sandwiches, Wraps, Chicken Wings, Restaurants     en        0.0  "
      ]
     },
     "execution_count": 30,
     "metadata": {},
     "output_type": "execute_result"
    }
   ],
   "source": [
    "df_final = df_final.reset_index(drop=True)\n",
    "df_final.head()"
   ]
  },
  {
   "cell_type": "markdown",
   "id": "b21901be-75d5-4f3d-bc55-3efa4f28b3b7",
   "metadata": {},
   "source": [
    "#### **Stopwords** with **spaCy**. As **'no'** and **'not'** are **important** words to describe an opinion about a restaurant (e.g. not cheap, not a good service, no napkins available, etc.), we should, at least, **remove** those two words from the **stopwords**."
   ]
  },
  {
   "cell_type": "code",
   "execution_count": 31,
   "id": "af2e6bca-b1f7-4fac-b272-c2e2821c004e",
   "metadata": {},
   "outputs": [],
   "source": [
    "sp = spacy.load('en_core_web_sm')\n",
    "stopwords = sp.Defaults.stop_words\n",
    "\n",
    "exclude_stopwords = ['no','not']\n",
    "for word in exclude_stopwords:\n",
    "    stopwords.remove(word)"
   ]
  },
  {
   "cell_type": "markdown",
   "id": "f2e98c14-b2ad-4351-887b-9f2e9294d770",
   "metadata": {},
   "source": [
    "#### **UDF** to use **spaCy** to **lemmatize** and **filter** the **stopwords**, then **remove non-letters** and convert the restaurant reviews to **lower case**  ."
   ]
  },
  {
   "cell_type": "code",
   "execution_count": 32,
   "id": "d7b059ab-bc74-4e88-8dc6-a758636ff98d",
   "metadata": {},
   "outputs": [],
   "source": [
    "\n",
    "def spacy_process(text):\n",
    "    doc = sp(text)\n",
    "    \n",
    "# Lemmatization with Spacy\n",
    "\n",
    "    lemma_list = []\n",
    "    for token in doc:\n",
    "        lemma_list.append(token.lemma_)\n",
    "            \n",
    "    #Filter the stopwords, remove non-letters and lower case \n",
    "    \n",
    "    filtered_sentence =[] \n",
    "    for word in lemma_list:\n",
    "        lexeme = sp.vocab[word]\n",
    "        if lexeme.is_stop == False:\n",
    "            filtered_sentence.append(word)\n",
    "    lower_words = []\n",
    "    for word in filtered_sentence:\n",
    "        text_letters_only = re.sub(\"[^a-zA-Z]\", \" \", word) \n",
    "        text_words_lower = text_letters_only.lower()  \n",
    "        lower_words.append(text_words_lower)\n",
    "    text_final = \" \".join(lower_words)\n",
    "    return  \" \".join(text_final.split())"
   ]
  },
  {
   "cell_type": "markdown",
   "id": "a910b8e3-e1ed-430e-bcf3-0cc53a34ccb0",
   "metadata": {},
   "source": [
    "#### An example"
   ]
  },
  {
   "cell_type": "code",
   "execution_count": 33,
   "id": "d926c80e-bece-463c-953c-2a9231e1d027",
   "metadata": {},
   "outputs": [
    {
     "data": {
      "text/plain": [
       "'maybe table restaurant waitress busy talk buddy assist food horrible daughter honey bbq wing sauce taste spoil thai curry sauce sour sweet menu synopsis state yuck'"
      ]
     },
     "execution_count": 33,
     "metadata": {},
     "output_type": "execute_result"
    }
   ],
   "source": [
    "spacy_process(df_final['restaurant_reviews'][0])"
   ]
  },
  {
   "cell_type": "markdown",
   "id": "96f833b8-4dbe-49a0-8fe0-a0fe903e2907",
   "metadata": {},
   "source": [
    "#### **Apply** the above **UDF** to the **entire** 'restaurant_reviews' column, **creating** a **new column** named **cleaned_reviews'**"
   ]
  },
  {
   "cell_type": "code",
   "execution_count": 34,
   "id": "2b3539a8-94d2-4a4a-b954-00faac9a3399",
   "metadata": {},
   "outputs": [],
   "source": [
    "df_final['cleaned_reviews'] = df_final['restaurant_reviews'].apply(spacy_process)"
   ]
  },
  {
   "cell_type": "code",
   "execution_count": 35,
   "id": "0d1e6614-6c28-47f9-bd88-fff8210b8f8e",
   "metadata": {},
   "outputs": [
    {
     "data": {
      "text/plain": [
       "False"
      ]
     },
     "execution_count": 35,
     "metadata": {},
     "output_type": "execute_result"
    }
   ],
   "source": [
    "df_final.isnull().values.any()"
   ]
  },
  {
   "cell_type": "code",
   "execution_count": 36,
   "id": "e6d53098-93c4-493f-b3e7-2a6fe786422d",
   "metadata": {},
   "outputs": [
    {
     "data": {
      "text/html": [
       "<div>\n",
       "<style scoped>\n",
       "    .dataframe tbody tr th:only-of-type {\n",
       "        vertical-align: middle;\n",
       "    }\n",
       "\n",
       "    .dataframe tbody tr th {\n",
       "        vertical-align: top;\n",
       "    }\n",
       "\n",
       "    .dataframe thead th {\n",
       "        text-align: right;\n",
       "    }\n",
       "</style>\n",
       "<table border=\"1\" class=\"dataframe\">\n",
       "  <thead>\n",
       "    <tr style=\"text-align: right;\">\n",
       "      <th></th>\n",
       "      <th>restaurant_reviews</th>\n",
       "      <th>categories</th>\n",
       "      <th>detect</th>\n",
       "      <th>sentiment</th>\n",
       "      <th>cleaned_reviews</th>\n",
       "    </tr>\n",
       "  </thead>\n",
       "  <tbody>\n",
       "    <tr>\n",
       "      <th>0</th>\n",
       "      <td>There were maybe 8 tables in the restaurant,  ...</td>\n",
       "      <td>Bars, Restaurants, Chicken Wings, Sports Bars,...</td>\n",
       "      <td>en</td>\n",
       "      <td>0.0</td>\n",
       "      <td>maybe table restaurant waitress busy talk budd...</td>\n",
       "    </tr>\n",
       "    <tr>\n",
       "      <th>1</th>\n",
       "      <td>The food was good but Worst service I ever had...</td>\n",
       "      <td>Restaurants, American (New)</td>\n",
       "      <td>en</td>\n",
       "      <td>0.0</td>\n",
       "      <td>food good bad service bad mean bad menu silver...</td>\n",
       "    </tr>\n",
       "    <tr>\n",
       "      <th>2</th>\n",
       "      <td>Be aware the April server charge extra tip to ...</td>\n",
       "      <td>American (Traditional), Restaurants, Bars, Tex...</td>\n",
       "      <td>en</td>\n",
       "      <td>0.0</td>\n",
       "      <td>aware april server charge extra tip pay tip</td>\n",
       "    </tr>\n",
       "    <tr>\n",
       "      <th>3</th>\n",
       "      <td>This place has really gone down hill on servic...</td>\n",
       "      <td>Restaurants, Cafes, Breakfast &amp; Brunch</td>\n",
       "      <td>en</td>\n",
       "      <td>0.0</td>\n",
       "      <td>place hill service waitress food prep delivery...</td>\n",
       "    </tr>\n",
       "    <tr>\n",
       "      <th>4</th>\n",
       "      <td>Placed order online for delivery, to be delive...</td>\n",
       "      <td>Sandwiches, Wraps, Chicken Wings, Restaurants</td>\n",
       "      <td>en</td>\n",
       "      <td>0.0</td>\n",
       "      <td>place order online delivery deliver work break...</td>\n",
       "    </tr>\n",
       "  </tbody>\n",
       "</table>\n",
       "</div>"
      ],
      "text/plain": [
       "                                  restaurant_reviews  \\\n",
       "0  There were maybe 8 tables in the restaurant,  ...   \n",
       "1  The food was good but Worst service I ever had...   \n",
       "2  Be aware the April server charge extra tip to ...   \n",
       "3  This place has really gone down hill on servic...   \n",
       "4  Placed order online for delivery, to be delive...   \n",
       "\n",
       "                                          categories detect  sentiment  \\\n",
       "0  Bars, Restaurants, Chicken Wings, Sports Bars,...     en        0.0   \n",
       "1                        Restaurants, American (New)     en        0.0   \n",
       "2  American (Traditional), Restaurants, Bars, Tex...     en        0.0   \n",
       "3             Restaurants, Cafes, Breakfast & Brunch     en        0.0   \n",
       "4      Sandwiches, Wraps, Chicken Wings, Restaurants     en        0.0   \n",
       "\n",
       "                                     cleaned_reviews  \n",
       "0  maybe table restaurant waitress busy talk budd...  \n",
       "1  food good bad service bad mean bad menu silver...  \n",
       "2        aware april server charge extra tip pay tip  \n",
       "3  place hill service waitress food prep delivery...  \n",
       "4  place order online delivery deliver work break...  "
      ]
     },
     "execution_count": 36,
     "metadata": {},
     "output_type": "execute_result"
    }
   ],
   "source": [
    "df_final.head()"
   ]
  },
  {
   "cell_type": "markdown",
   "id": "301607e7-a8a1-4955-879f-ca27e3237c17",
   "metadata": {},
   "source": [
    "#### Let's **save** the **dataset** with **only** the columns of our interest to the **bucket**"
   ]
  },
  {
   "cell_type": "code",
   "execution_count": 41,
   "id": "42ffea65-e098-4dd6-af73-b78631ddb1b1",
   "metadata": {},
   "outputs": [],
   "source": [
    "df_final = df_final[['cleaned_reviews','sentiment']]"
   ]
  },
  {
   "cell_type": "code",
   "execution_count": 42,
   "id": "c0061973-1e77-4070-adec-79a4e7e81c5e",
   "metadata": {},
   "outputs": [],
   "source": [
    "df_final.to_csv('gs://demo2222/df_final.csv', index=False)"
   ]
  }
 ],
 "metadata": {
  "environment": {
   "kernel": "python3",
   "name": "tf2-gpu.2-6.m89",
   "type": "gcloud",
   "uri": "gcr.io/deeplearning-platform-release/tf2-gpu.2-6:m89"
  },
  "kernelspec": {
   "display_name": "Python 3",
   "language": "python",
   "name": "python3"
  },
  "language_info": {
   "codemirror_mode": {
    "name": "ipython",
    "version": 3
   },
   "file_extension": ".py",
   "mimetype": "text/x-python",
   "name": "python",
   "nbconvert_exporter": "python",
   "pygments_lexer": "ipython3",
   "version": "3.7.12"
  }
 },
 "nbformat": 4,
 "nbformat_minor": 5
}
